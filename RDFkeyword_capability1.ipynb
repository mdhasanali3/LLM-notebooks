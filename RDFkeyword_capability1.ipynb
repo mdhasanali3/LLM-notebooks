{
  "cells": [
    {
      "cell_type": "markdown",
      "id": "125965c6-e1c3-4982-88fa-74c4b81abc6e",
      "metadata": {
        "id": "125965c6-e1c3-4982-88fa-74c4b81abc6e"
      },
      "source": [
        "# motive manufacture industry\n",
        "1. load previous capability and keywords, if any\n",
        "2. search in the internet and compare with current info\n",
        "3. if there is new then build new capability and keyword for new info\n",
        "## notebook work plan\n",
        "1. load data from csv capability and keyword\n",
        "2. make agent that can collect info from internet and\n",
        "3. match collected information with existing RDF capabilities\n",
        "4. add new keyword"
      ]
    },
    {
      "cell_type": "code",
      "execution_count": null,
      "id": "2281b483-5b7a-44d8-bfdc-fbdb19bf29c1",
      "metadata": {
        "tags": [],
        "id": "2281b483-5b7a-44d8-bfdc-fbdb19bf29c1"
      },
      "outputs": [],
      "source": [
        "import pandas as pd\n",
        "import numpy as np\n",
        "import os\n",
        "import openai\n",
        "import csv\n",
        "import json\n",
        "import ast"
      ]
    },
    {
      "cell_type": "code",
      "execution_count": null,
      "id": "0b8ac14f-08e3-40a4-bb07-b63fd4668146",
      "metadata": {
        "tags": [],
        "id": "0b8ac14f-08e3-40a4-bb07-b63fd4668146"
      },
      "outputs": [],
      "source": [
        "# OpenAI API key and model ID\n",
        "openai.api_key = 'sk-AShvikk5X0djr'\n",
        "model_id = 'gpt-3.5-turbo'"
      ]
    },
    {
      "cell_type": "code",
      "execution_count": null,
      "id": "8518b4da-1b36-46b7-8513-dc64a430f376",
      "metadata": {
        "id": "8518b4da-1b36-46b7-8513-dc64a430f376"
      },
      "outputs": [],
      "source": []
    },
    {
      "cell_type": "code",
      "execution_count": null,
      "id": "06b18e0d-769f-4830-a7bd-3ba6ad4b73d4",
      "metadata": {
        "id": "06b18e0d-769f-4830-a7bd-3ba6ad4b73d4",
        "outputId": "7fbb240d-2923-4124-c212-d3c672f9a0f1"
      },
      "outputs": [
        {
          "name": "stdout",
          "output_type": "stream",
          "text": [
            "\u001b[33mWARNING: Ignoring invalid distribution -rotobuf (/opt/conda/lib/python3.10/site-packages)\u001b[0m\u001b[33m\n",
            "\u001b[0m\u001b[31mERROR: Could not install packages due to an OSError: [Errno 2] No such file or directory: '/opt/conda/lib/python3.10/site-packages/typing_extensions-4.7.1.dist-info/METADATA'\n",
            "\u001b[0m\u001b[31m\n",
            "\u001b[0m\u001b[33mWARNING: Ignoring invalid distribution -rotobuf (/opt/conda/lib/python3.10/site-packages)\u001b[0m\u001b[33m\n",
            "\u001b[0m\u001b[31mERROR: Could not install packages due to an OSError: [Errno 2] No such file or directory: '/opt/conda/lib/python3.10/site-packages/typing_extensions-4.7.1.dist-info/METADATA'\n",
            "\u001b[0m\u001b[31m\n",
            "\u001b[0m"
          ]
        }
      ],
      "source": [
        "!pip install -q langchain\n",
        "!pip install -q llama-index\n"
      ]
    },
    {
      "cell_type": "code",
      "execution_count": null,
      "id": "7d81891b-4a18-42d6-b32f-80b526881af4",
      "metadata": {
        "id": "7d81891b-4a18-42d6-b32f-80b526881af4"
      },
      "outputs": [],
      "source": [
        "from llama_index import VectorStoreIndex, SimpleDirectoryReader\n",
        "from IPython.display import Markdown, display\n",
        "from langchain.embeddings.huggingface import HuggingFaceEmbeddings\n",
        "from langchain.llms import GPT4All\n",
        "from llama_index.node_parser.simple import SimpleNodeParser\n",
        "from llama_index.langchain_helpers.text_splitter import TokenTextSplitter\n",
        "from llama_index.node_parser.simple import SimpleNodeParser\n",
        "from llama_index.langchain_helpers.text_splitter import TokenTextSplitter\n",
        "from llama_index import (\n",
        "    GPTVectorStoreIndex,\n",
        "    LangchainEmbedding,\n",
        "    LLMPredictor,\n",
        "    ServiceContext,\n",
        "    StorageContext,\n",
        "    download_loader,\n",
        "    PromptHelper,\n",
        "     SimpleDirectoryReader,\n",
        "    VectorStoreIndex,\n",
        "     SummaryIndex,\n",
        "    SimpleKeywordTableIndex,\n",
        "    ServiceContext,\n",
        "    KnowledgeGraphIndex,\n",
        ")\n",
        "from llama_index.schema import IndexNode\n",
        "from llama_index.tools import QueryEngineTool, ToolMetadata\n",
        "from llama_index.llms import OpenAI\n",
        "from llama_index.llms import LlamaCPP\n",
        "from llama_index.llms.llama_utils import messages_to_prompt, completion_to_prompt\n",
        "from langchain.llms import CTransformers\n",
        "from langchain.memory import ConversationBufferMemory\n",
        "import os\n",
        "from langchain.agents import load_tools\n",
        "from langchain.agents import initialize_agent\n",
        "from langchain.agents import AgentType\n",
        "from langchain.chat_models import ChatOpenAI\n",
        "# from langchain.tools import DuckDuckGoSearchTool\n",
        "from langchain.embeddings.openai import OpenAIEmbeddings\n",
        "from langchain.text_splitter import CharacterTextSplitter\n",
        "from langchain.text_splitter import RecursiveCharacterTextSplitter\n",
        "from langchain.vectorstores import FAISS\n",
        "from langchain.chains import RetrievalQA\n",
        "from langchain.document_loaders import TextLoader\n",
        "from langchain.document_loaders import PyPDFLoader\n",
        "from langchain.document_loaders import DirectoryLoader\n",
        "\n",
        "from langchain.agents import Tool\n",
        "from langchain.agents import AgentType\n",
        "from langchain.memory import ConversationBufferMemory\n",
        "from langchain import OpenAI\n",
        "from langchain.utilities import SerpAPIWrapper"
      ]
    },
    {
      "cell_type": "code",
      "execution_count": null,
      "id": "287f9e48-ef46-4ff9-ba2b-6426c5b3acba",
      "metadata": {
        "id": "287f9e48-ef46-4ff9-ba2b-6426c5b3acba",
        "outputId": "555b7028-e760-4065-d21c-ad28655544d5"
      },
      "outputs": [
        {
          "name": "stderr",
          "output_type": "stream",
          "text": [
            "/opt/conda/lib/python3.10/site-packages/langchain/llms/openai.py:202: UserWarning: You are trying to use a chat model. This way of initializing it is no longer supported. Instead, please use: `from langchain.chat_models import ChatOpenAI`\n",
            "  warnings.warn(\n",
            "/opt/conda/lib/python3.10/site-packages/langchain/llms/openai.py:790: UserWarning: You are trying to use a chat model. This way of initializing it is no longer supported. Instead, please use: `from langchain.chat_models import ChatOpenAI`\n",
            "  warnings.warn(\n"
          ]
        }
      ],
      "source": [
        "os.environ[\"OPENAI_API_KEY\"] = \"sk-AShvikkFTRz0djr\"\n",
        "\n",
        "llm4=OpenAI(temperature=0.3, model_name=\"gpt-4\")\n",
        "embed_model = OpenAIEmbeddings()"
      ]
    },
    {
      "cell_type": "code",
      "execution_count": null,
      "id": "136b6ecc-8340-4eb2-9bb8-1c18cde02f5e",
      "metadata": {
        "id": "136b6ecc-8340-4eb2-9bb8-1c18cde02f5e"
      },
      "outputs": [],
      "source": [
        "from llama_index import load_index_from_storage, StorageContext\n",
        "from llama_index.node_parser.extractors import (\n",
        "    MetadataExtractor,\n",
        "    SummaryExtractor,\n",
        "    QuestionsAnsweredExtractor,\n",
        "    TitleExtractor,\n",
        "    KeywordExtractor,\n",
        "    EntityExtractor,\n",
        ")\n",
        "\n",
        "from llama_index.text_splitter import TokenTextSplitter\n",
        "\n",
        "text_splitter = TokenTextSplitter(separator=\" \", chunk_size=512, chunk_overlap=100)\n",
        "\n",
        "metadata_extractor = MetadataExtractor(\n",
        "    extractors=[\n",
        "        # TitleExtractor(nodes=2,llm=llm3),\n",
        "        # QuestionsAnsweredExtractor(questions=3),\n",
        "         # SummaryExtractor(summaries=[\"prev\", \"self\"],llm=llm3),\n",
        "        KeywordExtractor(keywords=7,llm=llm4),\n",
        "        # EntityExtractor(prediction_threshold=0.5),\n",
        "    ],\n",
        ")\n",
        "\n",
        "node_parser = SimpleNodeParser.from_defaults(\n",
        "    text_splitter=text_splitter,\n",
        "    metadata_extractor=metadata_extractor,\n",
        ")\n",
        "\n",
        "service_context = ServiceContext.from_defaults(embed_model=embed_model,\n",
        "                                               llm=llm4,\n",
        "                                                node_parser=node_parser)\n"
      ]
    },
    {
      "cell_type": "markdown",
      "id": "c728494c-3330-4576-bec6-4bea72115019",
      "metadata": {
        "jp-MarkdownHeadingCollapsed": true,
        "tags": [],
        "id": "c728494c-3330-4576-bec6-4bea72115019"
      },
      "source": [
        "# data from pdf"
      ]
    },
    {
      "cell_type": "code",
      "execution_count": null,
      "id": "de99c0a0-80b4-4a92-925c-7fdb15b77355",
      "metadata": {
        "id": "de99c0a0-80b4-4a92-925c-7fdb15b77355",
        "outputId": "fd44ad87-d7a2-412f-cc9a-f0b252face74"
      },
      "outputs": [
        {
          "name": "stdout",
          "output_type": "stream",
          "text": [
            "\u001b[33mWARNING: Ignoring invalid distribution -rotobuf (/opt/conda/lib/python3.10/site-packages)\u001b[0m\u001b[33m\n",
            "\u001b[0m\u001b[33mWARNING: Error parsing requirements for pytz: [Errno 2] No such file or directory: '/opt/conda/lib/python3.10/site-packages/pytz-2023.3.dist-info/METADATA'\u001b[0m\u001b[33m\n",
            "\u001b[0m\u001b[33mWARNING: Error parsing requirements for typing-extensions: [Errno 2] No such file or directory: '/opt/conda/lib/python3.10/site-packages/typing_extensions-4.7.1.dist-info/METADATA'\u001b[0m\u001b[33m\n",
            "\u001b[0m\u001b[33mWARNING: Error parsing requirements for websocket-client: [Errno 2] No such file or directory: '/opt/conda/lib/python3.10/site-packages/websocket_client-1.6.2.dist-info/METADATA'\u001b[0m\u001b[33m\n",
            "\u001b[0m\u001b[33mWARNING: Error parsing requirements for zipp: [Errno 2] No such file or directory: '/opt/conda/lib/python3.10/site-packages/zipp-3.16.2.dist-info/METADATA'\u001b[0m\u001b[33m\n",
            "\u001b[0m\u001b[33mWARNING: Ignoring invalid distribution -rotobuf (/opt/conda/lib/python3.10/site-packages)\u001b[0m\u001b[33m\n",
            "\u001b[0m"
          ]
        }
      ],
      "source": [
        "!pip install -q fpdf\n"
      ]
    },
    {
      "cell_type": "code",
      "execution_count": null,
      "id": "83aa442c-846a-4fc5-aa48-2e7eea19ada5",
      "metadata": {
        "id": "83aa442c-846a-4fc5-aa48-2e7eea19ada5",
        "outputId": "d6035c56-2f6c-4cfa-adb1-c59960dab981"
      },
      "outputs": [
        {
          "data": {
            "text/plain": [
              "''"
            ]
          },
          "execution_count": 69,
          "metadata": {},
          "output_type": "execute_result"
        }
      ],
      "source": [
        "from fpdf import FPDF\n",
        "\n",
        "# PDF Class\n",
        "class PDF(FPDF):\n",
        "    def header(self):\n",
        "        self.set_font('Arial', 'B', 12)\n",
        "        self.cell(0, 10, 'Sentences to PDF', 0, 1, 'C')\n",
        "\n",
        "    def chapter_title(self, num, title):\n",
        "        self.set_font('Arial', 'B', 12)\n",
        "        self.cell(0, 10, 'Chapter %d: %s' % (num, title), 0, 1, 'L')\n",
        "        self.ln(10)\n",
        "\n",
        "    def add_paragraph(self, paragraph):\n",
        "        self.set_font(\"Arial\", size=12)\n",
        "        self.multi_cell(0, 10, paragraph)\n",
        "        self.ln(10)\n",
        "\n",
        "# Create PDF\n",
        "pdf = PDF()\n",
        "pdf.add_page()\n",
        "\n",
        "for i, row in df.iterrows():\n",
        "    pdf.add_paragraph(row['sentence'])\n",
        "\n",
        "pdf.output('./test/sentences.pdf')\n"
      ]
    },
    {
      "cell_type": "code",
      "execution_count": null,
      "id": "ded6609e-57ea-489f-904c-9e2ac5755f35",
      "metadata": {
        "id": "ded6609e-57ea-489f-904c-9e2ac5755f35"
      },
      "outputs": [],
      "source": [
        "# load documents\n",
        "documents = SimpleDirectoryReader(\"./test\").load_data()\n",
        "len(documents)\n",
        "\n",
        "nodes = node_parser.get_nodes_from_documents(documents)"
      ]
    },
    {
      "cell_type": "code",
      "execution_count": null,
      "id": "568a520a-363a-46dc-b3ed-938b2cddaec0",
      "metadata": {
        "id": "568a520a-363a-46dc-b3ed-938b2cddaec0",
        "outputId": "8b3a3b29-dd76-4bc4-8d54-dd9ddf2dc0dd"
      },
      "outputs": [
        {
          "name": "stdout",
          "output_type": "stream",
          "text": [
            "(whispers of nature, say goodbye, verdant hills)\n",
            "(gentle breeze, softly blows, rolling landscapes)\n",
            "(sea, sings, lullaby)\n",
            "(waves, repeat, rhythmic dance)\n",
            "(sea, cradling, shore)\n",
            "(computing industry, integrate, blockchain technology)\n",
            "(computing industry, promote, decentralization)\n",
            "(computing industry, enhance, security)\n",
            "(augmented reality, find, applications)\n",
            "(virtual reality, find, applications)\n"
          ]
        },
        {
          "name": "stderr",
          "output_type": "stream",
          "text": [
            "Retrying langchain.llms.openai.completion_with_retry.<locals>._completion_with_retry in 4.0 seconds as it raised APIError: Bad gateway. {\"error\":{\"code\":502,\"message\":\"Bad gateway.\",\"param\":null,\"type\":\"cf_bad_gateway\"}} 502 {'error': {'code': 502, 'message': 'Bad gateway.', 'param': None, 'type': 'cf_bad_gateway'}} {'Date': 'Mon, 30 Oct 2023 18:58:19 GMT', 'Content-Type': 'application/json', 'Content-Length': '84', 'Connection': 'keep-alive', 'X-Frame-Options': 'SAMEORIGIN', 'Referrer-Policy': 'same-origin', 'Cache-Control': 'private, max-age=0, no-store, no-cache, must-revalidate, post-check=0, pre-check=0', 'Expires': 'Thu, 01 Jan 1970 00:00:01 GMT', 'Server': 'cloudflare', 'CF-RAY': '81e5d92bed63e20f-ORD', 'alt-svc': 'h3=\":443\"; ma=86400'}.\n"
          ]
        },
        {
          "name": "stdout",
          "output_type": "stream",
          "text": [
            "(deep-cycle lead-acid batteries, designed for, regularly discharged)\n",
            "(deep-cycle lead-acid batteries, suited for, deep discharge applications)\n",
            "(lead-acid batteries, highly recyclable, lead and sulfuric acid)\n",
            "(lead-acid batteries, used to produce, new batteries)\n",
            "(governments, offer, incentives for purchasing electric vehicles)\n",
            "(incentives, include, tax credits)\n",
            "(incentives, include, rebates)\n",
            "(incentives, include, access to carpool lanes)\n",
            "(electric vehicles, offer, impressive acceleration and performance)\n",
            "(electric motors, provide, instant torque)\n"
          ]
        }
      ],
      "source": [
        "from llama_index.storage.storage_context import StorageContext\n",
        "from llama_index.graph_stores import SimpleGraphStore\n",
        "from llama_index.vector_stores import SimpleVectorStore\n",
        "\n",
        "graph_store = SimpleGraphStore()\n",
        "vector_store=SimpleVectorStore()\n",
        "storage_context = StorageContext.from_defaults(graph_store=graph_store,vector_store=vector_store)\n",
        "\n",
        "# NOTE: can take a while!\n",
        "kg_index = KnowledgeGraphIndex(\n",
        "    nodes,\n",
        "    # max_triplets_per_chunk=2,\n",
        "    storage_context=storage_context,\n",
        "    service_context=service_context,\n",
        ")\n",
        "# index_kg_node.storage_context.persist(persist_dir=\"./graph_data_node\")\n"
      ]
    },
    {
      "cell_type": "code",
      "execution_count": null,
      "id": "6e1e1571-121f-4af8-8da5-630e264167bf",
      "metadata": {
        "id": "6e1e1571-121f-4af8-8da5-630e264167bf"
      },
      "outputs": [],
      "source": [
        "kg_engine = kg_index.as_query_engine(include_text=False, response_mode=\"tree_summarize\")\n"
      ]
    },
    {
      "cell_type": "markdown",
      "id": "a30bc1c5-54aa-41e0-b93b-1005ec22912f",
      "metadata": {
        "id": "a30bc1c5-54aa-41e0-b93b-1005ec22912f"
      },
      "source": [
        "# data from csv"
      ]
    },
    {
      "cell_type": "code",
      "execution_count": null,
      "id": "319b4cd5-b601-46fa-b9d5-ddfd60111ad8",
      "metadata": {
        "id": "319b4cd5-b601-46fa-b9d5-ddfd60111ad8"
      },
      "outputs": [],
      "source": [
        "df=pd.read_csv(\"./capabilities/Sample CapKey - del - Sheet1.csv\")"
      ]
    },
    {
      "cell_type": "code",
      "execution_count": null,
      "id": "c289289c-8e79-41ed-8483-a5069c78ba52",
      "metadata": {
        "id": "c289289c-8e79-41ed-8483-a5069c78ba52",
        "outputId": "c6c6a8d4-de15-487a-f804-9a44f86b30d6"
      },
      "outputs": [
        {
          "data": {
            "text/html": [
              "<div>\n",
              "<style scoped>\n",
              "    .dataframe tbody tr th:only-of-type {\n",
              "        vertical-align: middle;\n",
              "    }\n",
              "\n",
              "    .dataframe tbody tr th {\n",
              "        vertical-align: top;\n",
              "    }\n",
              "\n",
              "    .dataframe thead th {\n",
              "        text-align: right;\n",
              "    }\n",
              "</style>\n",
              "<table border=\"1\" class=\"dataframe\">\n",
              "  <thead>\n",
              "    <tr style=\"text-align: right;\">\n",
              "      <th></th>\n",
              "      <th>Capability</th>\n",
              "      <th>Keyword 1</th>\n",
              "      <th>Keyword 2</th>\n",
              "      <th>Keyword 3</th>\n",
              "      <th>Keyword 4</th>\n",
              "      <th>Keyword 5</th>\n",
              "    </tr>\n",
              "  </thead>\n",
              "  <tbody>\n",
              "    <tr>\n",
              "      <th>0</th>\n",
              "      <td>Advanced Manufacturing</td>\n",
              "      <td>precision engineering</td>\n",
              "      <td>automated assembly lines</td>\n",
              "      <td>robotic fabrication</td>\n",
              "      <td>quality control systems</td>\n",
              "      <td>lean manufacturing processes</td>\n",
              "    </tr>\n",
              "    <tr>\n",
              "      <th>1</th>\n",
              "      <td>Materials Science</td>\n",
              "      <td>lightweight composites</td>\n",
              "      <td>thermal insulation materials</td>\n",
              "      <td>corrosion-resistant coatings</td>\n",
              "      <td>sustainable materials</td>\n",
              "      <td>high-strength alloys</td>\n",
              "    </tr>\n",
              "    <tr>\n",
              "      <th>2</th>\n",
              "      <td>Engineering Expertise</td>\n",
              "      <td>aerodynamic optimization</td>\n",
              "      <td>structural analysis</td>\n",
              "      <td>systems integration</td>\n",
              "      <td>thermal management</td>\n",
              "      <td>acoustic engineering</td>\n",
              "    </tr>\n",
              "    <tr>\n",
              "      <th>3</th>\n",
              "      <td>Technology Integration</td>\n",
              "      <td>internet of things (IoT)</td>\n",
              "      <td>onboard diagnostics</td>\n",
              "      <td>automated driver assistance systems</td>\n",
              "      <td>smart energy systems</td>\n",
              "      <td>connectivity solutions</td>\n",
              "    </tr>\n",
              "    <tr>\n",
              "      <th>4</th>\n",
              "      <td>Safety Innovations</td>\n",
              "      <td>collision avoidance systems</td>\n",
              "      <td>advanced airbag technology</td>\n",
              "      <td>structural reinforcements</td>\n",
              "      <td>fire suppression systems</td>\n",
              "      <td>emergency response features</td>\n",
              "    </tr>\n",
              "    <tr>\n",
              "      <th>5</th>\n",
              "      <td>Energy Efficiency</td>\n",
              "      <td>hybrid powertrains</td>\n",
              "      <td>solar energy harnessing</td>\n",
              "      <td>battery management systems</td>\n",
              "      <td>energy recovery systems</td>\n",
              "      <td>alternative fuel technologies</td>\n",
              "    </tr>\n",
              "    <tr>\n",
              "      <th>6</th>\n",
              "      <td>Digital User Experience</td>\n",
              "      <td>user interface design</td>\n",
              "      <td>mobile application control</td>\n",
              "      <td>digital dashboards</td>\n",
              "      <td>remote vehicle management</td>\n",
              "      <td>online service platforms</td>\n",
              "    </tr>\n",
              "    <tr>\n",
              "      <th>7</th>\n",
              "      <td>Software Development</td>\n",
              "      <td>custom software solutions</td>\n",
              "      <td>firmware updates</td>\n",
              "      <td>vehicle monitoring software</td>\n",
              "      <td>navigation and mapping services</td>\n",
              "      <td>entertainment system integration</td>\n",
              "    </tr>\n",
              "    <tr>\n",
              "      <th>8</th>\n",
              "      <td>Environmental Engineering</td>\n",
              "      <td>waste reduction systems</td>\n",
              "      <td>eco-friendly waste management</td>\n",
              "      <td>emissions control</td>\n",
              "      <td>renewable energy integration</td>\n",
              "      <td>sustainable design practices</td>\n",
              "    </tr>\n",
              "    <tr>\n",
              "      <th>9</th>\n",
              "      <td>After-Sales Technical Support</td>\n",
              "      <td>technical troubleshooting</td>\n",
              "      <td>maintenance services</td>\n",
              "      <td>software support</td>\n",
              "      <td>warranty service</td>\n",
              "      <td>remote technical assistanc</td>\n",
              "    </tr>\n",
              "  </tbody>\n",
              "</table>\n",
              "</div>"
            ],
            "text/plain": [
              "                      Capability                    Keyword 1  \\\n",
              "0         Advanced Manufacturing        precision engineering   \n",
              "1              Materials Science       lightweight composites   \n",
              "2          Engineering Expertise     aerodynamic optimization   \n",
              "3         Technology Integration     internet of things (IoT)   \n",
              "4             Safety Innovations  collision avoidance systems   \n",
              "5              Energy Efficiency           hybrid powertrains   \n",
              "6        Digital User Experience        user interface design   \n",
              "7           Software Development    custom software solutions   \n",
              "8      Environmental Engineering      waste reduction systems   \n",
              "9  After-Sales Technical Support    technical troubleshooting   \n",
              "\n",
              "                       Keyword 2                            Keyword 3  \\\n",
              "0       automated assembly lines                  robotic fabrication   \n",
              "1   thermal insulation materials         corrosion-resistant coatings   \n",
              "2            structural analysis                  systems integration   \n",
              "3            onboard diagnostics  automated driver assistance systems   \n",
              "4     advanced airbag technology            structural reinforcements   \n",
              "5        solar energy harnessing           battery management systems   \n",
              "6     mobile application control                   digital dashboards   \n",
              "7               firmware updates          vehicle monitoring software   \n",
              "8  eco-friendly waste management                    emissions control   \n",
              "9           maintenance services                     software support   \n",
              "\n",
              "                         Keyword 4                         Keyword 5  \n",
              "0          quality control systems      lean manufacturing processes  \n",
              "1            sustainable materials              high-strength alloys  \n",
              "2               thermal management              acoustic engineering  \n",
              "3             smart energy systems            connectivity solutions  \n",
              "4         fire suppression systems       emergency response features  \n",
              "5          energy recovery systems     alternative fuel technologies  \n",
              "6        remote vehicle management          online service platforms  \n",
              "7  navigation and mapping services  entertainment system integration  \n",
              "8     renewable energy integration      sustainable design practices  \n",
              "9                 warranty service        remote technical assistanc  "
            ]
          },
          "execution_count": 11,
          "metadata": {},
          "output_type": "execute_result"
        }
      ],
      "source": [
        "df"
      ]
    },
    {
      "cell_type": "code",
      "execution_count": null,
      "id": "b84c0f9a-e748-4dae-892d-b0ce6d4c6433",
      "metadata": {
        "id": "b84c0f9a-e748-4dae-892d-b0ce6d4c6433"
      },
      "outputs": [],
      "source": [
        "cap_li=df[\"Capability\"]"
      ]
    },
    {
      "cell_type": "code",
      "execution_count": null,
      "id": "24ebf8ab-77ca-49c8-9f9b-e2a042f1ecf0",
      "metadata": {
        "id": "24ebf8ab-77ca-49c8-9f9b-e2a042f1ecf0",
        "outputId": "5c8d1ee4-04ea-491c-b022-e144ae64b747"
      },
      "outputs": [
        {
          "data": {
            "text/plain": [
              "0           Advanced Manufacturing\n",
              "1                Materials Science\n",
              "2            Engineering Expertise\n",
              "3           Technology Integration\n",
              "4               Safety Innovations\n",
              "5                Energy Efficiency\n",
              "6          Digital User Experience\n",
              "7             Software Development\n",
              "8        Environmental Engineering\n",
              "9    After-Sales Technical Support\n",
              "Name: Capability, dtype: object"
            ]
          },
          "execution_count": 13,
          "metadata": {},
          "output_type": "execute_result"
        }
      ],
      "source": [
        "cap_li"
      ]
    },
    {
      "cell_type": "code",
      "execution_count": null,
      "id": "e699b908-f287-41c2-9bf0-8fcb69485b43",
      "metadata": {
        "id": "e699b908-f287-41c2-9bf0-8fcb69485b43"
      },
      "outputs": [],
      "source": [
        "prompt2=f\"\"\"\n",
        "you are an expert in building Resource Description Framework (RDF).\n",
        "so from the given sentence, give me a relationship in the following format.\n",
        "\n",
        "Here are two examples:\n",
        "example 1: {{'sentence': 'Lithium-ion batteries have dominated the market for years.', 'Capability': 'Battery Type', 'Keywords': ['Lithium-ion', 'Solid-state', 'Flow battery']}}\n",
        "example 2: {{'sentence': 'Solid-state batteries promise a higher energy density.', 'Capability': 'Energy Density', 'Keywords': ['High', 'Low', None]}}\n",
        "\n",
        "You have to check one condition before generating the RDF:\n",
        "Only generate RDF if the given sentence can produce a Capability from this list.\n",
        "Ensure that the RDF generated Capability must be the same as in the given list.\n",
        "Else, reply: {{'sentence': 'user given sentence', 'Capability': 'not matched', 'keywords': ['none']}}.\n",
        "\n",
        "Here is the Capability list: {cap_li}.\n",
        "\n",
        "Now, give me an answer for the sentence:\n",
        "\n",
        "\"\"\""
      ]
    },
    {
      "cell_type": "code",
      "execution_count": null,
      "id": "3e96e63c-3477-4bc2-b7ed-4071d1cae849",
      "metadata": {
        "id": "3e96e63c-3477-4bc2-b7ed-4071d1cae849"
      },
      "outputs": [],
      "source": [
        "try:\n",
        "    df = pd.read_csv('new_rdf.csv')\n",
        "except FileNotFoundError:\n",
        "    df = pd.DataFrame(columns=['sentence', 'Capability', 'Keywords'])\n",
        "\n",
        "def rdf_match(text):\n",
        "    response = openai.ChatCompletion.create(\n",
        "        model=\"gpt-4\",\n",
        "        messages=[\n",
        "            {\"role\": \"system\", \"content\": prompt2},\n",
        "            {\"role\": \"user\", \"content\": text}\n",
        "        ]\n",
        "    )\n",
        "\n",
        "    output = response.choices[0].message.content\n",
        "    print(\"rdf output is \", output)\n",
        "\n",
        "\n",
        "    data_dict = ast.literal_eval(output)\n",
        "    # Check if 'Keywords' is in the dictionary and is not None\n",
        "    if 'Keywords' in data_dict and data_dict['Keywords'] is not None:\n",
        "        # Ensure all items in the list are strings\n",
        "        data_dict['Keywords'] = ', '.join(str(kw) for kw in data_dict['Keywords'] if kw is not None)\n",
        "    else:\n",
        "        data_dict['Keywords'] = ''\n",
        "\n",
        "    # Concatenate the new data to the DataFrame\n",
        "    new_row = pd.DataFrame([data_dict])\n",
        "    global df\n",
        "    df = pd.concat([df, new_row], ignore_index=True)\n",
        "\n",
        "    return output\n"
      ]
    },
    {
      "cell_type": "code",
      "execution_count": null,
      "id": "c8d56ee5-e359-4565-acfa-895f34689a4e",
      "metadata": {
        "id": "c8d56ee5-e359-4565-acfa-895f34689a4e",
        "outputId": "dc99342a-267d-4365-de03-ac1241523b43"
      },
      "outputs": [
        {
          "name": "stdout",
          "output_type": "stream",
          "text": [
            "rdf output is  {'sentence': 'Solar technologies convert sunlight into electrical energy either through photovoltaic panels or through mirrors that concentrate solar radiation.', 'Capability': 'Energy Efficiency', 'Keywords': ['Solar technologies', 'sunlight', 'electrical energy', 'photovoltaic panels', 'mirrors', 'concentrate solar radiation']}\n"
          ]
        },
        {
          "data": {
            "text/plain": [
              "\"{'sentence': 'Solar technologies convert sunlight into electrical energy either through photovoltaic panels or through mirrors that concentrate solar radiation.', 'Capability': 'Energy Efficiency', 'Keywords': ['Solar technologies', 'sunlight', 'electrical energy', 'photovoltaic panels', 'mirrors', 'concentrate solar radiation']}\""
            ]
          },
          "execution_count": 69,
          "metadata": {},
          "output_type": "execute_result"
        }
      ],
      "source": [
        "rdf_match(\"\"\"Solar technologies convert sunlight into electrical energy either through photovoltaic panels or through mirrors that concentrate solar radiation.\"\"\")"
      ]
    },
    {
      "cell_type": "code",
      "execution_count": null,
      "id": "a7278ff6-4814-4d64-a061-dea6d25a084c",
      "metadata": {
        "id": "a7278ff6-4814-4d64-a061-dea6d25a084c"
      },
      "outputs": [],
      "source": []
    },
    {
      "cell_type": "markdown",
      "id": "6c388cf4-279b-438e-8156-d03155917a48",
      "metadata": {
        "tags": [],
        "id": "6c388cf4-279b-438e-8156-d03155917a48"
      },
      "source": [
        "# Reactive agent for new sentence"
      ]
    },
    {
      "cell_type": "markdown",
      "id": "6e2c2a92-81d1-4bf2-a6df-60b266c715e4",
      "metadata": {
        "id": "6e2c2a92-81d1-4bf2-a6df-60b266c715e4"
      },
      "source": [
        "## google search tool"
      ]
    },
    {
      "cell_type": "code",
      "execution_count": null,
      "id": "19351ca7-b1b7-438e-bee7-47af38d8ae51",
      "metadata": {
        "id": "19351ca7-b1b7-438e-bee7-47af38d8ae51"
      },
      "outputs": [],
      "source": [
        "import os\n",
        "\n",
        "os.environ[\"GOOGLE_CSE_ID\"] = \"816ee7\"\n",
        "os.environ[\"GOOGLE_API_KEY\"] = \"AIzaSmApX6B8g5c\""
      ]
    },
    {
      "cell_type": "code",
      "execution_count": null,
      "id": "a33762fc-2f90-472a-a6ff-1cc75cece244",
      "metadata": {
        "id": "a33762fc-2f90-472a-a6ff-1cc75cece244"
      },
      "outputs": [],
      "source": [
        "from langchain.tools import Tool\n",
        "from langchain.utilities import GoogleSearchAPIWrapper\n",
        "\n",
        "search = GoogleSearchAPIWrapper()\n",
        "\n",
        "gs_tool = Tool(\n",
        "    name=\"Google Search\",\n",
        "    description=\"Search Google for recent results.\",\n",
        "    func=search.run,\n",
        ")"
      ]
    },
    {
      "cell_type": "code",
      "execution_count": null,
      "id": "86f9081f-8aa7-4ce1-8dcf-d6071f0b161f",
      "metadata": {
        "id": "86f9081f-8aa7-4ce1-8dcf-d6071f0b161f"
      },
      "outputs": [],
      "source": []
    },
    {
      "cell_type": "markdown",
      "id": "8ea87981-bb80-4385-8de4-756d66f56731",
      "metadata": {
        "id": "8ea87981-bb80-4385-8de4-756d66f56731"
      },
      "source": [
        "## duck duck go"
      ]
    },
    {
      "cell_type": "code",
      "execution_count": null,
      "id": "3783f99f-0219-4c49-b037-bc91b1c1cf77",
      "metadata": {
        "id": "3783f99f-0219-4c49-b037-bc91b1c1cf77"
      },
      "outputs": [],
      "source": [
        "#making search tool\n",
        "from langchain.tools import DuckDuckGoSearchRun\n",
        "search_duck = DuckDuckGoSearchRun()\n",
        "search_tool_duck = Tool(name=\"search_tool_duck\", description = \"Useful for when you need to search the net for current events,latest informations \",func = search_duck.run)\n"
      ]
    },
    {
      "cell_type": "code",
      "execution_count": null,
      "id": "df3f928b-e6ee-400f-bacc-0d2eaa104e13",
      "metadata": {
        "id": "df3f928b-e6ee-400f-bacc-0d2eaa104e13"
      },
      "outputs": [],
      "source": []
    },
    {
      "cell_type": "markdown",
      "id": "2ba11296-3888-4874-a6de-e963504c8a73",
      "metadata": {
        "id": "2ba11296-3888-4874-a6de-e963504c8a73"
      },
      "source": [
        "## wiki"
      ]
    },
    {
      "cell_type": "code",
      "execution_count": null,
      "id": "28f40912-f2e3-4713-873d-5b9b9a993ca7",
      "metadata": {
        "id": "28f40912-f2e3-4713-873d-5b9b9a993ca7",
        "outputId": "5a7e951b-b106-43bb-8405-74e44760fad8"
      },
      "outputs": [
        {
          "name": "stdout",
          "output_type": "stream",
          "text": [
            "\u001b[33mWARNING: Ignoring invalid distribution -rotobuf (/opt/conda/lib/python3.10/site-packages)\u001b[0m\u001b[33m\n",
            "\u001b[0m\u001b[33mWARNING: Error parsing requirements for pytz: [Errno 2] No such file or directory: '/opt/conda/lib/python3.10/site-packages/pytz-2023.3.dist-info/METADATA'\u001b[0m\u001b[33m\n",
            "\u001b[0m\u001b[33mWARNING: Error parsing requirements for typing-extensions: [Errno 2] No such file or directory: '/opt/conda/lib/python3.10/site-packages/typing_extensions-4.7.1.dist-info/METADATA'\u001b[0m\u001b[33m\n",
            "\u001b[0m\u001b[33mWARNING: Error parsing requirements for websocket-client: [Errno 2] No such file or directory: '/opt/conda/lib/python3.10/site-packages/websocket_client-1.6.2.dist-info/METADATA'\u001b[0m\u001b[33m\n",
            "\u001b[0m\u001b[33mWARNING: Error parsing requirements for zipp: [Errno 2] No such file or directory: '/opt/conda/lib/python3.10/site-packages/zipp-3.16.2.dist-info/METADATA'\u001b[0m\u001b[33m\n",
            "\u001b[0m\u001b[33mWARNING: Ignoring invalid distribution -rotobuf (/opt/conda/lib/python3.10/site-packages)\u001b[0m\u001b[33m\n",
            "\u001b[0m"
          ]
        }
      ],
      "source": [
        "!pip install -q wikipedia\n",
        "from langchain.utilities import WikipediaAPIWrapper\n",
        "wikipedia = WikipediaAPIWrapper()\n",
        "wiki = Tool(name=\"wiki\", description = \"Useful for when you need to search for all basic information , references, history\",func = wikipedia.run)"
      ]
    },
    {
      "cell_type": "code",
      "execution_count": null,
      "id": "dee7bdd8-0756-4c22-9cb8-42afe8d32090",
      "metadata": {
        "id": "dee7bdd8-0756-4c22-9cb8-42afe8d32090"
      },
      "outputs": [],
      "source": []
    },
    {
      "cell_type": "code",
      "execution_count": null,
      "id": "353b108b-2f82-4c50-a5d0-9d2bf7586f83",
      "metadata": {
        "id": "353b108b-2f82-4c50-a5d0-9d2bf7586f83"
      },
      "outputs": [],
      "source": []
    },
    {
      "cell_type": "markdown",
      "id": "38b50982-d171-4e2e-9b61-87acb96ed844",
      "metadata": {
        "id": "38b50982-d171-4e2e-9b61-87acb96ed844"
      },
      "source": [
        "## build agent"
      ]
    },
    {
      "cell_type": "code",
      "execution_count": null,
      "id": "16df4321-2114-48fa-a32d-25c8a24b55e5",
      "metadata": {
        "id": "16df4321-2114-48fa-a32d-25c8a24b55e5"
      },
      "outputs": [],
      "source": [
        "\n",
        "# Define the available tools\n",
        "tool_options = {\n",
        "    \"google\": gs_tool,\n",
        "    \"duckduckgo\": search_tool_duck,\n",
        "    \"wikipedia\": wiki\n",
        "}\n",
        "\n",
        "final_responses = []  # List to store all responses\n",
        "\n",
        "def agent_call(query, tool):\n",
        "    conversational_agent.tools = [tool]  # Set the selected tool for the agent to use\n",
        "    response = conversational_agent(query)  # Call the agent to iterate with the given tool and query\n",
        "    return response['output']\n",
        "\n",
        "def ask_for_tool():\n",
        "    tool_name = input(\"\"\"Which tool do you want to use? (google, duckduckgo, wikipedia): enter \"exit\" if you want to finish\"\"\")\n",
        "    return tool_name.lower()\n",
        "\n",
        "def new_info_agent(query):\n",
        "    while True:\n",
        "        selected_tool_name = ask_for_tool()\n",
        "\n",
        "        if selected_tool_name.lower() == 'exit':\n",
        "            print(\"Exiting the tool selection.\")\n",
        "            print(\"Response:\", final_responses)\n",
        "            break\n",
        "        selected_tool = tool_options.get(selected_tool_name)\n",
        "\n",
        "        if selected_tool:\n",
        "            response = agent_call(query, selected_tool)\n",
        "            final_responses.append(response)\n",
        "            print(\"Response:\", response)\n",
        "        else:\n",
        "            print(\"Unknown tool. Please choose between 'google', 'duckduckgo', or 'wikipedia'.\")\n"
      ]
    },
    {
      "cell_type": "code",
      "execution_count": null,
      "id": "befdc588-2f57-4202-a5a8-908677adda26",
      "metadata": {
        "id": "befdc588-2f57-4202-a5a8-908677adda26"
      },
      "outputs": [],
      "source": [
        "from langchain.prompts import PromptTemplate\n",
        "\n",
        "# prompt_template = PromptTemplate.from_template(\n",
        "# \"Tell me a joke\"\n",
        "# )\n",
        "\n",
        "# memory = ConversationBufferMemory(memory_key=\"chat_history\", return_messages=True)\n",
        "\n",
        "tools = [wiki,search_tool_duck,gs_tool]\n",
        "# tools = [gs_tool]\n",
        "\n",
        "# create our agent search_tool_duck\n",
        "conversational_agent = initialize_agent(tools=tools,\n",
        "                                        llm=llm4,\n",
        "                                        agent=AgentType.ZERO_SHOT_REACT_DESCRIPTION,\n",
        "                                        # ZERO_SHOT_REACT_DESCRIPTION,\n",
        "                                        # CONVERSATIONAL_REACT_DESCRIPTION,\n",
        "\n",
        "                                        max_iteration=1,\n",
        "                                        early_stopping_method='generate',\n",
        "                                        # memory=memory,\n",
        "                                        verbose=True,\n",
        "                                        handle_parsing_errors=True,\n",
        "\n",
        "                                        )\n",
        "\n"
      ]
    },
    {
      "cell_type": "code",
      "execution_count": null,
      "id": "1d59c10d-95aa-4748-9b92-75539fda6ff3",
      "metadata": {
        "id": "1d59c10d-95aa-4748-9b92-75539fda6ff3",
        "outputId": "1cd8e55a-daf9-41c9-ec28-84d47d452f3c"
      },
      "outputs": [
        {
          "name": "stdin",
          "output_type": "stream",
          "text": [
            "Which tool do you want to use? (google, duckduckgo, wikipedia): enter \"exit\" if you want to finish google\n"
          ]
        },
        {
          "name": "stdout",
          "output_type": "stream",
          "text": [
            "\n",
            "\n",
            "\u001b[1m> Entering new AgentExecutor chain...\u001b[0m\n",
            "\u001b[32;1m\u001b[1;3mThis question is asking for current information, so I should use a search tool that provides the most recent data.\n",
            "Action: search_tool_duck\n",
            "Action Input: Current leader in sustainable energy industry\u001b[0m\n",
            "Observation: search_tool_duck is not a valid tool, try one of [Google Search].\n",
            "Thought:\u001b[32;1m\u001b[1;3mI need to use Google Search to find the most recent information.\n",
            "Action: Google Search\n",
            "Action Input: Current leader in sustainable energy industry\u001b[0m\n",
            "Observation: \u001b[36;1m\u001b[1;3mDec 8, 2021 ... ... leader in sustainability, it is hereby ordered as follows: Section ... current, and thermal), geothermal, hydroelectric, nuclear, renewably ... Jul 2, 2021 ... ... current top energy sources. Unlike fossil fuels, renewables ... Developed with input from expert faculty, industry leaders and sustainable energy ... Dec 8, 2021 ... The executive order will reduce emissions across federal operations, invest in American clean energy industries and manufacturing, and create ... Texas' Energy Profile A Review of the State's Current Traditional and Renewable Energy Capabilities ... energy industry, increasing volatility in the market. The ... Feb 3, 2023 ... Early movers—industry incumbents and pure-play, clean-energy players ... sector may increasingly need to balance their attention between current ... Competitive costs, supportive policies, and growing demand could help the renewable energy industry navigate headwinds and set the stage for growth in 2023. President Biden's Executive Order 14057 on catalyzing American clean energy industries and jobs through Federal sustainability and accompanying Federal ... 3 days ago ... Vestas is the renewable energy industry's global partner on sustainable energy solutions ... Current share price. 162.80 +0.93%. November 6, 2023 ... Aug 15, 2022 ... ... leader in renewable energy? It may seem counter-intuitive, but China ... market and the creation of a reliable and resilient energy system. Oct 26, 2022 ... Still, China's clean energy leadership is signaled not just by its robust ... clean energy sector. A case study in solar energy: Nowhere is ...\u001b[0m\n",
            "Thought:\u001b[32;1m\u001b[1;3mThe search results mention China as a leader in renewable energy, but also mention Vestas, a company that is a global partner on sustainable energy solutions. I should look up both to confirm.\n",
            "Action: Google Search\n",
            "Action Input: China renewable energy leadership\u001b[0m\n",
            "Observation: \u001b[36;1m\u001b[1;3mChina is now the undisputable global leader of renewable energy expansion worldwide, and the IEA forecasts that by 2021, more than one-third of global ... Oct 6, 2017 ... In this issue: The East Is Green: China's Global Leadership in Renewable Energy · China's Youth Social Credit System May Undermine CCP ... Oct 26, 2022 ... It leads the world in renewable energy production figures and is the world's largest producer of wind and solar energy, as well as the largest ... Mar 8, 2023 ... China is recognized as the undisputable global leader in renewable energy expansion, adding new projects to the grid almost as fast as the rest ... Feb 28, 2020 ... China has never been the most enthusiastic party to international climate accords, but Beijing might end up saving the planet anyway. Jun 28, 2023 ... The Chinese president, Xi Jinping, pledged in 2020 to achieve peak CO 2 emissions before 2030 and carbon neutrality by 2060. Mar 1, 2023 ... LITTLETON, Colorado, Feb 28 (Reuters) - China has been the world's largest and fastest-growing producer of renewable energy for more than a ... Jan 2, 2022 ... China will continue to be the global leader in renewable energy capacity growth over the next five years, despite phasing out renewable ... Jan 11, 2019 ... China also has a clear lead in terms of the underlying technology, with well over 150,000 renewable energy patents as of 2016, 29% of the global ... According to the “China Renewable Energy Development Report 2022,” China's installed renewable energy capacity reached 1.213 billion kilowatts by the end of ...\u001b[0m\n",
            "Thought:\u001b[32;1m\u001b[1;3mChina is indeed a global leader in renewable energy, being the largest producer of wind and solar energy. Now, I should look up Vestas to see if they are also a leader in the industry.\n",
            "Action: Google Search\n",
            "Action Input: Vestas sustainable energy\u001b[0m\n",
            "Observation: \u001b[36;1m\u001b[1;3m3 days ago ... Vestas is the renewable energy industry's global partner on sustainable energy solutions. We design, manufacture, install, and service wind ... Renewable Energy Leader ... Vestas is a market leader in the North American wind industry with 45,000 MW installed and 40,000+ MW under service in the U.S. and ... 6 days ago ... Wind energy is our heritage and core competence. We believe wind will form the backbone of the sustainable energy systems of the future, and we ... Aug 5, 2022 ... Vestas is the energy industry's global partner on sustainable energy solutions. We design, manufacture, install, and service wind turbines ... 2 days ago ... Sustainability at Vestas means reducing or eliminating negative environmental and social impacts, as well as maximising the value that our ... At Vestas, the Service Analytics team works with Dataiku to play a key role in keeping the company at the forefront of a sustainable future. Nov 2, 2021 ... Global leader in sustainable energy solutions Vestas Wind Systems A/S wanted to optimize wind energy production by reducing the negative ... Jun 8, 2023 ... Vestas Wind Systems is a global sustainable energy partner ... From renewable applications to developing the sustainability talent pool, Vestas ... Dec 13, 2022 ... Vestas is the energy industry's global partner on sustainable energy solutions. We design, manufacture, install, and service onshore and ... A pioneer in wind energy technology, dedicated to meet the Customer expectation in terms of lowest Levelized cost of Energy (LCOE) in this dynamic auction ...\u001b[0m\n",
            "Thought:\u001b[32;1m\u001b[1;3mVestas is indeed a leader in the sustainable energy industry, specifically in wind energy. They design, manufacture, install, and service wind turbines globally. \n",
            "Final Answer: The current leaders in the sustainable energy industry are China, as the largest producer of wind and solar energy, and Vestas, a global leader in wind energy.\u001b[0m\n",
            "\n",
            "\u001b[1m> Finished chain.\u001b[0m\n",
            "Response: The current leaders in the sustainable energy industry are China, as the largest producer of wind and solar energy, and Vestas, a global leader in wind energy.\n"
          ]
        },
        {
          "name": "stdin",
          "output_type": "stream",
          "text": [
            "Which tool do you want to use? (google, duckduckgo, wikipedia): enter \"exit\" if you want to finish wikipedia\n"
          ]
        },
        {
          "name": "stdout",
          "output_type": "stream",
          "text": [
            "\n",
            "\n",
            "\u001b[1m> Entering new AgentExecutor chain...\u001b[0m\n",
            "\u001b[32;1m\u001b[1;3mI need to find the latest information about the leader in the sustainable energy industry.\n",
            "Action: search_tool_duck\n",
            "Action Input: Current leader in sustainable energy industry\u001b[0m\n",
            "Observation: search_tool_duck is not a valid tool, try one of [wiki].\n",
            "Thought:\u001b[32;1m\u001b[1;3mI made a mistake in choosing the tool. I should use Google Search for recent and updated information.\n",
            "Action: Google Search\n",
            "Action Input: Current leader in sustainable energy industry\u001b[0m\n",
            "Observation: Google Search is not a valid tool, try one of [wiki].\n",
            "Thought:\u001b[32;1m\u001b[1;3mIt seems I am limited to using wiki for this task. However, wiki might not have the most current information on this topic. I'll try to use it anyway.\n",
            "Action: wiki\n",
            "Action Input: Sustainable energy industry\u001b[0m\n",
            "Observation: \u001b[36;1m\u001b[1;3mPage: Sustainable industries\n",
            "Summary: The phrase sustainable industries is related to the development of industrial processes in a sustainable way. The phrase refers to greening of energy intensive industries such as the textiles, steel, cement, and paper industries.\n",
            "\n",
            "Page: Sustainable energy\n",
            "Summary: Energy is sustainable if it \"meets the needs of the present without compromising the ability of future generations to meet their own needs.\"  Most definitions of sustainable energy include considerations of environmental aspects such as greenhouse gas emissions and social and economic aspects such as energy poverty. Renewable energy sources such as wind, hydroelectric power, solar, and geothermal energy are generally far more sustainable than fossil fuel sources. However, some renewable energy projects, such as the clearing of forests to produce biofuels, can cause severe environmental damage.\n",
            "The role of non-renewable energy sources in sustainable energy has been controversial. Nuclear power is a low-carbon source whose historic mortality rates are comparable to those of wind and solar, but its sustainability has been debated because of concerns about radioactive waste, nuclear proliferation, and accidents. Switching from coal to natural gas has environmental benefits, including a lower climate impact, but may lead to a delay in switching to more sustainable options. Carbon capture and storage can be built into power plants to remove their carbon dioxide (CO2) emissions, but this technology is expensive and has rarely been implemented.\n",
            "Fossil fuels provide 85% of the world's energy consumption, and the energy system is responsible for 76% of global greenhouse gas emissions. Around 790 million people in developing countries lack access to electricity, and 2.6 billion rely on polluting fuels such as wood or charcoal to cook. Reducing greenhouse gas emissions to levels consistent with the 2015 Paris Agreement will require a system-wide transformation of the way energy is produced, distributed, stored, and consumed. The burning of fossil fuels and biomass is a major contributor to air pollution, which causes an estimated 7 million deaths each year. Therefore, the transition to a low-carbon energy system would have strong co-benefits for human health. Pathways exist to provide universal access to electricity and clean cooking in ways that are compatible with climate goals while bringing major health and economic benefits to developing countries.\n",
            "Climate change mitigation pathways have been proposed to limit global warming to 2 °C (3.6 °F). These pathways include phasing out coal-fired power plants, producing more electricity from clean sources such as wind and solar, and shifting towards using electricity instead of fossil fuels in sectors such as transport and heating buildings. For some energy-intensive technologies and processes that are difficult to electrify, many pathways describe a growing role for hydrogen fuel produced from low-emission energy sources. To accommodate larger shares of variable renewable energy, electrical grids require flexibility through infrastructure such as energy storage. To make deep reductions in emissions, infrastructure and technologies that use energy, such as buildings and transport systems, would need to be changed to use clean forms of energy and also conserve energy. Some critical technologies for eliminating energy-related greenhouse gas emissions are not yet mature.  \n",
            "Wind and solar energy generated 8.5% of worldwide electricity in 2019. This share has grown rapidly while costs have fallen and are projected to continue falling. The Intergovernmental Panel on Climate Change (IPCC) estimates that 2.5% of world gross domestic product (GDP) would need to be invested in the energy system each year between 2016 and 2035 to limit global warming to 1.5 °C (2.7 °F). Well-designed government policies that promote energy system transformation can lower greenhouse gas emissions and improve air quality. In\u001b[0m\n",
            "Thought:\u001b[32;1m\u001b[1;3mThe wiki search did not provide a specific company or individual as the current leader in the sustainable energy industry. However, it did mention that wind and solar energy generated 8.5% of worldwide electricity in 2019 and that this share is growing rapidly. I'll try to refine my search to find more specific information.\n",
            "Action: wiki\n",
            "Action Input: Leading companies in sustainable energy industry\u001b[0m\n",
            "Observation: \u001b[36;1m\u001b[1;3mPage: Sustainable industries\n",
            "Summary: The phrase sustainable industries is related to the development of industrial processes in a sustainable way. The phrase refers to greening of energy intensive industries such as the textiles, steel, cement, and paper industries.\n",
            "\n",
            "Page: Energy industry\n",
            "Summary: The energy industry is the totality of all of the industries involved in the production and sale of energy, including fuel extraction, manufacturing, refining and distribution. Modern society consumes large amounts of fuel, and the energy industry is a crucial part of the infrastructure and maintenance of society in almost all countries.\n",
            "In particular, the energy industry comprises:\n",
            "\n",
            "the fossil fuel industries, which include petroleum industries (oil companies, petroleum refiners, fuel transport and end-user sales at gas stations) coal industries (extraction and processing) and the natural gas industries (natural gas extraction, and coal gas manufacture, as well as distribution and sales);\n",
            "the electrical power industry, including electricity generation, electric power distribution and sales;\n",
            "the nuclear power industry;\n",
            "the renewable energy industry, comprising alternative energy and sustainable energy companies, including those involved in hydroelectric power, wind power, and solar power generation, and the manufacture, distribution and sale of alternative fuels; and,\n",
            "traditional energy industry based on the collection and distribution of firewood, the use of which, for cooking and heating, is particularly common in poorer countries.\n",
            "The increased dependence during the 20th century on carbon-emitting sources of energy such as fossil fuels, and carbon-emitting renewables such as biomass, means that the energy industry has frequently been an important contributor to pollution and environmental impacts of the economy. Until recently, fossil fuels were the main source of energy generation in most parts of the world, and are a major contributor to global warming and pollution. As part of human adaptation to global warming, many economies are investing in renewable and sustainable energy.\n",
            "\n",
            "Page: Sustainable energy\n",
            "Summary: Energy is sustainable if it \"meets the needs of the present without compromising the ability of future generations to meet their own needs.\"  Most definitions of sustainable energy include considerations of environmental aspects such as greenhouse gas emissions and social and economic aspects such as energy poverty. Renewable energy sources such as wind, hydroelectric power, solar, and geothermal energy are generally far more sustainable than fossil fuel sources. However, some renewable energy projects, such as the clearing of forests to produce biofuels, can cause severe environmental damage.\n",
            "The role of non-renewable energy sources in sustainable energy has been controversial. Nuclear power is a low-carbon source whose historic mortality rates are comparable to those of wind and solar, but its sustainability has been debated because of concerns about radioactive waste, nuclear proliferation, and accidents. Switching from coal to natural gas has environmental benefits, including a lower climate impact, but may lead to a delay in switching to more sustainable options. Carbon capture and storage can be built into power plants to remove their carbon dioxide (CO2) emissions, but this technology is expensive and has rarely been implemented.\n",
            "Fossil fuels provide 85% of the world's energy consumption, and the energy system is responsible for 76% of global greenhouse gas emissions. Around 790 million people in developing countries lack access to electricity, and 2.6 billion rely on polluting fuels such as wood or charcoal to cook. Reducing greenhouse gas emissions to levels consistent with the 2015 Paris Agreement will require a system-wide transformation of the way energy is produced, distributed, stored, and consumed. The burning of fossil fuels and biomass is a major contributor to air pollution, which causes an estimated 7\u001b[0m\n",
            "Thought:\u001b[32;1m\u001b[1;3mThe wiki search still did not provide a specific company or individual as the current leader in the sustainable energy industry. It seems that the information is not readily available on wiki. However, it is known that companies involved in wind power, solar power, and other forms of renewable energy are key players in the sustainable energy industry.\n",
            "Final Answer: The information on the current leader in the sustainable energy industry is not readily available. However, companies involved in wind power, solar power, and other forms of renewable energy are key players in the sustainable energy industry.\u001b[0m\n",
            "\n",
            "\u001b[1m> Finished chain.\u001b[0m\n",
            "Response: The information on the current leader in the sustainable energy industry is not readily available. However, companies involved in wind power, solar power, and other forms of renewable energy are key players in the sustainable energy industry.\n"
          ]
        },
        {
          "name": "stdin",
          "output_type": "stream",
          "text": [
            "Which tool do you want to use? (google, duckduckgo, wikipedia): enter \"exit\" if you want to finish exit\n"
          ]
        },
        {
          "name": "stdout",
          "output_type": "stream",
          "text": [
            "Exiting the tool selection.\n",
            "Response: ['The current leaders in the sustainable energy industry are China, as the largest producer of wind and solar energy, and Vestas, a global leader in wind energy.', 'The information on the current leader in the sustainable energy industry is not readily available. However, companies involved in wind power, solar power, and other forms of renewable energy are key players in the sustainable energy industry.']\n"
          ]
        }
      ],
      "source": [
        "new_info_agent(\"Who is the current leader in sustainable energy industry?\")\n"
      ]
    },
    {
      "cell_type": "code",
      "execution_count": null,
      "id": "c27ac31b-0824-4f62-ba81-f419c2de2dc3",
      "metadata": {
        "id": "c27ac31b-0824-4f62-ba81-f419c2de2dc3",
        "outputId": "63968455-3f28-4d52-a60a-603666083d06"
      },
      "outputs": [
        {
          "data": {
            "text/plain": [
              "['The current leaders in the sustainable energy industry are China, as the largest producer of wind and solar energy, and Vestas, a global leader in wind energy.',\n",
              " 'The information on the current leader in the sustainable energy industry is not readily available. However, companies involved in wind power, solar power, and other forms of renewable energy are key players in the sustainable energy industry.']"
            ]
          },
          "execution_count": 57,
          "metadata": {},
          "output_type": "execute_result"
        }
      ],
      "source": [
        "final_responses\n"
      ]
    },
    {
      "cell_type": "markdown",
      "id": "439bfb5c-5d82-448d-98f7-fcd771e56d9e",
      "metadata": {
        "id": "439bfb5c-5d82-448d-98f7-fcd771e56d9e"
      },
      "source": [
        "# query for every sentence\n",
        "* it is matched or not from existing rdf capability"
      ]
    },
    {
      "cell_type": "code",
      "execution_count": null,
      "id": "59a7287b-945d-4fc1-bced-55984b917cb6",
      "metadata": {
        "id": "59a7287b-945d-4fc1-bced-55984b917cb6"
      },
      "outputs": [],
      "source": [
        "!pip install nltk\n",
        "!python -m nltk.downloader punkt\n"
      ]
    },
    {
      "cell_type": "code",
      "execution_count": null,
      "id": "b5f1cf44-cd12-4c39-9a23-c347d10d6cb4",
      "metadata": {
        "id": "b5f1cf44-cd12-4c39-9a23-c347d10d6cb4",
        "outputId": "cf5176d2-f702-426c-f124-099071c3f03b"
      },
      "outputs": [
        {
          "name": "stdout",
          "output_type": "stream",
          "text": [
            "rdf output is  {'sentence': 'The current leaders in the sustainable energy industry are China, as the largest producer of wind and solar energy, and Vestas, a global leader in wind energy.', 'Capability': 'not matched', 'keywords': ['none']}\n",
            "rdf output is  {'sentence': 'The information on the current leader in the sustainable energy industry is not readily available.', 'Capability': 'not matched', 'keywords': ['none']}\n",
            "rdf output is  {'sentence': 'However, companies involved in wind power, solar power, and other forms of renewable energy are key players in the sustainable energy industry.', 'Capability': 'Environmental Engineering', 'Keywords': ['wind power', 'solar power', 'renewable energy']}\n"
          ]
        }
      ],
      "source": [
        "from nltk.tokenize import sent_tokenize\n",
        "\n",
        "# Process each response\n",
        "for response in final_responses:\n",
        "    # Split the response into sentences\n",
        "    # print(\"### response from agent \",response)\n",
        "    sentences = sent_tokenize(response)\n",
        "    # Process each sentence\n",
        "\n",
        "    for sentence in sentences:\n",
        "        rdf_match(sentence)\n",
        "        # print(\"### sentence \",sentence)"
      ]
    },
    {
      "cell_type": "code",
      "execution_count": null,
      "id": "59273c54-54bf-4ed8-a0e6-e246b14c1490",
      "metadata": {
        "id": "59273c54-54bf-4ed8-a0e6-e246b14c1490"
      },
      "outputs": [],
      "source": []
    },
    {
      "cell_type": "code",
      "execution_count": null,
      "id": "07ca0166-9449-4bc2-b668-7c7dfb372c4f",
      "metadata": {
        "id": "07ca0166-9449-4bc2-b668-7c7dfb372c4f"
      },
      "outputs": [],
      "source": []
    },
    {
      "cell_type": "code",
      "execution_count": null,
      "id": "a6c47655-9b3e-4dbb-89a5-e2d14dd96174",
      "metadata": {
        "id": "a6c47655-9b3e-4dbb-89a5-e2d14dd96174",
        "outputId": "59c09dae-ed53-493c-812c-6cfc4811eab4"
      },
      "outputs": [
        {
          "data": {
            "text/html": [
              "<div>\n",
              "<style scoped>\n",
              "    .dataframe tbody tr th:only-of-type {\n",
              "        vertical-align: middle;\n",
              "    }\n",
              "\n",
              "    .dataframe tbody tr th {\n",
              "        vertical-align: top;\n",
              "    }\n",
              "\n",
              "    .dataframe thead th {\n",
              "        text-align: right;\n",
              "    }\n",
              "</style>\n",
              "<table border=\"1\" class=\"dataframe\">\n",
              "  <thead>\n",
              "    <tr style=\"text-align: right;\">\n",
              "      <th></th>\n",
              "      <th>sentence</th>\n",
              "      <th>Capability</th>\n",
              "      <th>Keywords</th>\n",
              "      <th>keywords</th>\n",
              "    </tr>\n",
              "  </thead>\n",
              "  <tbody>\n",
              "    <tr>\n",
              "      <th>0</th>\n",
              "      <td>Solar technologies convert sunlight into elect...</td>\n",
              "      <td>Energy Efficiency</td>\n",
              "      <td>Solar technologies, sunlight, electrical energ...</td>\n",
              "      <td>NaN</td>\n",
              "    </tr>\n",
              "    <tr>\n",
              "      <th>1</th>\n",
              "      <td>The current leaders in the sustainable energy ...</td>\n",
              "      <td>not matched</td>\n",
              "      <td>none</td>\n",
              "      <td>NaN</td>\n",
              "    </tr>\n",
              "    <tr>\n",
              "      <th>2</th>\n",
              "      <td>The information on the current leader in the s...</td>\n",
              "      <td>not matched</td>\n",
              "      <td></td>\n",
              "      <td>[none]</td>\n",
              "    </tr>\n",
              "    <tr>\n",
              "      <th>3</th>\n",
              "      <td>However, companies involved in wind power, sol...</td>\n",
              "      <td>Environmental Engineering</td>\n",
              "      <td>Wind power, Solar power, Renewable energy</td>\n",
              "      <td>NaN</td>\n",
              "    </tr>\n",
              "    <tr>\n",
              "      <th>4</th>\n",
              "      <td>The current leaders in the sustainable energy ...</td>\n",
              "      <td>not matched</td>\n",
              "      <td></td>\n",
              "      <td>[none]</td>\n",
              "    </tr>\n",
              "    <tr>\n",
              "      <th>5</th>\n",
              "      <td>The information on the current leader in the s...</td>\n",
              "      <td>not matched</td>\n",
              "      <td></td>\n",
              "      <td>[none]</td>\n",
              "    </tr>\n",
              "    <tr>\n",
              "      <th>6</th>\n",
              "      <td>However, companies involved in wind power, sol...</td>\n",
              "      <td>Environmental Engineering</td>\n",
              "      <td>wind power, solar power, renewable energy</td>\n",
              "      <td>NaN</td>\n",
              "    </tr>\n",
              "  </tbody>\n",
              "</table>\n",
              "</div>"
            ],
            "text/plain": [
              "                                            sentence  \\\n",
              "0  Solar technologies convert sunlight into elect...   \n",
              "1  The current leaders in the sustainable energy ...   \n",
              "2  The information on the current leader in the s...   \n",
              "3  However, companies involved in wind power, sol...   \n",
              "4  The current leaders in the sustainable energy ...   \n",
              "5  The information on the current leader in the s...   \n",
              "6  However, companies involved in wind power, sol...   \n",
              "\n",
              "                  Capability  \\\n",
              "0          Energy Efficiency   \n",
              "1                not matched   \n",
              "2                not matched   \n",
              "3  Environmental Engineering   \n",
              "4                not matched   \n",
              "5                not matched   \n",
              "6  Environmental Engineering   \n",
              "\n",
              "                                            Keywords keywords  \n",
              "0  Solar technologies, sunlight, electrical energ...      NaN  \n",
              "1                                               none      NaN  \n",
              "2                                                      [none]  \n",
              "3          Wind power, Solar power, Renewable energy      NaN  \n",
              "4                                                      [none]  \n",
              "5                                                      [none]  \n",
              "6          wind power, solar power, renewable energy      NaN  "
            ]
          },
          "execution_count": 72,
          "metadata": {},
          "output_type": "execute_result"
        }
      ],
      "source": [
        "df"
      ]
    },
    {
      "cell_type": "code",
      "execution_count": null,
      "id": "55df85f5-deac-4edb-be97-6d1396d371ec",
      "metadata": {
        "id": "55df85f5-deac-4edb-be97-6d1396d371ec"
      },
      "outputs": [],
      "source": []
    },
    {
      "cell_type": "code",
      "execution_count": null,
      "id": "4fda88eb-cbb1-4b64-b16c-2857d03d4962",
      "metadata": {
        "id": "4fda88eb-cbb1-4b64-b16c-2857d03d4962"
      },
      "outputs": [],
      "source": []
    },
    {
      "cell_type": "code",
      "execution_count": null,
      "id": "036a0f24-c923-4e81-b781-067811a921f0",
      "metadata": {
        "id": "036a0f24-c923-4e81-b781-067811a921f0"
      },
      "outputs": [],
      "source": []
    },
    {
      "cell_type": "code",
      "execution_count": null,
      "id": "1487f758-68e4-4340-b6d3-430243fd706b",
      "metadata": {
        "id": "1487f758-68e4-4340-b6d3-430243fd706b"
      },
      "outputs": [],
      "source": []
    },
    {
      "cell_type": "code",
      "execution_count": null,
      "id": "0b231aaf-bba5-4485-80c3-19a3fbef66e5",
      "metadata": {
        "id": "0b231aaf-bba5-4485-80c3-19a3fbef66e5"
      },
      "outputs": [],
      "source": []
    },
    {
      "cell_type": "code",
      "execution_count": null,
      "id": "069a2107-5fe6-483e-b553-073aa90bf396",
      "metadata": {
        "id": "069a2107-5fe6-483e-b553-073aa90bf396"
      },
      "outputs": [],
      "source": []
    },
    {
      "cell_type": "markdown",
      "id": "565c110b-e0d0-41eb-ac9e-6f0a53b8210c",
      "metadata": {
        "jp-MarkdownHeadingCollapsed": true,
        "tags": [],
        "id": "565c110b-e0d0-41eb-ac9e-6f0a53b8210c"
      },
      "source": [
        "# old capability and keyword matching"
      ]
    },
    {
      "cell_type": "markdown",
      "id": "b7c19f5d-d8a2-4282-8387-5569582ec670",
      "metadata": {
        "jp-MarkdownHeadingCollapsed": true,
        "tags": [],
        "id": "b7c19f5d-d8a2-4282-8387-5569582ec670"
      },
      "source": [
        "## capability matching"
      ]
    },
    {
      "cell_type": "code",
      "execution_count": null,
      "id": "a994ade1-d790-40a1-87d9-0e9448787cda",
      "metadata": {
        "id": "a994ade1-d790-40a1-87d9-0e9448787cda"
      },
      "outputs": [],
      "source": [
        "li= [\n",
        "    {\n",
        "        \"Capability\": \"Fault Detection and Isolation\",\n",
        "        \"Keywords\": [\n",
        "            \"Fault Identification and Localization\",\n",
        "            \"Trouble Shooting and Diagnostics\",\n",
        "            \"Defect Detection and Correction\",\n",
        "            \"Error Detection and Resolution\",\n",
        "            \"Malfunction Recognition and Remediation\"\n",
        "        ]\n",
        "    },\n",
        "    {\n",
        "        \"Capability\": \"Encapsulation\",\n",
        "        \"Keywords\": [\n",
        "            \"Wrapping\",\n",
        "            \"Containment\",\n",
        "            \"Envelopment\",\n",
        "            \"Packaging\",\n",
        "            \"Sealing\",\n",
        "            \"Covering\",\n",
        "            \"Shielding\"\n",
        "        ]\n",
        "    },\n",
        "    {\n",
        "        \"Capability\": \"Subsea Cable Installation\",\n",
        "        \"Keywords\": [\n",
        "            \"Underwater Cable Installation\",\n",
        "            \"Submarine Cable Installation\",\n",
        "            \"Seabed Cable Installation\",\n",
        "            \"Ocean Floor Cable Installation\",\n",
        "            \"Marine Cable Installation\"\n",
        "        ]\n",
        "    },\n",
        "    {\n",
        "        \"Capability\": \"Underground Storage\",\n",
        "        \"Keywords\": [\n",
        "            \"Subterranean Storage\",\n",
        "            \"Geologic Storage\",\n",
        "            \"Underground Reservoirs\",\n",
        "            \"Buried Deposits\",\n",
        "            \"Deep-Earth Repositories\",\n",
        "            \"Subsurface Containers\",\n",
        "            \"Below-Surface Vaults\"\n",
        "        ]\n",
        "    }\n",
        "]\n"
      ]
    },
    {
      "cell_type": "code",
      "execution_count": null,
      "id": "2f2ff070-6185-46e5-a12b-61e9936fa31d",
      "metadata": {
        "id": "2f2ff070-6185-46e5-a12b-61e9936fa31d"
      },
      "outputs": [],
      "source": [
        "cap_li=[\n",
        "    \"Fault Detection and Isolation\",\n",
        "    \"Encapsulation\",\n",
        "    \"Subsea Cable Installation\",\n",
        "    \"Underground Storage\"\n",
        "]"
      ]
    },
    {
      "cell_type": "code",
      "execution_count": null,
      "id": "2a01c049-ad04-467c-a7a0-c99b6ad9df39",
      "metadata": {
        "id": "2a01c049-ad04-467c-a7a0-c99b6ad9df39"
      },
      "outputs": [],
      "source": [
        "prompt2=f\"\"\"\n",
        "you are an expert in building Resource Description Framework (RDF).\n",
        "so from the given sentence, give me a relationship in the following format.\n",
        "\n",
        "Here are two examples:\n",
        "example 1: {{'sentence': 'Lithium-ion batteries have dominated the market for years.', 'Capability': 'Battery Type', 'Keywords': ['Lithium-ion', 'Solid-state', 'Flow battery']}}\n",
        "example 2: {{'sentence': 'Solid-state batteries promise a higher energy density.', 'Capability': 'Energy Density', 'Keywords': ['High', 'Low', None]}}\n",
        "\n",
        "You have to check one condition before generating the RDF:\n",
        "Only generate RDF if the given sentence can produce a Capability from this list.\n",
        "Ensure that the RDF generated Capability must be the same as in the given list.\n",
        "Else, reply: {{'sentence': 'user given sentence', 'Capability': 'not matched', 'keywords': ['none']}}.\n",
        "\n",
        "Here is the Capability list: {cap_li}.\n",
        "\n",
        "Now, give me an answer for the sentence:\n",
        "\n",
        "\"\"\""
      ]
    },
    {
      "cell_type": "code",
      "execution_count": null,
      "id": "16dd47d6-1ef9-43e1-9895-e9c21b77310b",
      "metadata": {
        "id": "16dd47d6-1ef9-43e1-9895-e9c21b77310b",
        "outputId": "202d3086-3b03-4c9d-c9f5-fbf47dbf8740"
      },
      "outputs": [
        {
          "data": {
            "text/plain": [
              "\"\\nyou are an expert in building Resource Description Framework (RDF).\\nso from the given sentence, give me a relationship in the following format.\\n\\nHere are two examples:\\nexample 1: {'sentence': 'Lithium-ion batteries have dominated the market for years.', 'Capability': 'Battery Type', 'Keywords': ['Lithium-ion', 'Solid-state', 'Flow battery']}\\nexample 2: {'sentence': 'Solid-state batteries promise a higher energy density.', 'Capability': 'Energy Density', 'Keywords': ['High', 'Low', None]}\\n\\nYou have to check one condition before generating the RDF:\\nOnly generate RDF if the given sentence can produce a Capability from this list.\\nEnsure that the RDF generated Capability must be the same as in the given list.\\nElse, reply: {'sentence': 'user given sentence', 'Capability': 'not matched', 'keywords': ['none']}.\\n\\nHere is the Capability list: ['Fault Detection and Isolation', 'Encapsulation', 'Subsea Cable Installation', 'Underground Storage']. \\n\\nNow, give me an answer for the sentence:\\n\\n\""
            ]
          },
          "execution_count": 48,
          "metadata": {},
          "output_type": "execute_result"
        }
      ],
      "source": [
        "prompt2"
      ]
    },
    {
      "cell_type": "code",
      "execution_count": null,
      "id": "ef8f4755-5b6c-404b-a6c4-876b38dcea84",
      "metadata": {
        "id": "ef8f4755-5b6c-404b-a6c4-876b38dcea84"
      },
      "outputs": [],
      "source": [
        "try:\n",
        "    df = pd.read_csv('out.csv')\n",
        "except FileNotFoundError:\n",
        "    df = pd.DataFrame(columns=['sentence', 'Capability', 'Keywords'])\n",
        "\n",
        "def rdf2(text):\n",
        "    response = openai.ChatCompletion.create(\n",
        "        model=\"gpt-3.5-turbo\",\n",
        "        messages=[\n",
        "            {\"role\": \"system\", \"content\": prompt2},\n",
        "            {\"role\": \"user\", \"content\": text}\n",
        "        ]\n",
        "    )\n",
        "\n",
        "    output = response.choices[0].message.content\n",
        "\n",
        "\n",
        "    data_dict = ast.literal_eval(output)\n",
        "    # Check if 'Keywords' is in the dictionary and is not None\n",
        "    if 'Keywords' in data_dict and data_dict['Keywords'] is not None:\n",
        "        # Ensure all items in the list are strings\n",
        "        data_dict['Keywords'] = ', '.join(str(kw) for kw in data_dict['Keywords'] if kw is not None)\n",
        "    else:\n",
        "        data_dict['Keywords'] = ''\n",
        "\n",
        "    # Concatenate the new data to the DataFrame\n",
        "    new_row = pd.DataFrame([data_dict])\n",
        "    global df\n",
        "    df = pd.concat([df, new_row], ignore_index=True)\n",
        "\n",
        "    return output\n"
      ]
    },
    {
      "cell_type": "code",
      "execution_count": null,
      "id": "eaf43159-3c30-4008-a73e-a76b09fd6985",
      "metadata": {
        "id": "eaf43159-3c30-4008-a73e-a76b09fd6985",
        "outputId": "aa9b96a5-baf7-4f4a-a2de-cc1f9cbab57f"
      },
      "outputs": [
        {
          "data": {
            "text/plain": [
              "\"{'sentence': 'Encapsulation methods are crucial for ensuring the stability and integrity of sensitive data.', 'Capability': 'Encapsulation', 'Keywords': ['methods', 'crucial', 'stability', 'integrity', 'sensitive data']}\""
            ]
          },
          "execution_count": 53,
          "metadata": {},
          "output_type": "execute_result"
        }
      ],
      "source": [
        "rdf2(\"\"\"Encapsulation methods are crucial for ensuring the stability and integrity of sensitive data.\"\"\")"
      ]
    },
    {
      "cell_type": "code",
      "execution_count": null,
      "id": "abc232a4-a757-458f-8b68-2b21551002fc",
      "metadata": {
        "tags": [],
        "id": "abc232a4-a757-458f-8b68-2b21551002fc",
        "outputId": "66a98be0-fdb7-4db6-d5f6-eb38d5b6bb41"
      },
      "outputs": [
        {
          "data": {
            "text/html": [
              "<div>\n",
              "<style scoped>\n",
              "    .dataframe tbody tr th:only-of-type {\n",
              "        vertical-align: middle;\n",
              "    }\n",
              "\n",
              "    .dataframe tbody tr th {\n",
              "        vertical-align: top;\n",
              "    }\n",
              "\n",
              "    .dataframe thead th {\n",
              "        text-align: right;\n",
              "    }\n",
              "</style>\n",
              "<table border=\"1\" class=\"dataframe\">\n",
              "  <thead>\n",
              "    <tr style=\"text-align: right;\">\n",
              "      <th></th>\n",
              "      <th>sentence</th>\n",
              "      <th>capability_n_keywords</th>\n",
              "      <th>score</th>\n",
              "      <th>sentence_embedding</th>\n",
              "      <th>capability_n_keywords_embedding</th>\n",
              "    </tr>\n",
              "  </thead>\n",
              "  <tbody>\n",
              "    <tr>\n",
              "      <th>0</th>\n",
              "      <td>con edison virtual power plant program combine...</td>\n",
              "      <td>Solar Thermal Power Plant Automation ; Automat...</td>\n",
              "      <td>0.510020</td>\n",
              "      <td>[-0.036394793540239334, 0.11040759086608887, -...</td>\n",
              "      <td>[-0.060076565, 0.05944331, -0.046415634, 0.077...</td>\n",
              "    </tr>\n",
              "    <tr>\n",
              "      <th>1</th>\n",
              "      <td>con edison virtual power plant program combine...</td>\n",
              "      <td>Solar Thermal Power Plant Optimization ; Solar...</td>\n",
              "      <td>0.470642</td>\n",
              "      <td>[-0.036394793540239334, 0.11040759086608887, -...</td>\n",
              "      <td>[0.05576598, 0.115161546, -0.010887057, 0.0063...</td>\n",
              "    </tr>\n",
              "    <tr>\n",
              "      <th>2</th>\n",
              "      <td>con edison virtual power plant program combine...</td>\n",
              "      <td>Solar Thermal Power Plant Troubleshooting ; So...</td>\n",
              "      <td>0.467114</td>\n",
              "      <td>[-0.036394793540239334, 0.11040759086608887, -...</td>\n",
              "      <td>[0.01697126, 0.06589857, 0.015274441, 0.044836...</td>\n",
              "    </tr>\n",
              "  </tbody>\n",
              "</table>\n",
              "</div>"
            ],
            "text/plain": [
              "                                            sentence   \n",
              "0  con edison virtual power plant program combine...  \\\n",
              "1  con edison virtual power plant program combine...   \n",
              "2  con edison virtual power plant program combine...   \n",
              "\n",
              "                               capability_n_keywords     score   \n",
              "0  Solar Thermal Power Plant Automation ; Automat...  0.510020  \\\n",
              "1  Solar Thermal Power Plant Optimization ; Solar...  0.470642   \n",
              "2  Solar Thermal Power Plant Troubleshooting ; So...  0.467114   \n",
              "\n",
              "                                  sentence_embedding   \n",
              "0  [-0.036394793540239334, 0.11040759086608887, -...  \\\n",
              "1  [-0.036394793540239334, 0.11040759086608887, -...   \n",
              "2  [-0.036394793540239334, 0.11040759086608887, -...   \n",
              "\n",
              "                     capability_n_keywords_embedding  \n",
              "0  [-0.060076565, 0.05944331, -0.046415634, 0.077...  \n",
              "1  [0.05576598, 0.115161546, -0.010887057, 0.0063...  \n",
              "2  [0.01697126, 0.06589857, 0.015274441, 0.044836...  "
            ]
          },
          "execution_count": 5,
          "metadata": {},
          "output_type": "execute_result"
        }
      ],
      "source": [
        "df = pd.read_csv(\"final_df.csv\")\n",
        "df.head(3)"
      ]
    },
    {
      "cell_type": "code",
      "execution_count": null,
      "id": "c2b30669-6911-4e6d-89f5-352579586ba3",
      "metadata": {
        "id": "c2b30669-6911-4e6d-89f5-352579586ba3",
        "outputId": "facfd606-f4cc-4523-ef3e-9b9708a810d8"
      },
      "outputs": [
        {
          "data": {
            "text/plain": [
              "\"{'sentence': 'Our team specializes in subsea cable installation, ensuring seamless communication underwater.', 'Capability': 'Subsea Cable Installation', 'keywords': ['specializes', 'seamless', 'communication', 'underwater']}\""
            ]
          },
          "execution_count": 54,
          "metadata": {},
          "output_type": "execute_result"
        }
      ],
      "source": [
        "rdf2(\"\"\"Our team specializes in subsea cable installation, ensuring seamless communication underwater.\"\"\")"
      ]
    },
    {
      "cell_type": "code",
      "execution_count": null,
      "id": "88486bb7-f81f-4013-a55a-5520103640b6",
      "metadata": {
        "id": "88486bb7-f81f-4013-a55a-5520103640b6",
        "outputId": "db7c46a7-15ca-455c-b647-7c320f0e0460"
      },
      "outputs": [
        {
          "data": {
            "text/plain": [
              "\"{'sentence': 'Regular solar thermal power plant inspections are vital to ensure all components are in working order and to maintain the plants overall efficiency.', 'Capability': 'Fault Detection and Isolation', 'Keywords': ['Inspections', 'Components', 'Efficiency']}\""
            ]
          },
          "execution_count": 55,
          "metadata": {},
          "output_type": "execute_result"
        }
      ],
      "source": [
        "rdf2(\"\"\"Regular solar thermal power plant inspections are vital to ensure all components are in working order and to maintain the plants overall efficiency.\"\"\")"
      ]
    },
    {
      "cell_type": "code",
      "execution_count": null,
      "id": "79876e13-46ff-48e0-b20d-76b2141389ac",
      "metadata": {
        "id": "79876e13-46ff-48e0-b20d-76b2141389ac",
        "outputId": "d55c24cb-12d3-4d06-ac52-d7e59688bcf8"
      },
      "outputs": [
        {
          "data": {
            "text/plain": [
              "\"{'sentence': 'During our hiking trip, we discovered a hidden waterfall in the heart of the forest.', 'Capability': 'not matched', 'keywords': ['none']}\""
            ]
          },
          "execution_count": 56,
          "metadata": {},
          "output_type": "execute_result"
        }
      ],
      "source": [
        "rdf2(\"\"\"During our hiking trip, we discovered a hidden waterfall in the heart of the forest.\"\"\")"
      ]
    },
    {
      "cell_type": "code",
      "execution_count": null,
      "id": "ef973984-54d4-469e-abb2-7a8cfe47b51c",
      "metadata": {
        "id": "ef973984-54d4-469e-abb2-7a8cfe47b51c",
        "outputId": "f65643d0-dc5c-446c-c9be-1c04c9e80c3a"
      },
      "outputs": [
        {
          "data": {
            "text/plain": [
              "\"{'sentence': 'The computer industry will continue to develop tools and software that facilitate remote work, as flexible work arrangements become more prevalent.', 'Capability': 'not matched', 'keywords': ['none']}\""
            ]
          },
          "execution_count": 57,
          "metadata": {},
          "output_type": "execute_result"
        }
      ],
      "source": [
        "rdf2(\"The computer industry will continue to develop tools and software that facilitate remote work, as flexible work arrangements become more prevalent.\")"
      ]
    },
    {
      "cell_type": "code",
      "execution_count": null,
      "id": "7324dce9-b59c-4f9e-bcb1-455c73d41af6",
      "metadata": {
        "id": "7324dce9-b59c-4f9e-bcb1-455c73d41af6"
      },
      "outputs": [],
      "source": []
    },
    {
      "cell_type": "markdown",
      "id": "62e21f52-97e9-4386-91b1-50d90b3106d7",
      "metadata": {
        "jp-MarkdownHeadingCollapsed": true,
        "tags": [],
        "id": "62e21f52-97e9-4386-91b1-50d90b3106d7"
      },
      "source": [
        "## keyword matching & rdf generation"
      ]
    },
    {
      "cell_type": "code",
      "execution_count": null,
      "id": "028485b1-9a03-4266-a47e-617625f5d243",
      "metadata": {
        "id": "028485b1-9a03-4266-a47e-617625f5d243"
      },
      "outputs": [],
      "source": [
        "li= [\n",
        "    {\n",
        "        \"Capability\": \"Fault Detection and Isolation\",\n",
        "        \"Keywords\": [\n",
        "            \"Fault Identification and Localization\",\n",
        "            \"Trouble Shooting and Diagnostics\",\n",
        "            \"Defect Detection and Correction\",\n",
        "            \"Error Detection and Resolution\",\n",
        "            \"Malfunction Recognition and Remediation\"\n",
        "        ]\n",
        "    },\n",
        "    {\n",
        "        \"Capability\": \"Encapsulation\",\n",
        "        \"Keywords\": [\n",
        "            \"Wrapping\",\n",
        "            \"Containment\",\n",
        "            \"Envelopment\",\n",
        "            \"Packaging\",\n",
        "            \"Sealing\",\n",
        "            \"Covering\",\n",
        "            \"Shielding\"\n",
        "        ]\n",
        "    },\n",
        "    {\n",
        "        \"Capability\": \"Subsea Cable Installation\",\n",
        "        \"Keywords\": [\n",
        "            \"Underwater Cable Installation\",\n",
        "            \"Submarine Cable Installation\",\n",
        "            \"Seabed Cable Installation\",\n",
        "            \"Ocean Floor Cable Installation\",\n",
        "            \"Marine Cable Installation\"\n",
        "        ]\n",
        "    },\n",
        "    {\n",
        "        \"Capability\": \"Underground Storage\",\n",
        "        \"Keywords\": [\n",
        "            \"Subterranean Storage\",\n",
        "            \"Geologic Storage\",\n",
        "            \"Underground Reservoirs\",\n",
        "            \"Buried Deposits\",\n",
        "            \"Deep-Earth Repositories\",\n",
        "            \"Subsurface Containers\",\n",
        "            \"Below-Surface Vaults\"\n",
        "        ]\n",
        "    }\n",
        "]\n"
      ]
    },
    {
      "cell_type": "code",
      "execution_count": null,
      "id": "c6cea003-baa5-4622-adf5-10bc79d92da5",
      "metadata": {
        "id": "c6cea003-baa5-4622-adf5-10bc79d92da5"
      },
      "outputs": [],
      "source": [
        "all_keywords = []\n",
        "\n",
        "for item in li:\n",
        "    all_keywords.extend(item['Keywords'])"
      ]
    },
    {
      "cell_type": "code",
      "execution_count": null,
      "id": "d7722d89-cb6f-4de4-bf04-843036796057",
      "metadata": {
        "id": "d7722d89-cb6f-4de4-bf04-843036796057",
        "outputId": "0d7596e7-37ba-4a26-b8b9-893bb8317fc3"
      },
      "outputs": [
        {
          "data": {
            "text/plain": [
              "['Fault Identification and Localization',\n",
              " 'Trouble Shooting and Diagnostics',\n",
              " 'Defect Detection and Correction',\n",
              " 'Error Detection and Resolution',\n",
              " 'Malfunction Recognition and Remediation',\n",
              " 'Wrapping',\n",
              " 'Containment',\n",
              " 'Envelopment',\n",
              " 'Packaging',\n",
              " 'Sealing',\n",
              " 'Covering',\n",
              " 'Shielding',\n",
              " 'Underwater Cable Installation',\n",
              " 'Submarine Cable Installation',\n",
              " 'Seabed Cable Installation',\n",
              " 'Ocean Floor Cable Installation',\n",
              " 'Marine Cable Installation',\n",
              " 'Subterranean Storage',\n",
              " 'Geologic Storage',\n",
              " 'Underground Reservoirs',\n",
              " 'Buried Deposits',\n",
              " 'Deep-Earth Repositories',\n",
              " 'Subsurface Containers',\n",
              " 'Below-Surface Vaults']"
            ]
          },
          "execution_count": 21,
          "metadata": {},
          "output_type": "execute_result"
        }
      ],
      "source": [
        "all_keywords"
      ]
    },
    {
      "cell_type": "code",
      "execution_count": null,
      "id": "9ccb17b8-28c8-441b-ab8f-f06bc2d2afbf",
      "metadata": {
        "id": "9ccb17b8-28c8-441b-ab8f-f06bc2d2afbf"
      },
      "outputs": [],
      "source": [
        "prompt3=f\"\"\"\n",
        "you are a expert in building Resource Description Framework (RDF).\n",
        "so from given sentence give me relationship in following format.\n",
        "\n",
        "here I am giving you two example\n",
        "example 1: {{'sentence': 'Lithium-ion batteries have dominated the market for years.', 'Capability': 'Battery Type', 'Keywords': ['Lithium-ion', 'Solid-state','Flow battery']}},\n",
        "example 2: {{'sentence': 'Solid-state batteries promise a higher energy density.', 'Capability': 'Energy Density', 'Keywords': ['High', 'Low', None]}}\n",
        "here you have to check 1 condition before generating the RDF\n",
        "Only generate RDF if the given sentence can produce keyword from this list.\n",
        "Ensure that the RDF generated keyword must be the same as in the given list.\n",
        "else reply \"{{'sentence': 'user given text', 'Capability': 'none','keywords':['not matched']}}\".\n",
        "Here is the keyword list {all_keywords}\n",
        "\n",
        "now give me ans for the sentence\n",
        "\"\"\""
      ]
    },
    {
      "cell_type": "code",
      "execution_count": null,
      "id": "a1722bdb-1463-471e-ae10-78aa003b4ac4",
      "metadata": {
        "id": "a1722bdb-1463-471e-ae10-78aa003b4ac4",
        "outputId": "63c9aa32-302a-4c6a-8f08-4a019417a223"
      },
      "outputs": [
        {
          "data": {
            "text/plain": [
              "'\\nyou are a expert in building Resource Description Framework (RDF).\\nso from given sentence give me relationship in following format.\\n\\nhere I am giving you two example\\nexample 1: {\\'sentence\\': \\'Lithium-ion batteries have dominated the market for years.\\', \\'Capability\\': \\'Battery Type\\', \\'Keywords\\': [\\'Lithium-ion\\', \\'Solid-state\\',\\'Flow battery\\']}, \\nexample 2: {\\'sentence\\': \\'Solid-state batteries promise a higher energy density.\\', \\'Capability\\': \\'Energy Density\\', \\'Keywords\\': [\\'High\\', \\'Low\\', None]}\\nhere you have to check 1 condition before generating the RDF\\nOnly generate RDF if the given sentence can produce keyword from this list.\\nEnsure that the RDF generated keyword must be the same as in the given list.\\nelse reply \"{\\'sentence\\': \\'user given text\\', \\'Capability\\': \\'none\\',\\'keywords\\':[\\'not matched\\']}\".\\nHere is the keyword list [\\'Fault Identification and Localization\\', \\'Trouble Shooting and Diagnostics\\', \\'Defect Detection and Correction\\', \\'Error Detection and Resolution\\', \\'Malfunction Recognition and Remediation\\', \\'Wrapping\\', \\'Containment\\', \\'Envelopment\\', \\'Packaging\\', \\'Sealing\\', \\'Covering\\', \\'Shielding\\', \\'Underwater Cable Installation\\', \\'Submarine Cable Installation\\', \\'Seabed Cable Installation\\', \\'Ocean Floor Cable Installation\\', \\'Marine Cable Installation\\', \\'Subterranean Storage\\', \\'Geologic Storage\\', \\'Underground Reservoirs\\', \\'Buried Deposits\\', \\'Deep-Earth Repositories\\', \\'Subsurface Containers\\', \\'Below-Surface Vaults\\']\\n\\nnow give me ans for the sentence\\n'"
            ]
          },
          "execution_count": 23,
          "metadata": {},
          "output_type": "execute_result"
        }
      ],
      "source": [
        "prompt3"
      ]
    },
    {
      "cell_type": "code",
      "execution_count": null,
      "id": "4e2a19a4-ffb4-4fe7-a9ab-50ef4f70311e",
      "metadata": {
        "id": "4e2a19a4-ffb4-4fe7-a9ab-50ef4f70311e"
      },
      "outputs": [],
      "source": [
        "try:\n",
        "    df = pd.read_csv('out.csv')\n",
        "except FileNotFoundError:\n",
        "    df = pd.DataFrame(columns=['sentence', 'Capability', 'Keywords'])\n",
        "\n",
        "def rdf3(text):\n",
        "    response = openai.ChatCompletion.create(\n",
        "        model=\"gpt-3.5-turbo\",\n",
        "        messages=[\n",
        "            {\"role\": \"system\", \"content\": prompt3},\n",
        "            {\"role\": \"user\", \"content\": text}\n",
        "        ]\n",
        "    )\n",
        "\n",
        "    output = response.choices[0].message.content\n",
        "\n",
        "\n",
        "    data_dict = ast.literal_eval(output)\n",
        "    # Check if 'Keywords' is in the dictionary and is not None\n",
        "    if 'Keywords' in data_dict and data_dict['Keywords'] is not None:\n",
        "        # Ensure all items in the list are strings\n",
        "        data_dict['Keywords'] = ', '.join(str(kw) for kw in data_dict['Keywords'] if kw is not None)\n",
        "    else:\n",
        "        data_dict['Keywords'] = ''\n",
        "\n",
        "    # Concatenate the new data to the DataFrame\n",
        "    new_row = pd.DataFrame([data_dict])\n",
        "    global df\n",
        "    df = pd.concat([df, new_row], ignore_index=True)\n",
        "\n",
        "    return output\n"
      ]
    },
    {
      "cell_type": "code",
      "execution_count": null,
      "id": "dad436ac-49b8-478a-af58-c6dc7789dbf3",
      "metadata": {
        "id": "dad436ac-49b8-478a-af58-c6dc7789dbf3",
        "outputId": "093f324b-622f-4caa-d122-a731c4d480fc"
      },
      "outputs": [
        {
          "data": {
            "text/plain": [
              "\"{'sentence': 'The package came with a protective Wrapping and Shielding to prevent any damage during transit.',\\n 'Capability': 'Wrapping and Shielding',\\n 'Keywords': ['Wrapping', 'Shielding']}\\n\""
            ]
          },
          "execution_count": 25,
          "metadata": {},
          "output_type": "execute_result"
        }
      ],
      "source": [
        "rdf3(\"\"\"The package came with a protective Wrapping and Shielding to prevent any damage during transit.\"\"\")"
      ]
    },
    {
      "cell_type": "code",
      "execution_count": null,
      "id": "a62a0581-2e51-4497-845d-9b63e4c0998c",
      "metadata": {
        "id": "a62a0581-2e51-4497-845d-9b63e4c0998c",
        "outputId": "76f0fd1c-589b-4398-ceba-6aaf6a248f55"
      },
      "outputs": [
        {
          "data": {
            "text/plain": [
              "\"{'sentence': 'The recent Malfunction Recognition and Remediation training was insightful for the entire engineering team.', 'Capability': 'Malfunction Recognition and Remediation', 'keywords': ['Malfunction Recognition and Remediation']}\""
            ]
          },
          "execution_count": 26,
          "metadata": {},
          "output_type": "execute_result"
        }
      ],
      "source": [
        "rdf3(\"The recent Malfunction Recognition and Remediation training was insightful for the entire engineering team.\")"
      ]
    },
    {
      "cell_type": "code",
      "execution_count": null,
      "id": "f059c53e-4459-47da-aa36-4f18da9b18b0",
      "metadata": {
        "id": "f059c53e-4459-47da-aa36-4f18da9b18b0",
        "outputId": "263b37ba-1501-44a0-b818-7c882c8a86fc"
      },
      "outputs": [
        {
          "data": {
            "text/plain": [
              "\"{'sentence': 'He planted a small garden behind his house for fresh vegetables.', 'Capability': 'none', 'keywords': ['not matched']}\""
            ]
          },
          "execution_count": 27,
          "metadata": {},
          "output_type": "execute_result"
        }
      ],
      "source": [
        "rdf3(\"He planted a small garden behind his house for fresh vegetables.\")"
      ]
    },
    {
      "cell_type": "code",
      "execution_count": null,
      "id": "2da0e311-19e6-4308-a8f2-37d434ca637e",
      "metadata": {
        "id": "2da0e311-19e6-4308-a8f2-37d434ca637e",
        "outputId": "e0393dc7-6fad-45f4-d139-656f0ab143b1"
      },
      "outputs": [
        {
          "data": {
            "text/plain": [
              "\"{'sentence': 'Our facility has multiple Below-Surface Vaults designed for high-security storage needs.', 'Capability': 'Below-Surface Vaults', 'Keywords': ['Below-Surface Vaults']}\""
            ]
          },
          "execution_count": 28,
          "metadata": {},
          "output_type": "execute_result"
        }
      ],
      "source": [
        "rdf3(\"Our facility has multiple Below-Surface Vaults designed for high-security storage needs.\")"
      ]
    },
    {
      "cell_type": "code",
      "execution_count": null,
      "id": "0eb1e0d3-ea36-4ec0-9be5-8b7ef2476099",
      "metadata": {
        "id": "0eb1e0d3-ea36-4ec0-9be5-8b7ef2476099",
        "outputId": "dc01f6af-126d-42fa-8aee-105e2d121418"
      },
      "outputs": [
        {
          "data": {
            "text/plain": [
              "\"{'sentence': 'He planted a small garden behind his house for fresh vegetables.', 'Capability': 'none', 'keywords': ['not matched']}\""
            ]
          },
          "execution_count": 29,
          "metadata": {},
          "output_type": "execute_result"
        }
      ],
      "source": [
        "#a surprize it should be sentence\n",
        "rdf3(\"He planted a small garden behind his house for fresh vegetables.Our facility has multiple Below-Surface Vaults designed for high-security storage needs.\")"
      ]
    },
    {
      "cell_type": "code",
      "execution_count": null,
      "id": "53d71c5b-1d04-4d39-9634-5cc32215dccd",
      "metadata": {
        "id": "53d71c5b-1d04-4d39-9634-5cc32215dccd",
        "outputId": "53f014bd-c01b-4c72-b1a3-ab9ea13827f3"
      },
      "outputs": [
        {
          "data": {
            "text/plain": [
              "\"{'sentence': 'He planted a small garden behind his house for Our facility has multiple Below-Surface Vaults designed for high-security storage needs.', 'Capability': 'Below-Surface Vaults', 'Keywords': ['Below-Surface Vaults']}\""
            ]
          },
          "execution_count": 30,
          "metadata": {},
          "output_type": "execute_result"
        }
      ],
      "source": [
        "#a surprize it should be sentence\n",
        "rdf3(\"He planted a small garden behind his house for Our facility has multiple Below-Surface Vaults designed for high-security storage needs.\")"
      ]
    },
    {
      "cell_type": "code",
      "execution_count": null,
      "id": "91b32c5b-f17e-4cad-be43-b5c76ebf206b",
      "metadata": {
        "id": "91b32c5b-f17e-4cad-be43-b5c76ebf206b",
        "outputId": "0ea8a06e-4fb6-4761-f92c-4834bd28c68a"
      },
      "outputs": [
        {
          "data": {
            "text/plain": [
              "\"{'sentence': 'The orchestra played a harmonious melody that captivated the audience.', 'Capability': 'none', 'keywords': ['not matched']}\""
            ]
          },
          "execution_count": 32,
          "metadata": {},
          "output_type": "execute_result"
        }
      ],
      "source": [
        "rdf3(\"The orchestra played a harmonious melody that captivated the audience.\")"
      ]
    },
    {
      "cell_type": "code",
      "execution_count": null,
      "id": "e3a296a5-86b0-41c3-85a3-f4bfa2e31ef5",
      "metadata": {
        "id": "e3a296a5-86b0-41c3-85a3-f4bfa2e31ef5"
      },
      "outputs": [],
      "source": []
    },
    {
      "cell_type": "markdown",
      "id": "6cc2bc65-65a5-48e8-96d4-30a1c570eac6",
      "metadata": {
        "jp-MarkdownHeadingCollapsed": true,
        "tags": [],
        "id": "6cc2bc65-65a5-48e8-96d4-30a1c570eac6"
      },
      "source": [
        "# end"
      ]
    },
    {
      "cell_type": "code",
      "execution_count": null,
      "id": "5951a382-61d7-4a1f-9371-116edfa8a61a",
      "metadata": {
        "tags": [],
        "id": "5951a382-61d7-4a1f-9371-116edfa8a61a",
        "outputId": "89f0955a-6264-43b3-b54c-ff6646035d7d"
      },
      "outputs": [
        {
          "name": "stdout",
          "output_type": "stream",
          "text": [
            "['Solar Thermal Power Plant Automation ; Automation of Solar Thermal Power Plants | Automated Solar Thermal Generators'\n",
            " 'Solar Thermal Power Plant Optimization ; Solar Thermal Power Plant Performance Improvement | Solar Thermal Power Plant Efficiency Enhancement | Solar Thermal Power Plant Output Maximization | Solar Thermal Power Plant Cost Reduction '\n",
            " 'Solar Thermal Power Plant Troubleshooting ; Solar Thermal Power Plant Issue Resolution']\n"
          ]
        }
      ],
      "source": [
        "for sentence,group in df.groupby('sentence'):\n",
        "\n",
        "    test = group[\"capability_n_keywords\"].values\n",
        "    print(test)"
      ]
    },
    {
      "cell_type": "code",
      "execution_count": null,
      "id": "7acf3cbc-1640-497e-bf67-8c1eee4702c1",
      "metadata": {
        "tags": [],
        "id": "7acf3cbc-1640-497e-bf67-8c1eee4702c1",
        "outputId": "b493d2d3-fe1b-4cb9-b87c-727ef94e7a67"
      },
      "outputs": [
        {
          "data": {
            "text/plain": [
              "'con edison virtual power plant program combines solar and storage to improve grid resiliency'"
            ]
          },
          "execution_count": 15,
          "metadata": {},
          "output_type": "execute_result"
        }
      ],
      "source": [
        "sentence"
      ]
    },
    {
      "cell_type": "code",
      "execution_count": null,
      "id": "5bd0baf7-c11b-4e48-bced-0a4bed4522f0",
      "metadata": {
        "tags": [],
        "id": "5bd0baf7-c11b-4e48-bced-0a4bed4522f0",
        "outputId": "42a65174-0b49-439e-acd1-ff536b98be62"
      },
      "outputs": [
        {
          "data": {
            "text/plain": [
              "[{'Capability': 'Solar Thermal Power Plant Automation',\n",
              "  'Keywords': ['Automation of Solar Thermal Power Plants',\n",
              "   'Automated Solar Thermal Generators']},\n",
              " {'Capability': 'Solar Thermal Power Plant Optimization',\n",
              "  'Keywords': ['Solar Thermal Power Plant Performance Improvement',\n",
              "   'Solar Thermal Power Plant Efficiency Enhancement',\n",
              "   'Solar Thermal Power Plant Output Maximization',\n",
              "   'Solar Thermal Power Plant Cost Reduction']},\n",
              " {'Capability': 'Solar Thermal Power Plant Troubleshooting',\n",
              "  'Keywords': ['Solar Thermal Power Plant Issue Resolution']}]"
            ]
          },
          "execution_count": 14,
          "metadata": {},
          "output_type": "execute_result"
        }
      ],
      "source": [
        "format_input_list(test)"
      ]
    },
    {
      "cell_type": "code",
      "execution_count": null,
      "id": "00b10cdf-933f-4140-9eb9-f35a651050e5",
      "metadata": {
        "tags": [],
        "id": "00b10cdf-933f-4140-9eb9-f35a651050e5"
      },
      "outputs": [],
      "source": [
        "def format_input_list(input_list):\n",
        "    output_list = []\n",
        "\n",
        "    for item in input_list:\n",
        "        parts = item.split(';')\n",
        "        capability = parts[0].strip()\n",
        "        keywords = [kw.strip() for kw in parts[1].split('|')]\n",
        "\n",
        "        # Create a dictionary for each capability and its keywords\n",
        "        capability_dict = {\n",
        "            \"Capability\": capability,\n",
        "            \"Keywords\": keywords\n",
        "        }\n",
        "\n",
        "        output_list.append(capability_dict)\n",
        "\n",
        "    return output_list\n",
        "\n"
      ]
    },
    {
      "cell_type": "code",
      "execution_count": null,
      "id": "98471345-d618-4e97-a189-c0ccbb41b2fe",
      "metadata": {
        "tags": [],
        "id": "98471345-d618-4e97-a189-c0ccbb41b2fe",
        "outputId": "523144e9-fb62-4be4-a437-76573660955f"
      },
      "outputs": [
        {
          "data": {
            "text/plain": [
              "'Solar Thermal Power Plant Automation ; Automation of Solar Thermal Power Plants | Automated Solar Thermal Generators'"
            ]
          },
          "execution_count": 6,
          "metadata": {},
          "output_type": "execute_result"
        }
      ],
      "source": [
        "df.iloc[0].capability_n_keywords"
      ]
    },
    {
      "cell_type": "code",
      "execution_count": null,
      "id": "610452e2-91b1-4dc5-b663-38b9a7c4b35d",
      "metadata": {
        "id": "610452e2-91b1-4dc5-b663-38b9a7c4b35d"
      },
      "outputs": [],
      "source": [
        "# Function to split the text based on delimiter\n",
        "def split_keywords_capability(text):\n",
        "    keywords, capabilities = text.split('|')\n",
        "    return {'keyword': keywords, 'capability': capabilities}\n",
        "\n",
        "keywords_n_capability_list = df['keywords_n_capability'].apply(split_keywords_capability).tolist()\n"
      ]
    },
    {
      "cell_type": "code",
      "execution_count": null,
      "id": "f7eee334-7333-4f64-8b02-5134913459c4",
      "metadata": {
        "id": "f7eee334-7333-4f64-8b02-5134913459c4"
      },
      "outputs": [],
      "source": [
        "# for sentence,group in df.groupby('sentence'):\n",
        "#     if group.shape[0] > 1:\n",
        "#         #sub_df =  grouped.get\n",
        "#         print(group[\"keyword\"].values)"
      ]
    },
    {
      "cell_type": "code",
      "execution_count": null,
      "id": "f6f1f96b-8bb4-4a28-812e-dfcdabaa4e7a",
      "metadata": {
        "tags": [],
        "id": "f6f1f96b-8bb4-4a28-812e-dfcdabaa4e7a"
      },
      "outputs": [],
      "source": [
        "def generate_rdf_triples(text, capability_n_keywords_list):\n",
        "\n",
        "    prompt = \"\"\"\n",
        "    Generate RDF Triples Based on Text\n",
        "    LIST OF DICTIONARIES\n",
        "    You are an expert in finding relationship between any two keywords and capability based on the provided Target Sentence\n",
        "    and in generating RDF (Resource Description Framework) format. Your task is to analyze the given\n",
        "    text and extract relationships between keywords from the provided list.\n",
        "\n",
        "    THE RULES ARE:\n",
        "    # you will reply only in LIST OF DICTIONARIES.\n",
        "    COPT KEYWORDS and CAPABILITIES FROM LIST PROVIDED . IT SHOULD BE AS IT IS . THE WHOLE LINE SHOULD BE AS IT IS as its in the \"List to follow\".\n",
        "    If you find relationship of two keywords, you have to write it in KeywordA and KeywordB and also write the Capability it belonged to.\n",
        "    If you find relationship of two Keywords, you can intersect.\n",
        "    You can guess relationship word but try to first copy words from Sentence on whose bases you found relation.\n",
        "    Only add a dictionary inside list if you find a relation\n",
        "    IF YOU FIND MULTIPLE RELATIONs for a target sentence from the LIST TO FOLLOW. . Please GO AHEAD and create LIST OF DICTIONARIES\n",
        "\n",
        "    Here is the list of keywords and capabilities to consider ( YOU HAVE TO USE THESE KEYWORDS AND CAPABILITIES. DO NOT GUESS THESE) :\n",
        "    Keywords and Capability List to follow: {capability_n_keywords_list}\n",
        "\n",
        "    Please find and list the relationships between these keywords based on the provided text. Use the following format for\n",
        "    each RDF triple:\n",
        "\n",
        "    {\n",
        "        \"CapabilityA\": \"Capability of KeywordA will come here\",\n",
        "        \"CapabilityB\": \"Capability of KeywordB will come here\",\n",
        "        \"relationship\": \"# Single word or a few words. You can pick the word from Target Sentence or guess by yourself\",\n",
        "        \"KeywordA\": \"First Keyword of whom you are making relation. The relation between KeywordA and KeywordB. THE WHOLE LINE SHOULD BE AS IT IS as its in the \"List to follow\".\",\n",
        "        \"KeywordB\":\"Second Keyword of whom you are making relation. The relation between KeywordA and KeywordB. THE WHOLE LINE SHOULD BE AS IT IS as its in the \"List to follow\".\",\n",
        "        \"sentence\": \"Target Sentence here, on which you are finding relation\",\n",
        "        \"is_new_keywordA\": True/False, # True if you guessed the Relationship by yourself, False if you picked from sentence. The value will be either True , or False\n",
        "        \"is_new_keywordB\" True/False, # True if you guessed the Relationship by yourself, False if you picked from sentence. The value will be either True , or False\n",
        "    }\n",
        "]\n",
        "\n",
        "    Ensure that both 'KeywordA' and 'KeywordB', 'CapabilityA' and 'CapabilityB' are selected from the provided list : {capability_n_keywords_list}. Do not generate or create keywords from your previous knowledge.\n",
        "    LIST OF DICTIONARIES\n",
        "    Now for the following Setence, please find relationships.\n",
        "    \"\"\"\n",
        "\n",
        "\n",
        "    capability_n_keywords_list = json.dumps(capability_n_keywords_list)\n",
        "    prompt = prompt.replace(\"{capability_n_keywords_list}\", capability_n_keywords_list)\n",
        "\n",
        "    with open('output.txt', 'a') as file:\n",
        "        file.write(f\"prompt: {prompt}\\n\\n\")\n",
        "        file.write(f\"text: {text}\\n\\n\\n\\n\\n\\n\\n\\n\")\n",
        "\n",
        "    response = openai.ChatCompletion.create(\n",
        "        model=\"gpt-3.5-turbo\",\n",
        "        messages=[\n",
        "            {\"role\": \"system\", \"content\": prompt},\n",
        "            {\"role\": \"user\", \"content\": text}\n",
        "        ]\n",
        "    )\n",
        "\n",
        "    output = response.choices[0].message.content\n",
        "    return output\n",
        "\n",
        "\n",
        "# result = generate_rdf_triples(text, keywords_n_capability_list)\n",
        "# print(result)"
      ]
    },
    {
      "cell_type": "code",
      "execution_count": null,
      "id": "a1c88c24-2725-4813-90a9-0f3dd6e3725c",
      "metadata": {
        "tags": [],
        "id": "a1c88c24-2725-4813-90a9-0f3dd6e3725c"
      },
      "outputs": [],
      "source": [
        "with open('output.txt', 'w') as file:\n",
        "    pass\n",
        "\n",
        "final_list = []\n",
        "for sentence,group in df.groupby('sentence'):\n",
        "    if group.shape[0] > 1:\n",
        "        capability_n_keywords_unformatted_list = group[\"capability_n_keywords\"].values\n",
        "\n",
        "        capability_n_keywords_list = format_input_list(capability_n_keywords_unformatted_list)\n",
        "\n",
        "        attempts = 0\n",
        "        while attempts < 3:\n",
        "            try:\n",
        "                output = generate_rdf_triples(sentence, capability_n_keywords_list)\n",
        "                output_list = ast.literal_eval(output)\n",
        "                # final_list.append(output_list)\n",
        "                final_list.extend(output_list)\n",
        "                # for dictionary in output_list:\n",
        "                #     if dictionary[\"KeywordA\"] in keywords and dictionary[\"KeywordB\"] in keywords:\n",
        "                #         dictionary['sentence'] = sentence\n",
        "                #         final_list.extend(output_list)\n",
        "                break  # Exit the loop if successful\n",
        "            except Exception as e:\n",
        "                print(f\"Attempt {attempts + 1} failed with error: {str(e)}\")\n",
        "                attempts += 1"
      ]
    },
    {
      "cell_type": "code",
      "execution_count": null,
      "id": "2e9030d3-7b89-4616-962b-b137f10529b8",
      "metadata": {
        "tags": [],
        "id": "2e9030d3-7b89-4616-962b-b137f10529b8",
        "outputId": "eb3f4db6-53c8-4058-9924-c42e2e729e18"
      },
      "outputs": [
        {
          "data": {
            "text/plain": [
              "[{'CapabilityA': 'Solar Thermal Power Plant Automation',\n",
              "  'CapabilityB': 'Solar Thermal Power Plant Optimization',\n",
              "  'relationship': 'combines',\n",
              "  'KeywordA': 'Automation of Solar Thermal Power Plants',\n",
              "  'KeywordB': 'Solar Thermal Power Plant Performance Improvement',\n",
              "  'sentence': 'con edison virtual power plant program combines solar and storage to improve grid resiliency',\n",
              "  'is_new_keywordA': False,\n",
              "  'is_new_keywordB': False}]"
            ]
          },
          "execution_count": 33,
          "metadata": {},
          "output_type": "execute_result"
        }
      ],
      "source": [
        "final_list"
      ]
    },
    {
      "cell_type": "code",
      "execution_count": null,
      "id": "8f92cd97-87bc-4d27-b9ba-6c2485e65dd6",
      "metadata": {
        "tags": [],
        "id": "8f92cd97-87bc-4d27-b9ba-6c2485e65dd6",
        "outputId": "6a1869a2-90ed-4486-e3fa-14f94814607b"
      },
      "outputs": [
        {
          "data": {
            "text/plain": [
              "[{'CapabilityA': 'Solar Thermal Power Plant Optimization',\n",
              "  'CapabilityB': 'Solar Thermal Power Plant Troubleshooting',\n",
              "  'relationship': 'combine',\n",
              "  'KeywordA': 'solar',\n",
              "  'KeywordB': 'storage',\n",
              "  'sentence': 'con edison virtual power plant program combines solar and storage to improve grid resiliency',\n",
              "  'is_new_keywordA': False,\n",
              "  'is_new_keywordB': False}]"
            ]
          },
          "execution_count": 25,
          "metadata": {},
          "output_type": "execute_result"
        }
      ],
      "source": [
        "output_list"
      ]
    },
    {
      "cell_type": "code",
      "execution_count": null,
      "id": "ecc016a0-bd07-4f22-a33f-70c2e03a24c5",
      "metadata": {
        "id": "ecc016a0-bd07-4f22-a33f-70c2e03a24c5"
      },
      "outputs": [],
      "source": [
        "final_list"
      ]
    },
    {
      "cell_type": "markdown",
      "id": "76340c31-9de7-4dc6-8b76-2e6e8395e455",
      "metadata": {
        "jp-MarkdownHeadingCollapsed": true,
        "tags": [],
        "id": "76340c31-9de7-4dc6-8b76-2e6e8395e455"
      },
      "source": [
        "## old base"
      ]
    },
    {
      "cell_type": "code",
      "execution_count": null,
      "id": "029d8770-bfe0-4f51-89d1-8665faa50af3",
      "metadata": {
        "id": "029d8770-bfe0-4f51-89d1-8665faa50af3"
      },
      "outputs": [],
      "source": [
        "# import pandas as pd\n",
        "# df = pd.read_csv(\"final_df.csv\")\n",
        "# output_df = pd.read_csv(\"output.csv\")\n"
      ]
    },
    {
      "cell_type": "code",
      "execution_count": null,
      "id": "d1d2a2c4-bc82-42b6-90e0-61fde7681c69",
      "metadata": {
        "id": "d1d2a2c4-bc82-42b6-90e0-61fde7681c69",
        "outputId": "a8e9fb36-a719-40fa-e7d5-275874c2012a"
      },
      "outputs": [
        {
          "data": {
            "text/plain": [
              "[{'KeywordA': 'Solar Thermal Power Plant Performance Improvement | Solar Thermal Power Plant Optimization',\n",
              "  'relation': 'combined',\n",
              "  'KeywordB': 'Solar Thermal Power Plant Efficiency Enhancement | Solar Thermal Power Plant Optimization',\n",
              "  'sentence': 'con edison virtual power plant program combines solar and storage to improve grid resiliency'},\n",
              " {'KeywordA': 'Solar Thermal Power Plant Performance Improvement | Solar Thermal Power Plant Optimization',\n",
              "  'relation': 'combined',\n",
              "  'KeywordB': 'Solar Thermal Power Plant Cost Reduction | Solar Thermal Power Plant Optimization'},\n",
              " {'KeywordA': 'Automated Solar Thermal Generators | Solar Thermal Power Plant Automation',\n",
              "  'relation': 'combined',\n",
              "  'KeywordB': 'Automation of Solar Thermal Power Plants | Solar Thermal Power Plant Automation',\n",
              "  'sentence': 'con edison virtual power plant program combines solar and storage to improve grid resiliency'},\n",
              " {'KeywordA': 'Automation of Solar Thermal Power Plants | Solar Thermal Power Plant Automation',\n",
              "  'relation': 'combined',\n",
              "  'KeywordB': 'Solar Thermal Power Plant Efficiency Enhancement | Solar Thermal Power Plant Optimization',\n",
              "  'sentence': 'con edison virtual power plant program combines solar and storage to improve grid resiliency'},\n",
              " {'KeywordA': 'Automation of Solar Thermal Power Plants | Solar Thermal Power Plant Automation',\n",
              "  'relation': 'combined',\n",
              "  'KeywordB': 'Solar Thermal Power Plant Cost Reduction | Solar Thermal Power Plant Optimization'},\n",
              " {'CapabilityA': 'Automation of Solar Thermal Power Plants | Solar Thermal Power Plant Automation',\n",
              "  'relation': 'combined',\n",
              "  'KeywordB': 'Solar Thermal Power Plant Efficiency Enhancement | Solar Thermal Power Plant Optimization'},\n",
              " {'CapabilityA': 'Automation of Solar Thermal Power Plants | Solar Thermal Power Plant Automation',\n",
              "  'relation': 'combined',\n",
              "  'KeywordB': 'Solar Thermal Power Plant Cost Reduction | Solar Thermal Power Plant Optimization'},\n",
              " {'KeywordA': 'Solar Thermal Power Plant Performance Improvement | Solar Thermal Power Plant Optimization',\n",
              "  'relation': 'combined',\n",
              "  'KeywordB': 'Solar Thermal Power Plant Efficiency Enhancement | Solar Thermal Power Plant Optimization',\n",
              "  'sentence': 'con edison virtual power plant program combines solar and storage to improve grid resiliency'},\n",
              " {'KeywordA': 'Solar Thermal Power Plant Performance Improvement | Solar Thermal Power Plant Optimization',\n",
              "  'relation': 'combined',\n",
              "  'KeywordB': 'Solar Thermal Power Plant Cost Reduction | Solar Thermal Power Plant Optimization'},\n",
              " {'KeywordA': 'Automated Solar Thermal Generators | Solar Thermal Power Plant Automation',\n",
              "  'relation': 'combined',\n",
              "  'KeywordB': 'Automation of Solar Thermal Power Plants | Solar Thermal Power Plant Automation',\n",
              "  'sentence': 'con edison virtual power plant program combines solar and storage to improve grid resiliency'},\n",
              " {'KeywordA': 'Automation of Solar Thermal Power Plants | Solar Thermal Power Plant Automation',\n",
              "  'relation': 'combined',\n",
              "  'KeywordB': 'Solar Thermal Power Plant Efficiency Enhancement | Solar Thermal Power Plant Optimization',\n",
              "  'sentence': 'con edison virtual power plant program combines solar and storage to improve grid resiliency'},\n",
              " {'KeywordA': 'Automation of Solar Thermal Power Plants | Solar Thermal Power Plant Automation',\n",
              "  'relation': 'combined',\n",
              "  'KeywordB': 'Solar Thermal Power Plant Cost Reduction | Solar Thermal Power Plant Optimization'},\n",
              " {'CapabilityA': 'Automation of Solar Thermal Power Plants | Solar Thermal Power Plant Automation',\n",
              "  'relation': 'combined',\n",
              "  'KeywordB': 'Solar Thermal Power Plant Efficiency Enhancement | Solar Thermal Power Plant Optimization'},\n",
              " {'CapabilityA': 'Automation of Solar Thermal Power Plants | Solar Thermal Power Plant Automation',\n",
              "  'relation': 'combined',\n",
              "  'KeywordB': 'Solar Thermal Power Plant Cost Reduction | Solar Thermal Power Plant Optimization'},\n",
              " {'KeywordA': 'Solar Thermal Power Plant Performance Improvement | Solar Thermal Power Plant Optimization',\n",
              "  'relation': 'combined',\n",
              "  'KeywordB': 'Solar Thermal Power Plant Efficiency Enhancement | Solar Thermal Power Plant Optimization',\n",
              "  'sentence': 'con edison virtual power plant program combines solar and storage to improve grid resiliency'},\n",
              " {'KeywordA': 'Solar Thermal Power Plant Performance Improvement | Solar Thermal Power Plant Optimization',\n",
              "  'relation': 'combined',\n",
              "  'KeywordB': 'Solar Thermal Power Plant Cost Reduction | Solar Thermal Power Plant Optimization'},\n",
              " {'KeywordA': 'Automated Solar Thermal Generators | Solar Thermal Power Plant Automation',\n",
              "  'relation': 'combined',\n",
              "  'KeywordB': 'Automation of Solar Thermal Power Plants | Solar Thermal Power Plant Automation',\n",
              "  'sentence': 'con edison virtual power plant program combines solar and storage to improve grid resiliency'},\n",
              " {'KeywordA': 'Automation of Solar Thermal Power Plants | Solar Thermal Power Plant Automation',\n",
              "  'relation': 'combined',\n",
              "  'KeywordB': 'Solar Thermal Power Plant Efficiency Enhancement | Solar Thermal Power Plant Optimization',\n",
              "  'sentence': 'con edison virtual power plant program combines solar and storage to improve grid resiliency'},\n",
              " {'KeywordA': 'Automation of Solar Thermal Power Plants | Solar Thermal Power Plant Automation',\n",
              "  'relation': 'combined',\n",
              "  'KeywordB': 'Solar Thermal Power Plant Cost Reduction | Solar Thermal Power Plant Optimization'},\n",
              " {'CapabilityA': 'Automation of Solar Thermal Power Plants | Solar Thermal Power Plant Automation',\n",
              "  'relation': 'combined',\n",
              "  'KeywordB': 'Solar Thermal Power Plant Efficiency Enhancement | Solar Thermal Power Plant Optimization'},\n",
              " {'CapabilityA': 'Automation of Solar Thermal Power Plants | Solar Thermal Power Plant Automation',\n",
              "  'relation': 'combined',\n",
              "  'KeywordB': 'Solar Thermal Power Plant Cost Reduction | Solar Thermal Power Plant Optimization'}]"
            ]
          },
          "execution_count": 12,
          "metadata": {},
          "output_type": "execute_result"
        }
      ],
      "source": [
        "final_list"
      ]
    },
    {
      "cell_type": "code",
      "execution_count": null,
      "id": "b5f3db2d-f843-4d8f-87d1-191298ecd547",
      "metadata": {
        "id": "b5f3db2d-f843-4d8f-87d1-191298ecd547"
      },
      "outputs": [],
      "source": [
        "output_df = pd.DataFrame(final_list)"
      ]
    },
    {
      "cell_type": "code",
      "execution_count": null,
      "id": "d02f1c68-3aa2-4a9c-9a45-19d68826a41c",
      "metadata": {
        "id": "d02f1c68-3aa2-4a9c-9a45-19d68826a41c",
        "outputId": "007becce-a421-43d9-e442-e5301b92d5ea"
      },
      "outputs": [
        {
          "data": {
            "text/html": [
              "<div>\n",
              "<style scoped>\n",
              "    .dataframe tbody tr th:only-of-type {\n",
              "        vertical-align: middle;\n",
              "    }\n",
              "\n",
              "    .dataframe tbody tr th {\n",
              "        vertical-align: top;\n",
              "    }\n",
              "\n",
              "    .dataframe thead th {\n",
              "        text-align: right;\n",
              "    }\n",
              "</style>\n",
              "<table border=\"1\" class=\"dataframe\">\n",
              "  <thead>\n",
              "    <tr style=\"text-align: right;\">\n",
              "      <th></th>\n",
              "      <th>KeywordA</th>\n",
              "      <th>relation</th>\n",
              "      <th>KeywordB</th>\n",
              "      <th>sentence</th>\n",
              "      <th>CapabilityA</th>\n",
              "    </tr>\n",
              "  </thead>\n",
              "  <tbody>\n",
              "    <tr>\n",
              "      <th>0</th>\n",
              "      <td>Solar Thermal Power Plant Performance Improvem...</td>\n",
              "      <td>combined</td>\n",
              "      <td>Solar Thermal Power Plant Efficiency Enhanceme...</td>\n",
              "      <td>con edison virtual power plant program combine...</td>\n",
              "      <td>NaN</td>\n",
              "    </tr>\n",
              "    <tr>\n",
              "      <th>1</th>\n",
              "      <td>Solar Thermal Power Plant Performance Improvem...</td>\n",
              "      <td>combined</td>\n",
              "      <td>Solar Thermal Power Plant Cost Reduction | Sol...</td>\n",
              "      <td>NaN</td>\n",
              "      <td>NaN</td>\n",
              "    </tr>\n",
              "    <tr>\n",
              "      <th>2</th>\n",
              "      <td>Automated Solar Thermal Generators | Solar The...</td>\n",
              "      <td>combined</td>\n",
              "      <td>Automation of Solar Thermal Power Plants | Sol...</td>\n",
              "      <td>con edison virtual power plant program combine...</td>\n",
              "      <td>NaN</td>\n",
              "    </tr>\n",
              "    <tr>\n",
              "      <th>3</th>\n",
              "      <td>Automation of Solar Thermal Power Plants | Sol...</td>\n",
              "      <td>combined</td>\n",
              "      <td>Solar Thermal Power Plant Efficiency Enhanceme...</td>\n",
              "      <td>con edison virtual power plant program combine...</td>\n",
              "      <td>NaN</td>\n",
              "    </tr>\n",
              "    <tr>\n",
              "      <th>4</th>\n",
              "      <td>Automation of Solar Thermal Power Plants | Sol...</td>\n",
              "      <td>combined</td>\n",
              "      <td>Solar Thermal Power Plant Cost Reduction | Sol...</td>\n",
              "      <td>NaN</td>\n",
              "      <td>NaN</td>\n",
              "    </tr>\n",
              "    <tr>\n",
              "      <th>5</th>\n",
              "      <td>NaN</td>\n",
              "      <td>combined</td>\n",
              "      <td>Solar Thermal Power Plant Efficiency Enhanceme...</td>\n",
              "      <td>NaN</td>\n",
              "      <td>Automation of Solar Thermal Power Plants | Sol...</td>\n",
              "    </tr>\n",
              "    <tr>\n",
              "      <th>6</th>\n",
              "      <td>NaN</td>\n",
              "      <td>combined</td>\n",
              "      <td>Solar Thermal Power Plant Cost Reduction | Sol...</td>\n",
              "      <td>NaN</td>\n",
              "      <td>Automation of Solar Thermal Power Plants | Sol...</td>\n",
              "    </tr>\n",
              "    <tr>\n",
              "      <th>7</th>\n",
              "      <td>Solar Thermal Power Plant Performance Improvem...</td>\n",
              "      <td>combined</td>\n",
              "      <td>Solar Thermal Power Plant Efficiency Enhanceme...</td>\n",
              "      <td>con edison virtual power plant program combine...</td>\n",
              "      <td>NaN</td>\n",
              "    </tr>\n",
              "    <tr>\n",
              "      <th>8</th>\n",
              "      <td>Solar Thermal Power Plant Performance Improvem...</td>\n",
              "      <td>combined</td>\n",
              "      <td>Solar Thermal Power Plant Cost Reduction | Sol...</td>\n",
              "      <td>NaN</td>\n",
              "      <td>NaN</td>\n",
              "    </tr>\n",
              "    <tr>\n",
              "      <th>9</th>\n",
              "      <td>Automated Solar Thermal Generators | Solar The...</td>\n",
              "      <td>combined</td>\n",
              "      <td>Automation of Solar Thermal Power Plants | Sol...</td>\n",
              "      <td>con edison virtual power plant program combine...</td>\n",
              "      <td>NaN</td>\n",
              "    </tr>\n",
              "    <tr>\n",
              "      <th>10</th>\n",
              "      <td>Automation of Solar Thermal Power Plants | Sol...</td>\n",
              "      <td>combined</td>\n",
              "      <td>Solar Thermal Power Plant Efficiency Enhanceme...</td>\n",
              "      <td>con edison virtual power plant program combine...</td>\n",
              "      <td>NaN</td>\n",
              "    </tr>\n",
              "    <tr>\n",
              "      <th>11</th>\n",
              "      <td>Automation of Solar Thermal Power Plants | Sol...</td>\n",
              "      <td>combined</td>\n",
              "      <td>Solar Thermal Power Plant Cost Reduction | Sol...</td>\n",
              "      <td>NaN</td>\n",
              "      <td>NaN</td>\n",
              "    </tr>\n",
              "    <tr>\n",
              "      <th>12</th>\n",
              "      <td>NaN</td>\n",
              "      <td>combined</td>\n",
              "      <td>Solar Thermal Power Plant Efficiency Enhanceme...</td>\n",
              "      <td>NaN</td>\n",
              "      <td>Automation of Solar Thermal Power Plants | Sol...</td>\n",
              "    </tr>\n",
              "    <tr>\n",
              "      <th>13</th>\n",
              "      <td>NaN</td>\n",
              "      <td>combined</td>\n",
              "      <td>Solar Thermal Power Plant Cost Reduction | Sol...</td>\n",
              "      <td>NaN</td>\n",
              "      <td>Automation of Solar Thermal Power Plants | Sol...</td>\n",
              "    </tr>\n",
              "    <tr>\n",
              "      <th>14</th>\n",
              "      <td>Solar Thermal Power Plant Performance Improvem...</td>\n",
              "      <td>combined</td>\n",
              "      <td>Solar Thermal Power Plant Efficiency Enhanceme...</td>\n",
              "      <td>con edison virtual power plant program combine...</td>\n",
              "      <td>NaN</td>\n",
              "    </tr>\n",
              "    <tr>\n",
              "      <th>15</th>\n",
              "      <td>Solar Thermal Power Plant Performance Improvem...</td>\n",
              "      <td>combined</td>\n",
              "      <td>Solar Thermal Power Plant Cost Reduction | Sol...</td>\n",
              "      <td>NaN</td>\n",
              "      <td>NaN</td>\n",
              "    </tr>\n",
              "    <tr>\n",
              "      <th>16</th>\n",
              "      <td>Automated Solar Thermal Generators | Solar The...</td>\n",
              "      <td>combined</td>\n",
              "      <td>Automation of Solar Thermal Power Plants | Sol...</td>\n",
              "      <td>con edison virtual power plant program combine...</td>\n",
              "      <td>NaN</td>\n",
              "    </tr>\n",
              "    <tr>\n",
              "      <th>17</th>\n",
              "      <td>Automation of Solar Thermal Power Plants | Sol...</td>\n",
              "      <td>combined</td>\n",
              "      <td>Solar Thermal Power Plant Efficiency Enhanceme...</td>\n",
              "      <td>con edison virtual power plant program combine...</td>\n",
              "      <td>NaN</td>\n",
              "    </tr>\n",
              "    <tr>\n",
              "      <th>18</th>\n",
              "      <td>Automation of Solar Thermal Power Plants | Sol...</td>\n",
              "      <td>combined</td>\n",
              "      <td>Solar Thermal Power Plant Cost Reduction | Sol...</td>\n",
              "      <td>NaN</td>\n",
              "      <td>NaN</td>\n",
              "    </tr>\n",
              "    <tr>\n",
              "      <th>19</th>\n",
              "      <td>NaN</td>\n",
              "      <td>combined</td>\n",
              "      <td>Solar Thermal Power Plant Efficiency Enhanceme...</td>\n",
              "      <td>NaN</td>\n",
              "      <td>Automation of Solar Thermal Power Plants | Sol...</td>\n",
              "    </tr>\n",
              "    <tr>\n",
              "      <th>20</th>\n",
              "      <td>NaN</td>\n",
              "      <td>combined</td>\n",
              "      <td>Solar Thermal Power Plant Cost Reduction | Sol...</td>\n",
              "      <td>NaN</td>\n",
              "      <td>Automation of Solar Thermal Power Plants | Sol...</td>\n",
              "    </tr>\n",
              "  </tbody>\n",
              "</table>\n",
              "</div>"
            ],
            "text/plain": [
              "                                             KeywordA  relation  \\\n",
              "0   Solar Thermal Power Plant Performance Improvem...  combined   \n",
              "1   Solar Thermal Power Plant Performance Improvem...  combined   \n",
              "2   Automated Solar Thermal Generators | Solar The...  combined   \n",
              "3   Automation of Solar Thermal Power Plants | Sol...  combined   \n",
              "4   Automation of Solar Thermal Power Plants | Sol...  combined   \n",
              "5                                                 NaN  combined   \n",
              "6                                                 NaN  combined   \n",
              "7   Solar Thermal Power Plant Performance Improvem...  combined   \n",
              "8   Solar Thermal Power Plant Performance Improvem...  combined   \n",
              "9   Automated Solar Thermal Generators | Solar The...  combined   \n",
              "10  Automation of Solar Thermal Power Plants | Sol...  combined   \n",
              "11  Automation of Solar Thermal Power Plants | Sol...  combined   \n",
              "12                                                NaN  combined   \n",
              "13                                                NaN  combined   \n",
              "14  Solar Thermal Power Plant Performance Improvem...  combined   \n",
              "15  Solar Thermal Power Plant Performance Improvem...  combined   \n",
              "16  Automated Solar Thermal Generators | Solar The...  combined   \n",
              "17  Automation of Solar Thermal Power Plants | Sol...  combined   \n",
              "18  Automation of Solar Thermal Power Plants | Sol...  combined   \n",
              "19                                                NaN  combined   \n",
              "20                                                NaN  combined   \n",
              "\n",
              "                                             KeywordB  \\\n",
              "0   Solar Thermal Power Plant Efficiency Enhanceme...   \n",
              "1   Solar Thermal Power Plant Cost Reduction | Sol...   \n",
              "2   Automation of Solar Thermal Power Plants | Sol...   \n",
              "3   Solar Thermal Power Plant Efficiency Enhanceme...   \n",
              "4   Solar Thermal Power Plant Cost Reduction | Sol...   \n",
              "5   Solar Thermal Power Plant Efficiency Enhanceme...   \n",
              "6   Solar Thermal Power Plant Cost Reduction | Sol...   \n",
              "7   Solar Thermal Power Plant Efficiency Enhanceme...   \n",
              "8   Solar Thermal Power Plant Cost Reduction | Sol...   \n",
              "9   Automation of Solar Thermal Power Plants | Sol...   \n",
              "10  Solar Thermal Power Plant Efficiency Enhanceme...   \n",
              "11  Solar Thermal Power Plant Cost Reduction | Sol...   \n",
              "12  Solar Thermal Power Plant Efficiency Enhanceme...   \n",
              "13  Solar Thermal Power Plant Cost Reduction | Sol...   \n",
              "14  Solar Thermal Power Plant Efficiency Enhanceme...   \n",
              "15  Solar Thermal Power Plant Cost Reduction | Sol...   \n",
              "16  Automation of Solar Thermal Power Plants | Sol...   \n",
              "17  Solar Thermal Power Plant Efficiency Enhanceme...   \n",
              "18  Solar Thermal Power Plant Cost Reduction | Sol...   \n",
              "19  Solar Thermal Power Plant Efficiency Enhanceme...   \n",
              "20  Solar Thermal Power Plant Cost Reduction | Sol...   \n",
              "\n",
              "                                             sentence  \\\n",
              "0   con edison virtual power plant program combine...   \n",
              "1                                                 NaN   \n",
              "2   con edison virtual power plant program combine...   \n",
              "3   con edison virtual power plant program combine...   \n",
              "4                                                 NaN   \n",
              "5                                                 NaN   \n",
              "6                                                 NaN   \n",
              "7   con edison virtual power plant program combine...   \n",
              "8                                                 NaN   \n",
              "9   con edison virtual power plant program combine...   \n",
              "10  con edison virtual power plant program combine...   \n",
              "11                                                NaN   \n",
              "12                                                NaN   \n",
              "13                                                NaN   \n",
              "14  con edison virtual power plant program combine...   \n",
              "15                                                NaN   \n",
              "16  con edison virtual power plant program combine...   \n",
              "17  con edison virtual power plant program combine...   \n",
              "18                                                NaN   \n",
              "19                                                NaN   \n",
              "20                                                NaN   \n",
              "\n",
              "                                          CapabilityA  \n",
              "0                                                 NaN  \n",
              "1                                                 NaN  \n",
              "2                                                 NaN  \n",
              "3                                                 NaN  \n",
              "4                                                 NaN  \n",
              "5   Automation of Solar Thermal Power Plants | Sol...  \n",
              "6   Automation of Solar Thermal Power Plants | Sol...  \n",
              "7                                                 NaN  \n",
              "8                                                 NaN  \n",
              "9                                                 NaN  \n",
              "10                                                NaN  \n",
              "11                                                NaN  \n",
              "12  Automation of Solar Thermal Power Plants | Sol...  \n",
              "13  Automation of Solar Thermal Power Plants | Sol...  \n",
              "14                                                NaN  \n",
              "15                                                NaN  \n",
              "16                                                NaN  \n",
              "17                                                NaN  \n",
              "18                                                NaN  \n",
              "19  Automation of Solar Thermal Power Plants | Sol...  \n",
              "20  Automation of Solar Thermal Power Plants | Sol...  "
            ]
          },
          "execution_count": 14,
          "metadata": {},
          "output_type": "execute_result"
        }
      ],
      "source": [
        "output_df"
      ]
    },
    {
      "cell_type": "code",
      "execution_count": null,
      "id": "355c4565-f1a4-49b1-8612-e032e03ec0c7",
      "metadata": {
        "id": "355c4565-f1a4-49b1-8612-e032e03ec0c7"
      },
      "outputs": [],
      "source": [
        "# Apply the function to the DataFrame and store in new columns\n",
        "df[['keyword', 'Capability']] = df['keywords_n_capability'].apply(lambda x: pd.Series(split_keywords_capability(x)))\n"
      ]
    },
    {
      "cell_type": "code",
      "execution_count": null,
      "id": "c3e61a08-7969-496f-8d27-8c3a7703b9ae",
      "metadata": {
        "id": "c3e61a08-7969-496f-8d27-8c3a7703b9ae",
        "outputId": "560e2898-ac19-42ad-c951-002ed0f22b4e"
      },
      "outputs": [
        {
          "data": {
            "text/html": [
              "<div>\n",
              "<style scoped>\n",
              "    .dataframe tbody tr th:only-of-type {\n",
              "        vertical-align: middle;\n",
              "    }\n",
              "\n",
              "    .dataframe tbody tr th {\n",
              "        vertical-align: top;\n",
              "    }\n",
              "\n",
              "    .dataframe thead th {\n",
              "        text-align: right;\n",
              "    }\n",
              "</style>\n",
              "<table border=\"1\" class=\"dataframe\">\n",
              "  <thead>\n",
              "    <tr style=\"text-align: right;\">\n",
              "      <th></th>\n",
              "      <th>sentence</th>\n",
              "      <th>keywords_n_capability</th>\n",
              "      <th>score</th>\n",
              "      <th>sentence_embedding</th>\n",
              "      <th>keywords_n_capability_embedding</th>\n",
              "      <th>keyword</th>\n",
              "      <th>capability</th>\n",
              "    </tr>\n",
              "  </thead>\n",
              "  <tbody>\n",
              "    <tr>\n",
              "      <th>0</th>\n",
              "      <td>con edison virtual power plant program combine...</td>\n",
              "      <td>Solar Thermal Power Plant Performance Improvem...</td>\n",
              "      <td>0.535070</td>\n",
              "      <td>[-0.03639473766088486, 0.11040761321783066, -0...</td>\n",
              "      <td>[0.053931125, 0.11799984, -0.012622677, 0.0197...</td>\n",
              "      <td>Solar Thermal Power Plant Performance Improvem...</td>\n",
              "      <td>Solar Thermal Power Plant Optimization</td>\n",
              "    </tr>\n",
              "    <tr>\n",
              "      <th>1</th>\n",
              "      <td>con edison virtual power plant program combine...</td>\n",
              "      <td>Solar Thermal Power Plant Efficiency Enhanceme...</td>\n",
              "      <td>0.533992</td>\n",
              "      <td>[-0.03639473766088486, 0.11040761321783066, -0...</td>\n",
              "      <td>[0.043581158, 0.13309208, -0.026609281, 0.0420...</td>\n",
              "      <td>Solar Thermal Power Plant Efficiency Enhancement</td>\n",
              "      <td>Solar Thermal Power Plant Optimization</td>\n",
              "    </tr>\n",
              "  </tbody>\n",
              "</table>\n",
              "</div>"
            ],
            "text/plain": [
              "                                            sentence  \\\n",
              "0  con edison virtual power plant program combine...   \n",
              "1  con edison virtual power plant program combine...   \n",
              "\n",
              "                               keywords_n_capability     score  \\\n",
              "0  Solar Thermal Power Plant Performance Improvem...  0.535070   \n",
              "1  Solar Thermal Power Plant Efficiency Enhanceme...  0.533992   \n",
              "\n",
              "                                  sentence_embedding  \\\n",
              "0  [-0.03639473766088486, 0.11040761321783066, -0...   \n",
              "1  [-0.03639473766088486, 0.11040761321783066, -0...   \n",
              "\n",
              "                     keywords_n_capability_embedding  \\\n",
              "0  [0.053931125, 0.11799984, -0.012622677, 0.0197...   \n",
              "1  [0.043581158, 0.13309208, -0.026609281, 0.0420...   \n",
              "\n",
              "                                             keyword  \\\n",
              "0  Solar Thermal Power Plant Performance Improvem...   \n",
              "1  Solar Thermal Power Plant Efficiency Enhancement    \n",
              "\n",
              "                                capability  \n",
              "0   Solar Thermal Power Plant Optimization  \n",
              "1   Solar Thermal Power Plant Optimization  "
            ]
          },
          "execution_count": 23,
          "metadata": {},
          "output_type": "execute_result"
        }
      ],
      "source": [
        "df.head(2)"
      ]
    },
    {
      "cell_type": "code",
      "execution_count": null,
      "id": "ed6b678e-05b6-468a-b440-fc9237c81369",
      "metadata": {
        "id": "ed6b678e-05b6-468a-b440-fc9237c81369"
      },
      "outputs": [],
      "source": [
        "merged_df = output_df.merge(df[['keyword', 'Capability']], left_on='KeywordA', right_on='keyword', how='left')\n",
        "merged_df.rename(columns={'Capability': 'CapabilityA'}, inplace=True)\n",
        "merged_df.drop(columns=['keyword'], inplace=True)"
      ]
    },
    {
      "cell_type": "code",
      "execution_count": null,
      "id": "824440d5-65ff-4ff9-ba22-9259391b78c2",
      "metadata": {
        "id": "824440d5-65ff-4ff9-ba22-9259391b78c2",
        "outputId": "88044f71-8d1c-4dc4-856a-0cbccdcc1398"
      },
      "outputs": [
        {
          "data": {
            "text/plain": [
              "CapabilityA    15\n",
              "CapabilityA    21\n",
              "dtype: int64"
            ]
          },
          "execution_count": 27,
          "metadata": {},
          "output_type": "execute_result"
        }
      ],
      "source": [
        "merged_df.CapabilityA.isna().sum()"
      ]
    },
    {
      "cell_type": "code",
      "execution_count": null,
      "id": "7db5865d-82b9-49d4-ba1f-c3e56d03c224",
      "metadata": {
        "tags": [],
        "id": "7db5865d-82b9-49d4-ba1f-c3e56d03c224",
        "outputId": "a5c6c88f-bae6-40d3-9dde-4adbbb326cac"
      },
      "outputs": [
        {
          "data": {
            "text/html": [
              "<div>\n",
              "<style scoped>\n",
              "    .dataframe tbody tr th:only-of-type {\n",
              "        vertical-align: middle;\n",
              "    }\n",
              "\n",
              "    .dataframe tbody tr th {\n",
              "        vertical-align: top;\n",
              "    }\n",
              "\n",
              "    .dataframe thead th {\n",
              "        text-align: right;\n",
              "    }\n",
              "</style>\n",
              "<table border=\"1\" class=\"dataframe\">\n",
              "  <thead>\n",
              "    <tr style=\"text-align: right;\">\n",
              "      <th></th>\n",
              "      <th>KeywordA</th>\n",
              "      <th>relation</th>\n",
              "      <th>KeywordB</th>\n",
              "      <th>sentence</th>\n",
              "    </tr>\n",
              "  </thead>\n",
              "  <tbody>\n",
              "    <tr>\n",
              "      <th>0</th>\n",
              "      <td>Automated Solar Thermal Generators</td>\n",
              "      <td>combined with</td>\n",
              "      <td>Solar Thermal Power Plant Abatement</td>\n",
              "      <td>For electricity generation, this technology su...</td>\n",
              "    </tr>\n",
              "    <tr>\n",
              "      <th>1</th>\n",
              "      <td>Automation of Solar Thermal Power Plants</td>\n",
              "      <td>combined with</td>\n",
              "      <td>Solar Thermal Power Plant Abatement</td>\n",
              "      <td>For electricity generation, this technology su...</td>\n",
              "    </tr>\n",
              "    <tr>\n",
              "      <th>2</th>\n",
              "      <td>Solar Thermal Power Plant Abatement</td>\n",
              "      <td>combined with</td>\n",
              "      <td>Solar Thermal Power Plant Performance Improvement</td>\n",
              "      <td>For electricity generation, this technology su...</td>\n",
              "    </tr>\n",
              "  </tbody>\n",
              "</table>\n",
              "</div>"
            ],
            "text/plain": [
              "                                   KeywordA       relation  \\\n",
              "0        Automated Solar Thermal Generators  combined with   \n",
              "1  Automation of Solar Thermal Power Plants  combined with   \n",
              "2       Solar Thermal Power Plant Abatement  combined with   \n",
              "\n",
              "                                            KeywordB  \\\n",
              "0                Solar Thermal Power Plant Abatement   \n",
              "1                Solar Thermal Power Plant Abatement   \n",
              "2  Solar Thermal Power Plant Performance Improvement   \n",
              "\n",
              "                                            sentence  \n",
              "0  For electricity generation, this technology su...  \n",
              "1  For electricity generation, this technology su...  \n",
              "2  For electricity generation, this technology su...  "
            ]
          },
          "execution_count": 267,
          "metadata": {},
          "output_type": "execute_result"
        }
      ],
      "source": [
        "output_df"
      ]
    },
    {
      "cell_type": "code",
      "execution_count": null,
      "id": "9e91d011-870e-43cf-a37e-4332214c49e6",
      "metadata": {
        "tags": [],
        "id": "9e91d011-870e-43cf-a37e-4332214c49e6"
      },
      "outputs": [],
      "source": [
        "merged_df = merged_df.merge(df[['keyword', 'Capability']], left_on='KeywordB', right_on='keyword', how='left')\n",
        "merged_df.rename(columns={'Capability': 'CapabilityB'}, inplace=True)\n",
        "merged_df.drop(columns=['keyword'], inplace=True)"
      ]
    },
    {
      "cell_type": "code",
      "execution_count": null,
      "id": "f83fe7c8-c1b7-423f-8894-bc78e2bb3b99",
      "metadata": {
        "id": "f83fe7c8-c1b7-423f-8894-bc78e2bb3b99",
        "outputId": "d6b740c9-f35a-4936-b283-d7c5adbf8ce4"
      },
      "outputs": [
        {
          "data": {
            "text/plain": [
              "0"
            ]
          },
          "execution_count": 269,
          "metadata": {},
          "output_type": "execute_result"
        }
      ],
      "source": [
        "merged_df.CapabilityB.isna().sum()"
      ]
    },
    {
      "cell_type": "code",
      "execution_count": null,
      "id": "68dad4af-210d-43ea-bd7b-112376c76f50",
      "metadata": {
        "id": "68dad4af-210d-43ea-bd7b-112376c76f50"
      },
      "outputs": [],
      "source": [
        "merged_df.to_csv(\"final_output.csv\", index=False)"
      ]
    },
    {
      "cell_type": "code",
      "execution_count": null,
      "id": "a1b0a924-dbaf-4251-833f-8728b7b2d6ad",
      "metadata": {
        "id": "a1b0a924-dbaf-4251-833f-8728b7b2d6ad",
        "outputId": "2b1d6de8-8964-4f1b-bb7f-b3cd353ba7f1"
      },
      "outputs": [
        {
          "data": {
            "text/html": [
              "<div>\n",
              "<style scoped>\n",
              "    .dataframe tbody tr th:only-of-type {\n",
              "        vertical-align: middle;\n",
              "    }\n",
              "\n",
              "    .dataframe tbody tr th {\n",
              "        vertical-align: top;\n",
              "    }\n",
              "\n",
              "    .dataframe thead th {\n",
              "        text-align: right;\n",
              "    }\n",
              "</style>\n",
              "<table border=\"1\" class=\"dataframe\">\n",
              "  <thead>\n",
              "    <tr style=\"text-align: right;\">\n",
              "      <th></th>\n",
              "      <th>KeywordA</th>\n",
              "      <th>relation</th>\n",
              "      <th>KeywordB</th>\n",
              "      <th>sentence</th>\n",
              "      <th>CapabilityA</th>\n",
              "      <th>CapabilityA</th>\n",
              "    </tr>\n",
              "  </thead>\n",
              "  <tbody>\n",
              "    <tr>\n",
              "      <th>0</th>\n",
              "      <td>Solar Thermal Power Plant Performance Improvem...</td>\n",
              "      <td>combined</td>\n",
              "      <td>Solar Thermal Power Plant Efficiency Enhanceme...</td>\n",
              "      <td>con edison virtual power plant program combine...</td>\n",
              "      <td>NaN</td>\n",
              "      <td>NaN</td>\n",
              "    </tr>\n",
              "    <tr>\n",
              "      <th>1</th>\n",
              "      <td>Solar Thermal Power Plant Performance Improvem...</td>\n",
              "      <td>combined</td>\n",
              "      <td>Solar Thermal Power Plant Cost Reduction | Sol...</td>\n",
              "      <td>NaN</td>\n",
              "      <td>NaN</td>\n",
              "      <td>NaN</td>\n",
              "    </tr>\n",
              "    <tr>\n",
              "      <th>2</th>\n",
              "      <td>Automated Solar Thermal Generators | Solar The...</td>\n",
              "      <td>combined</td>\n",
              "      <td>Automation of Solar Thermal Power Plants | Sol...</td>\n",
              "      <td>con edison virtual power plant program combine...</td>\n",
              "      <td>NaN</td>\n",
              "      <td>NaN</td>\n",
              "    </tr>\n",
              "    <tr>\n",
              "      <th>3</th>\n",
              "      <td>Automation of Solar Thermal Power Plants | Sol...</td>\n",
              "      <td>combined</td>\n",
              "      <td>Solar Thermal Power Plant Efficiency Enhanceme...</td>\n",
              "      <td>con edison virtual power plant program combine...</td>\n",
              "      <td>NaN</td>\n",
              "      <td>NaN</td>\n",
              "    </tr>\n",
              "    <tr>\n",
              "      <th>4</th>\n",
              "      <td>Automation of Solar Thermal Power Plants | Sol...</td>\n",
              "      <td>combined</td>\n",
              "      <td>Solar Thermal Power Plant Cost Reduction | Sol...</td>\n",
              "      <td>NaN</td>\n",
              "      <td>NaN</td>\n",
              "      <td>NaN</td>\n",
              "    </tr>\n",
              "    <tr>\n",
              "      <th>5</th>\n",
              "      <td>NaN</td>\n",
              "      <td>combined</td>\n",
              "      <td>Solar Thermal Power Plant Efficiency Enhanceme...</td>\n",
              "      <td>NaN</td>\n",
              "      <td>Automation of Solar Thermal Power Plants | Sol...</td>\n",
              "      <td>NaN</td>\n",
              "    </tr>\n",
              "    <tr>\n",
              "      <th>6</th>\n",
              "      <td>NaN</td>\n",
              "      <td>combined</td>\n",
              "      <td>Solar Thermal Power Plant Cost Reduction | Sol...</td>\n",
              "      <td>NaN</td>\n",
              "      <td>Automation of Solar Thermal Power Plants | Sol...</td>\n",
              "      <td>NaN</td>\n",
              "    </tr>\n",
              "    <tr>\n",
              "      <th>7</th>\n",
              "      <td>Solar Thermal Power Plant Performance Improvem...</td>\n",
              "      <td>combined</td>\n",
              "      <td>Solar Thermal Power Plant Efficiency Enhanceme...</td>\n",
              "      <td>con edison virtual power plant program combine...</td>\n",
              "      <td>NaN</td>\n",
              "      <td>NaN</td>\n",
              "    </tr>\n",
              "    <tr>\n",
              "      <th>8</th>\n",
              "      <td>Solar Thermal Power Plant Performance Improvem...</td>\n",
              "      <td>combined</td>\n",
              "      <td>Solar Thermal Power Plant Cost Reduction | Sol...</td>\n",
              "      <td>NaN</td>\n",
              "      <td>NaN</td>\n",
              "      <td>NaN</td>\n",
              "    </tr>\n",
              "    <tr>\n",
              "      <th>9</th>\n",
              "      <td>Automated Solar Thermal Generators | Solar The...</td>\n",
              "      <td>combined</td>\n",
              "      <td>Automation of Solar Thermal Power Plants | Sol...</td>\n",
              "      <td>con edison virtual power plant program combine...</td>\n",
              "      <td>NaN</td>\n",
              "      <td>NaN</td>\n",
              "    </tr>\n",
              "    <tr>\n",
              "      <th>10</th>\n",
              "      <td>Automation of Solar Thermal Power Plants | Sol...</td>\n",
              "      <td>combined</td>\n",
              "      <td>Solar Thermal Power Plant Efficiency Enhanceme...</td>\n",
              "      <td>con edison virtual power plant program combine...</td>\n",
              "      <td>NaN</td>\n",
              "      <td>NaN</td>\n",
              "    </tr>\n",
              "    <tr>\n",
              "      <th>11</th>\n",
              "      <td>Automation of Solar Thermal Power Plants | Sol...</td>\n",
              "      <td>combined</td>\n",
              "      <td>Solar Thermal Power Plant Cost Reduction | Sol...</td>\n",
              "      <td>NaN</td>\n",
              "      <td>NaN</td>\n",
              "      <td>NaN</td>\n",
              "    </tr>\n",
              "    <tr>\n",
              "      <th>12</th>\n",
              "      <td>NaN</td>\n",
              "      <td>combined</td>\n",
              "      <td>Solar Thermal Power Plant Efficiency Enhanceme...</td>\n",
              "      <td>NaN</td>\n",
              "      <td>Automation of Solar Thermal Power Plants | Sol...</td>\n",
              "      <td>NaN</td>\n",
              "    </tr>\n",
              "    <tr>\n",
              "      <th>13</th>\n",
              "      <td>NaN</td>\n",
              "      <td>combined</td>\n",
              "      <td>Solar Thermal Power Plant Cost Reduction | Sol...</td>\n",
              "      <td>NaN</td>\n",
              "      <td>Automation of Solar Thermal Power Plants | Sol...</td>\n",
              "      <td>NaN</td>\n",
              "    </tr>\n",
              "    <tr>\n",
              "      <th>14</th>\n",
              "      <td>Solar Thermal Power Plant Performance Improvem...</td>\n",
              "      <td>combined</td>\n",
              "      <td>Solar Thermal Power Plant Efficiency Enhanceme...</td>\n",
              "      <td>con edison virtual power plant program combine...</td>\n",
              "      <td>NaN</td>\n",
              "      <td>NaN</td>\n",
              "    </tr>\n",
              "    <tr>\n",
              "      <th>15</th>\n",
              "      <td>Solar Thermal Power Plant Performance Improvem...</td>\n",
              "      <td>combined</td>\n",
              "      <td>Solar Thermal Power Plant Cost Reduction | Sol...</td>\n",
              "      <td>NaN</td>\n",
              "      <td>NaN</td>\n",
              "      <td>NaN</td>\n",
              "    </tr>\n",
              "    <tr>\n",
              "      <th>16</th>\n",
              "      <td>Automated Solar Thermal Generators | Solar The...</td>\n",
              "      <td>combined</td>\n",
              "      <td>Automation of Solar Thermal Power Plants | Sol...</td>\n",
              "      <td>con edison virtual power plant program combine...</td>\n",
              "      <td>NaN</td>\n",
              "      <td>NaN</td>\n",
              "    </tr>\n",
              "    <tr>\n",
              "      <th>17</th>\n",
              "      <td>Automation of Solar Thermal Power Plants | Sol...</td>\n",
              "      <td>combined</td>\n",
              "      <td>Solar Thermal Power Plant Efficiency Enhanceme...</td>\n",
              "      <td>con edison virtual power plant program combine...</td>\n",
              "      <td>NaN</td>\n",
              "      <td>NaN</td>\n",
              "    </tr>\n",
              "    <tr>\n",
              "      <th>18</th>\n",
              "      <td>Automation of Solar Thermal Power Plants | Sol...</td>\n",
              "      <td>combined</td>\n",
              "      <td>Solar Thermal Power Plant Cost Reduction | Sol...</td>\n",
              "      <td>NaN</td>\n",
              "      <td>NaN</td>\n",
              "      <td>NaN</td>\n",
              "    </tr>\n",
              "    <tr>\n",
              "      <th>19</th>\n",
              "      <td>NaN</td>\n",
              "      <td>combined</td>\n",
              "      <td>Solar Thermal Power Plant Efficiency Enhanceme...</td>\n",
              "      <td>NaN</td>\n",
              "      <td>Automation of Solar Thermal Power Plants | Sol...</td>\n",
              "      <td>NaN</td>\n",
              "    </tr>\n",
              "    <tr>\n",
              "      <th>20</th>\n",
              "      <td>NaN</td>\n",
              "      <td>combined</td>\n",
              "      <td>Solar Thermal Power Plant Cost Reduction | Sol...</td>\n",
              "      <td>NaN</td>\n",
              "      <td>Automation of Solar Thermal Power Plants | Sol...</td>\n",
              "      <td>NaN</td>\n",
              "    </tr>\n",
              "  </tbody>\n",
              "</table>\n",
              "</div>"
            ],
            "text/plain": [
              "                                             KeywordA  relation  \\\n",
              "0   Solar Thermal Power Plant Performance Improvem...  combined   \n",
              "1   Solar Thermal Power Plant Performance Improvem...  combined   \n",
              "2   Automated Solar Thermal Generators | Solar The...  combined   \n",
              "3   Automation of Solar Thermal Power Plants | Sol...  combined   \n",
              "4   Automation of Solar Thermal Power Plants | Sol...  combined   \n",
              "5                                                 NaN  combined   \n",
              "6                                                 NaN  combined   \n",
              "7   Solar Thermal Power Plant Performance Improvem...  combined   \n",
              "8   Solar Thermal Power Plant Performance Improvem...  combined   \n",
              "9   Automated Solar Thermal Generators | Solar The...  combined   \n",
              "10  Automation of Solar Thermal Power Plants | Sol...  combined   \n",
              "11  Automation of Solar Thermal Power Plants | Sol...  combined   \n",
              "12                                                NaN  combined   \n",
              "13                                                NaN  combined   \n",
              "14  Solar Thermal Power Plant Performance Improvem...  combined   \n",
              "15  Solar Thermal Power Plant Performance Improvem...  combined   \n",
              "16  Automated Solar Thermal Generators | Solar The...  combined   \n",
              "17  Automation of Solar Thermal Power Plants | Sol...  combined   \n",
              "18  Automation of Solar Thermal Power Plants | Sol...  combined   \n",
              "19                                                NaN  combined   \n",
              "20                                                NaN  combined   \n",
              "\n",
              "                                             KeywordB  \\\n",
              "0   Solar Thermal Power Plant Efficiency Enhanceme...   \n",
              "1   Solar Thermal Power Plant Cost Reduction | Sol...   \n",
              "2   Automation of Solar Thermal Power Plants | Sol...   \n",
              "3   Solar Thermal Power Plant Efficiency Enhanceme...   \n",
              "4   Solar Thermal Power Plant Cost Reduction | Sol...   \n",
              "5   Solar Thermal Power Plant Efficiency Enhanceme...   \n",
              "6   Solar Thermal Power Plant Cost Reduction | Sol...   \n",
              "7   Solar Thermal Power Plant Efficiency Enhanceme...   \n",
              "8   Solar Thermal Power Plant Cost Reduction | Sol...   \n",
              "9   Automation of Solar Thermal Power Plants | Sol...   \n",
              "10  Solar Thermal Power Plant Efficiency Enhanceme...   \n",
              "11  Solar Thermal Power Plant Cost Reduction | Sol...   \n",
              "12  Solar Thermal Power Plant Efficiency Enhanceme...   \n",
              "13  Solar Thermal Power Plant Cost Reduction | Sol...   \n",
              "14  Solar Thermal Power Plant Efficiency Enhanceme...   \n",
              "15  Solar Thermal Power Plant Cost Reduction | Sol...   \n",
              "16  Automation of Solar Thermal Power Plants | Sol...   \n",
              "17  Solar Thermal Power Plant Efficiency Enhanceme...   \n",
              "18  Solar Thermal Power Plant Cost Reduction | Sol...   \n",
              "19  Solar Thermal Power Plant Efficiency Enhanceme...   \n",
              "20  Solar Thermal Power Plant Cost Reduction | Sol...   \n",
              "\n",
              "                                             sentence  \\\n",
              "0   con edison virtual power plant program combine...   \n",
              "1                                                 NaN   \n",
              "2   con edison virtual power plant program combine...   \n",
              "3   con edison virtual power plant program combine...   \n",
              "4                                                 NaN   \n",
              "5                                                 NaN   \n",
              "6                                                 NaN   \n",
              "7   con edison virtual power plant program combine...   \n",
              "8                                                 NaN   \n",
              "9   con edison virtual power plant program combine...   \n",
              "10  con edison virtual power plant program combine...   \n",
              "11                                                NaN   \n",
              "12                                                NaN   \n",
              "13                                                NaN   \n",
              "14  con edison virtual power plant program combine...   \n",
              "15                                                NaN   \n",
              "16  con edison virtual power plant program combine...   \n",
              "17  con edison virtual power plant program combine...   \n",
              "18                                                NaN   \n",
              "19                                                NaN   \n",
              "20                                                NaN   \n",
              "\n",
              "                                          CapabilityA CapabilityA  \n",
              "0                                                 NaN         NaN  \n",
              "1                                                 NaN         NaN  \n",
              "2                                                 NaN         NaN  \n",
              "3                                                 NaN         NaN  \n",
              "4                                                 NaN         NaN  \n",
              "5   Automation of Solar Thermal Power Plants | Sol...         NaN  \n",
              "6   Automation of Solar Thermal Power Plants | Sol...         NaN  \n",
              "7                                                 NaN         NaN  \n",
              "8                                                 NaN         NaN  \n",
              "9                                                 NaN         NaN  \n",
              "10                                                NaN         NaN  \n",
              "11                                                NaN         NaN  \n",
              "12  Automation of Solar Thermal Power Plants | Sol...         NaN  \n",
              "13  Automation of Solar Thermal Power Plants | Sol...         NaN  \n",
              "14                                                NaN         NaN  \n",
              "15                                                NaN         NaN  \n",
              "16                                                NaN         NaN  \n",
              "17                                                NaN         NaN  \n",
              "18                                                NaN         NaN  \n",
              "19  Automation of Solar Thermal Power Plants | Sol...         NaN  \n",
              "20  Automation of Solar Thermal Power Plants | Sol...         NaN  "
            ]
          },
          "execution_count": 29,
          "metadata": {},
          "output_type": "execute_result"
        }
      ],
      "source": [
        "merged_df"
      ]
    },
    {
      "cell_type": "code",
      "execution_count": null,
      "id": "de2471a6-4eaa-48e1-a3c7-4e99a9c8d6fc",
      "metadata": {
        "id": "de2471a6-4eaa-48e1-a3c7-4e99a9c8d6fc"
      },
      "outputs": [],
      "source": [
        "{\n",
        "            'KeywordA': 'Automation of Solar Thermal Power Plants',\n",
        "            'relation': 'developed',\n",
        "            'KeywordB': 'Solar Thermal Power Plant Efficiency Enhancement'\n",
        "},\n",
        "\n",
        "\n",
        "\n",
        "{\n",
        "            'capA': 'Automation of Solar Thermal Power Plants',\n",
        "            'relation': 'developed',\n",
        "            'capB': 'Solar Thermal Power Plant Efficiency Enhancement'\n",
        "        },\n",
        "\n",
        "\n",
        "\n",
        "{\n",
        "            'keyword': 'Automation of Solar Thermal Power Plants',\n",
        "            'relation': 'developed',\n",
        "            'capability': 'Solar Thermal Power Plant Efficiency Enhancement'\n",
        "        },"
      ]
    },
    {
      "cell_type": "code",
      "execution_count": null,
      "id": "906ed03d",
      "metadata": {
        "id": "906ed03d"
      },
      "outputs": [],
      "source": []
    }
  ],
  "metadata": {
    "environment": {
      "kernel": "conda-root-py",
      "name": "workbench-notebooks.m111",
      "type": "gcloud",
      "uri": "gcr.io/deeplearning-platform-release/workbench-notebooks:m111"
    },
    "kernelspec": {
      "display_name": "Python 3",
      "language": "python",
      "name": "conda-root-py"
    },
    "language_info": {
      "codemirror_mode": {
        "name": "ipython",
        "version": 3
      },
      "file_extension": ".py",
      "mimetype": "text/x-python",
      "name": "python",
      "nbconvert_exporter": "python",
      "pygments_lexer": "ipython3",
      "version": "3.10.12"
    },
    "colab": {
      "provenance": [],
      "toc_visible": true
    }
  },
  "nbformat": 4,
  "nbformat_minor": 5
}