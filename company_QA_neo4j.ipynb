{
  "cells": [
    {
      "cell_type": "markdown",
      "source": [
        "# motive\n",
        "1. Be comfortable with both vector and graph embeding\n",
        "2. store and retrive from neo4j\n",
        "## notebook work plan\n",
        "\n",
        "Vector embeding\n",
        "1. prepare env and define metadata extractor target\n",
        "2. load document\n",
        "3. embed with opensource HF model (vector embeding)\n",
        "4. store into neo4j (vector store)\n",
        "5. build query agent\n",
        "\n",
        "KG part\n",
        "1. use metadata kg option true\n",
        "2. store knowledege graph embeding to neo4j\n",
        "3. build kg query agent"
      ],
      "metadata": {
        "id": "90LqBTobB69a"
      },
      "id": "90LqBTobB69a"
    },
    {
      "cell_type": "code",
      "execution_count": null,
      "id": "74f26202-16a1-4a7f-a83f-12e121f61345",
      "metadata": {
        "id": "74f26202-16a1-4a7f-a83f-12e121f61345"
      },
      "outputs": [],
      "source": [
        "# !pip install -q pygpt4all\n",
        "!pip install -q llama-index\n",
        "!pip install -q sentence_transformers\n",
        "!pip install -q transformers\n",
        "!pip install -q einops\n",
        "!pip install -q accelerate\n",
        "!pip install -q pypdf\n",
        "!pip install -q langchain\n",
        "!pip install -q llama-cpp-python\n",
        "!pip install -q neo4j"
      ]
    },
    {
      "cell_type": "code",
      "execution_count": null,
      "id": "f0f83b6a-0e20-44ac-a95a-b71c20f3f257",
      "metadata": {
        "id": "f0f83b6a-0e20-44ac-a95a-b71c20f3f257"
      },
      "outputs": [],
      "source": [
        "from llama_index import VectorStoreIndex, SimpleDirectoryReader\n",
        "from IPython.display import Markdown, display\n",
        "from langchain.embeddings.huggingface import HuggingFaceEmbeddings\n",
        "from langchain.llms import GPT4All\n",
        "from llama_index.node_parser.simple import SimpleNodeParser\n",
        "from llama_index.langchain_helpers.text_splitter import TokenTextSplitter\n",
        "from llama_index import (\n",
        "    GPTVectorStoreIndex,\n",
        "    LangchainEmbedding,\n",
        "    LLMPredictor,\n",
        "    ServiceContext,\n",
        "    StorageContext,\n",
        "    download_loader,\n",
        "    PromptHelper,\n",
        "     SimpleDirectoryReader,\n",
        "    VectorStoreIndex,\n",
        "     SummaryIndex,\n",
        "    KnowledgeGraphIndex,\n",
        "    SimpleKeywordTableIndex,\n",
        "    ServiceContext,\n",
        ")\n",
        "from llama_index.schema import IndexNode\n",
        "from llama_index.tools import QueryEngineTool, ToolMetadata\n",
        "from llama_index.llms import OpenAI\n",
        "from llama_index.llms import LlamaCPP\n",
        "from llama_index.llms.llama_utils import messages_to_prompt, completion_to_prompt\n",
        "from langchain.llms import CTransformers\n",
        "from langchain.memory import ConversationBufferMemory\n",
        "import os"
      ]
    },
    {
      "cell_type": "code",
      "execution_count": null,
      "id": "fd1465db-189f-4996-b1b0-0e5771027cd5",
      "metadata": {
        "id": "fd1465db-189f-4996-b1b0-0e5771027cd5"
      },
      "outputs": [],
      "source": [
        "# using HF embedding\n",
        "embed_model = HuggingFaceEmbeddings(model_name=\"sentence-transformers/all-mpnet-base-v2\")\n"
      ]
    },
    {
      "cell_type": "code",
      "execution_count": null,
      "id": "2f241272-4d4d-45fc-beef-da3323b1b65a",
      "metadata": {
        "id": "2f241272-4d4d-45fc-beef-da3323b1b65a"
      },
      "outputs": [],
      "source": [
        "# using mistral-7b\n",
        "# using llama2-13b\n",
        "\n",
        "llm3 = CTransformers(model=\"../company_QA/llama-2-13b-chat.Q4_0.gguf\",\n",
        "                     config={'max_new_tokens': 256,\n",
        "                             'temperature': 0.2,\n",
        "                             'context_length':3900})\n",
        "# llm3 = CTransformers(model=\"mistral-7b-instruct-v0.1.Q4_K_M.gguf\", config={'max_new_tokens': 556, 'temperature': 0.2, 'context_length':3900})"
      ]
    },
    {
      "cell_type": "code",
      "execution_count": null,
      "id": "5b2ceb5d-f595-4a19-9692-63979bed9733",
      "metadata": {
        "id": "5b2ceb5d-f595-4a19-9692-63979bed9733"
      },
      "outputs": [],
      "source": [
        "\n",
        "from llama_index import load_index_from_storage, StorageContext\n",
        "from llama_index.node_parser.extractors import (\n",
        "    MetadataExtractor,\n",
        "    SummaryExtractor,\n",
        "    QuestionsAnsweredExtractor,\n",
        "    TitleExtractor,\n",
        "    KeywordExtractor,\n",
        "    EntityExtractor,\n",
        ")\n",
        "\n",
        "from llama_index.text_splitter import TokenTextSplitter\n",
        "\n",
        "text_splitter = TokenTextSplitter(separator=\" \", chunk_size=1512, chunk_overlap=128)\n",
        "\n",
        "metadata_extractor = MetadataExtractor(\n",
        "    extractors=[\n",
        "        TitleExtractor(nodes=2,llm=llm3),\n",
        "        # QuestionsAnsweredExtractor(questions=3),\n",
        "        #  SummaryExtractor(summaries=[\"prev\", \"self\"],llm=llm),\n",
        "        KeywordExtractor(keywords=5,llm=llm3),\n",
        "        # EntityExtractor(prediction_threshold=0.5),\n",
        "    ],\n",
        ")\n",
        "\n",
        "node_parser = SimpleNodeParser.from_defaults(\n",
        "    text_splitter=text_splitter,\n",
        "    metadata_extractor=metadata_extractor,\n",
        ")\n",
        "\n",
        "service_context = ServiceContext.from_defaults(embed_model=embed_model,\n",
        "                                               llm=llm3,\n",
        "                                                node_parser=node_parser)\n"
      ]
    },
    {
      "cell_type": "code",
      "execution_count": null,
      "id": "81637eb0-a604-4c01-8643-2cd4730688e0",
      "metadata": {
        "id": "81637eb0-a604-4c01-8643-2cd4730688e0"
      },
      "outputs": [],
      "source": []
    },
    {
      "cell_type": "code",
      "execution_count": null,
      "id": "b8d3d628-f570-4f1a-bd6d-478404926777",
      "metadata": {
        "id": "b8d3d628-f570-4f1a-bd6d-478404926777",
        "outputId": "d0f52bd6-66d6-48cb-85a2-c6b6c4e59b63"
      },
      "outputs": [
        {
          "data": {
            "text/plain": [
              "18"
            ]
          },
          "execution_count": 6,
          "metadata": {},
          "output_type": "execute_result"
        }
      ],
      "source": [
        "from llama_index import (\n",
        "    SimpleDirectoryReader,\n",
        "    LLMPredictor,\n",
        "    ServiceContext,\n",
        "    KnowledgeGraphIndex,\n",
        ")\n",
        "from llama_index.graph_stores import SimpleGraphStore\n",
        "\n",
        "from llama_index.llms import OpenAI\n",
        "from IPython.display import Markdown, display\n",
        "from langchain.document_loaders import DirectoryLoader\n",
        "from langchain.document_loaders import PyPDFLoader\n",
        "\n",
        "# load documents\n",
        "# documents = SimpleDirectoryReader(\"./data_wt\").load_data()\n",
        "# for the pdf file\n",
        "loader = DirectoryLoader('./data_wt', glob=\"./*.pdf\", loader_cls=PyPDFLoader)\n",
        "\n",
        "documents = loader.load()\n",
        "len(documents)"
      ]
    },
    {
      "cell_type": "code",
      "execution_count": null,
      "id": "5dc33fb6-ec26-4d8b-8a52-4eaa6f1dd4a1",
      "metadata": {
        "id": "5dc33fb6-ec26-4d8b-8a52-4eaa6f1dd4a1",
        "outputId": "d2338189-c9f9-43a0-d724-b5bcfe56e62f"
      },
      "outputs": [
        {
          "data": {
            "text/plain": [
              "21"
            ]
          },
          "execution_count": 6,
          "metadata": {},
          "output_type": "execute_result"
        }
      ],
      "source": [
        "from langchain.text_splitter import RecursiveCharacterTextSplitter\n",
        "\n",
        "text_splitter = RecursiveCharacterTextSplitter(chunk_size=1000, chunk_overlap=100)\n",
        "# Chunk the document\n",
        "documents = text_splitter.split_documents(documents)\n",
        "len(documents)"
      ]
    },
    {
      "cell_type": "markdown",
      "id": "2429373a-0719-465e-8fae-06e7d00d8427",
      "metadata": {
        "id": "2429373a-0719-465e-8fae-06e7d00d8427"
      },
      "source": [
        "# neo4j vector embedding"
      ]
    },
    {
      "cell_type": "code",
      "execution_count": null,
      "id": "6efcdfc9-aa9c-4059-8f59-13ee9b2a8e06",
      "metadata": {
        "id": "6efcdfc9-aa9c-4059-8f59-13ee9b2a8e06"
      },
      "outputs": [],
      "source": [
        "from langchain.vectorstores import Neo4jVector\n",
        "from langchain.embeddings.openai import OpenAIEmbeddings\n",
        "\n",
        "# Neo4j Aura credentials\n",
        "url=\"neo4j+s://6b65.databases.neo4j.io\"\n",
        "username=\"neo4j\"\n",
        "password=\"5JLKyskCjMPBeME2dw\"\n",
        "\n",
        "# Instantiate Neo4j vector from documents\n",
        "# neo4j_vector = Neo4jVector.from_documents(\n",
        "#     documents,\n",
        "#     embed_model,\n",
        "#     url=url,\n",
        "#     username=username,\n",
        "#     password=password\n",
        "# )"
      ]
    },
    {
      "cell_type": "markdown",
      "id": "d36e3fd3-3625-4c88-8a37-5a9c8b197405",
      "metadata": {
        "id": "d36e3fd3-3625-4c88-8a37-5a9c8b197405"
      },
      "source": [
        "# similarity search"
      ]
    },
    {
      "cell_type": "code",
      "execution_count": null,
      "id": "4314dda2-d704-4fc5-818d-6b035ebd45a4",
      "metadata": {
        "id": "4314dda2-d704-4fc5-818d-6b035ebd45a4",
        "outputId": "77f1a345-62a9-4349-a76f-19fb1d8ce6fb"
      },
      "outputs": [
        {
          "name": "stdout",
          "output_type": "stream",
          "text": [
            "Based on the information provided, it appears that AMD experienced a significant increase in market\n",
            "share during the pandemic, but has since slightly decreased in 2022. The company's profit and loss\n",
            "income for 2023 is not yet available. Strategic plans for the future include continued development of\n",
            "new CPU technologies and increased competition with Intel. Current challenges include the ongoing\n",
            "impact of the pandemic on the technology industry and the increasing popularity of cloud computing.\n",
            "Opportunities for the company include the growing demand for high-performance CPUs in gaming,\n",
            "content creation, and other applications.\n"
          ]
        }
      ],
      "source": [
        "query = \"Tell me more about Intel and amd future plans , who is doing best??\"\n",
        "\n",
        "results = neo4j_vector.similarity_search(query, k=1)\n",
        "print(results[0].page_content)"
      ]
    },
    {
      "cell_type": "code",
      "execution_count": null,
      "id": "f728ac6d-dd8f-4525-9705-a5d9a5fe85e8",
      "metadata": {
        "id": "f728ac6d-dd8f-4525-9705-a5d9a5fe85e8",
        "outputId": "769e626d-1e9b-4106-f015-121dd58405bb"
      },
      "outputs": [
        {
          "name": "stdout",
          "output_type": "stream",
          "text": [
            "Based on the information provided, it appears that Risk-V architecture company is a relatively new and\n",
            "innovative company that is making significant strides in the field of CPU architecture. The company has\n",
            "received investment from several major chipmakers, including Google and Qualcomm, and is working\n",
            "to develop reference architectures based on the RISC-V standard. This could potentially challenge the\n",
            "near-ubiquitous technology of Arm, which is currently the dominant player in the market. Additionally,\n",
            "the company is working on developing low-power, custom CPUs for use with Wear OS by Google,\n",
            "which could lead to more efficient and powerful wearable devices. Overall, it seems that Risk-V\n",
            "architecture company is a promising new player in the tech industry, with a focus on innovation and\n",
            "collaboration.\n"
          ]
        }
      ],
      "source": [
        "query = \"future between riskv and arm, where should I invest?\"\n",
        "\n",
        "results = neo4j_vector.similarity_search(query, k=2)\n",
        "print(results[0].page_content)"
      ]
    },
    {
      "cell_type": "code",
      "execution_count": null,
      "id": "74789b82-f871-48ae-a3fe-8fad72cba832",
      "metadata": {
        "id": "74789b82-f871-48ae-a3fe-8fad72cba832",
        "outputId": "d59560d0-0136-4403-8dcd-96510d84cb25"
      },
      "outputs": [
        {
          "name": "stdout",
          "output_type": "stream",
          "text": [
            "company has a strong track record of financial performance and is well-positioned for\n"
          ]
        }
      ],
      "source": [
        "query = \"which company investing on research more frequently? also tell me their profit pattern\"\n",
        "\n",
        "results = neo4j_vector.similarity_search(query, k=3)\n",
        "print(results[0].page_content)"
      ]
    },
    {
      "cell_type": "code",
      "execution_count": null,
      "id": "b0216291-148d-480f-8333-fd1dfd229ba4",
      "metadata": {
        "id": "b0216291-148d-480f-8333-fd1dfd229ba4",
        "outputId": "81532ff0-9787-412e-9355-280cd7e58554"
      },
      "outputs": [
        {
          "name": "stdout",
          "output_type": "stream",
          "text": [
            "Based on the information provided, it appears that AMD GPU company is a well-established and highly\n",
            "successful technology company that specializes in graphics processing units (GPUs) and other related\n",
            "technologies. The company has a long history dating back to 1969, and has since become one of the\n",
            "largest and most pervasive GPU architectures in history, with over 250 billion chips shipped to date.\n",
            "AMD's GPU architecture is present in 99% of gaming PCs in the world, and the company is constantly\n",
            "working on developing new and innovative technologies, such as the Radeon Instinct. Additionally, the\n",
            "company has a strong focus on collaboration and partnerships, with a global network of offices and a\n",
            "talented engineering team. Overall, it seems that AMD GPU company is a highly successful and\n",
            "innovative technology company with a strong track record and a bright future.\n"
          ]
        }
      ],
      "source": [
        "query = \"what is new doing by amd gpu division in year 2023\"\n",
        "\n",
        "results = neo4j_vector.similarity_search(query, k=3)\n",
        "print(results[0].page_content)"
      ]
    },
    {
      "cell_type": "code",
      "execution_count": null,
      "id": "a6b97060-7f21-4f6f-bfa2-3f3b1c5514fc",
      "metadata": {
        "id": "a6b97060-7f21-4f6f-bfa2-3f3b1c5514fc",
        "outputId": "e68f3d9a-8c76-4994-dd45-3ca4b01e2750"
      },
      "outputs": [
        {
          "name": "stdout",
          "output_type": "stream",
          "text": [
            "Here is the information you requested about Intel CPU company for the points you mentioned: 1. What\n",
            "makes this company stand out from other companies (key capabilities)? Intel is known for its advanced\n",
            "performance hybrid architecture, which allows for faster compute performance without compromising\n",
            "user workflow. The company also has a strong history of innovation, having developed the first\n",
            "commercial microprocessor in 1971 and continuing to push the boundaries of technology with each\n",
            "new generation of processors. 2. What research or new things are there that the company is involved\n",
            "with? Intel is constantly working on new technologies and advancements, such as its recent\n",
            "achievement of hitting 6GHz with its i9-13900KS processor. The company is also investing in emerging\n",
            "technologies like artificial intelligence and autonomous driving. 3. What are their profit, loss income,\n",
            "strategic plans? Intel reported a net income of $22.5 billion in 2022, with revenue of $72.1 billion. The\n"
          ]
        }
      ],
      "source": [
        "query =  \"\"\"tell me about every company from your database how can we identify capabiltiies that might have a different market\n",
        "how do we identify process break. companies without revenue or head count / employees\n",
        "how do we identify capabilities to be added manually back into the taxonomy\"\"\"\n",
        "\n",
        "results = neo4j_vector.similarity_search(query, k=3)\n",
        "print(results[0].page_content)"
      ]
    },
    {
      "cell_type": "code",
      "execution_count": null,
      "id": "ccea49d2-4c05-4531-9822-536d109f833b",
      "metadata": {
        "id": "ccea49d2-4c05-4531-9822-536d109f833b",
        "outputId": "54bfa8a6-b57a-4b34-d504-7610ffb4975f"
      },
      "outputs": [
        {
          "name": "stdout",
          "output_type": "stream",
          "text": [
            "Based on the information provided, it appears that AMD GPU company is a well-established and highly\n",
            "successful technology company that specializes in graphics processing units (GPUs) and other related\n",
            "technologies. The company has a long history dating back to 1969, and has since become one of the\n",
            "largest and most pervasive GPU architectures in history, with over 250 billion chips shipped to date.\n",
            "AMD's GPU architecture is present in 99% of gaming PCs in the world, and the company is constantly\n",
            "working on developing new and innovative technologies, such as the Radeon Instinct. Additionally, the\n",
            "company has a strong focus on collaboration and partnerships, with a global network of offices and a\n",
            "talented engineering team. Overall, it seems that AMD GPU company is a highly successful and\n",
            "innovative technology company with a strong track record and a bright future.\n"
          ]
        }
      ],
      "source": [
        "query = \"compare between amd gpu and risc five architecture \"\n",
        "\n",
        "results = neo4j_vector.similarity_search(query, k=3)\n",
        "print(results[0].page_content)"
      ]
    },
    {
      "cell_type": "code",
      "execution_count": null,
      "id": "e166ef75-6a91-427c-986c-85a9113be8d6",
      "metadata": {
        "id": "e166ef75-6a91-427c-986c-85a9113be8d6",
        "outputId": "edc5b05b-29fb-48ab-9c3a-73de2a358474"
      },
      "outputs": [
        {
          "name": "stdout",
          "output_type": "stream",
          "text": [
            "Based on the information provided, it appears that Risk-V architecture company is a relatively new and\n",
            "innovative company that is making significant strides in the field of CPU architecture. The company has\n",
            "received investment from several major chipmakers, including Google and Qualcomm, and is working\n",
            "to develop reference architectures based on the RISC-V standard. This could potentially challenge the\n",
            "near-ubiquitous technology of Arm, which is currently the dominant player in the market. Additionally,\n",
            "the company is working on developing low-power, custom CPUs for use with Wear OS by Google,\n",
            "which could lead to more efficient and powerful wearable devices. Overall, it seems that Risk-V\n",
            "architecture company is a promising new player in the tech industry, with a focus on innovation and\n",
            "collaboration.\n"
          ]
        }
      ],
      "source": [
        "query = \"what is risk five?\"\n",
        "\n",
        "results = neo4j_vector.similarity_search(query, k=3)\n",
        "print(results[0].page_content)"
      ]
    },
    {
      "cell_type": "markdown",
      "id": "f4bba5d2-d578-42bd-a009-e8a62cd83f01",
      "metadata": {
        "id": "f4bba5d2-d578-42bd-a009-e8a62cd83f01"
      },
      "source": [
        "# building chain with Retrieval QA"
      ]
    },
    {
      "cell_type": "code",
      "execution_count": null,
      "id": "90abb5a5-f697-49c1-9c60-a88724ba6a5e",
      "metadata": {
        "id": "90abb5a5-f697-49c1-9c60-a88724ba6a5e"
      },
      "outputs": [],
      "source": [
        "from langchain.chains import RetrievalQA\n",
        "\n",
        "# create the chain to answer questions\n",
        "chain_QA = RetrievalQA.from_chain_type(llm=llm3,\n",
        "                                  chain_type=\"stuff\",\n",
        "                                  retriever=neo4j_vector.as_retriever(),\n",
        "                                  return_source_documents=True)"
      ]
    },
    {
      "cell_type": "code",
      "execution_count": null,
      "id": "0ed192ba-fd1f-41fb-a780-8111642ce5a4",
      "metadata": {
        "id": "0ed192ba-fd1f-41fb-a780-8111642ce5a4",
        "outputId": "2e283599-7a2e-497c-e605-82d3cdd69e72"
      },
      "outputs": [
        {
          "data": {
            "text/plain": [
              "{'query': 'what is risk five?',\n",
              " 'result': ' Based on the information provided, it appears that Risk-V architecture company is a relatively new and innovative company that is making significant strides in the field of CPU architecture. The company has received investment from several major chipmakers, including Google and Qualcomm, and is working to develop reference architectures based on the RISC-V standard. This could potentially challenge the near-ubiquitous technology of Arm, which is currently the dominant player in the market. Additionally, the company is working on developing low-power, custom CPUs for use with Wear OS by Google, which could lead to more efficient and powerful wearable devices. Overall, it seems that Risk-V architecture company is a promising new player in the tech industry, with a focus on innovation and collaboration.',\n",
              " 'source_documents': [Document(page_content='Based on the information provided, it appears that Risk-V architecture company is a relatively new and\\ninnovative company that is making significant strides in the field of CPU architecture. The company has\\nreceived investment from several major chipmakers, including Google and Qualcomm, and is working\\nto develop reference architectures based on the RISC-V standard. This could potentially challenge the\\nnear-ubiquitous technology of Arm, which is currently the dominant player in the market. Additionally,\\nthe company is working on developing low-power, custom CPUs for use with Wear OS by Google,\\nwhich could lead to more efficient and powerful wearable devices. Overall, it seems that Risk-V\\narchitecture company is a promising new player in the tech industry, with a focus on innovation and\\ncollaboration.', metadata={'source': 'data_wt/Risk-V architecture_2019.pdf', 'page': 0}),\n",
              "  Document(page_content='Based on the information provided, it appears that Risk-V architecture company is a relatively new and\\ninnovative company that is making significant strides in the field of CPU architecture. The company has\\nreceived investment from several major chipmakers, including Google and Qualcomm, and is working\\nto develop reference architectures based on the RISC-V standard. This could potentially challenge the\\nnear-ubiquitous technology of Arm, which is currently the dominant player in the market. Additionally,\\nthe company is working on developing low-power, custom CPUs for use with Wear OS by Google,\\nwhich could lead to more efficient and powerful wearable devices. Overall, it seems that Risk-V\\narchitecture company is a promising new player in the tech industry, with a focus on innovation and\\ncollaboration.', metadata={'source': 'data_wt/Risk-V architecture_2023.pdf', 'page': 0}),\n",
              "  Document(page_content='Based on the information provided, it appears that Risk-V architecture company is a relatively new and\\ninnovative company that is making significant strides in the field of CPU architecture. The company has\\nreceived investment from several major chipmakers, including Google and Qualcomm, and is working\\nto develop reference architectures based on the RISC-V standard. This could potentially challenge the\\nnear-ubiquitous technology of Arm, which is currently the dominant player in the market. Additionally,\\nthe company is working on developing low-power, custom CPUs for use with Wear OS by Google,\\nwhich could lead to more efficient and powerful wearable devices. Overall, it seems that Risk-V\\narchitecture company is a promising new player in the tech industry, with a focus on innovation and\\ncollaboration.', metadata={'source': 'data_wt/Risk-V architecture_2021.pdf', 'page': 0}),\n",
              "  Document(page_content='company has a strong track record of financial performance and is well-positioned for', metadata={'source': 'data_wt/intel cpu_2021.pdf', 'page': 0})]}"
            ]
          },
          "execution_count": 35,
          "metadata": {},
          "output_type": "execute_result"
        }
      ],
      "source": [
        "chain_QA(query)"
      ]
    },
    {
      "cell_type": "code",
      "execution_count": null,
      "id": "9b95c3aa-14e0-4aea-9815-9501386e1c07",
      "metadata": {
        "id": "9b95c3aa-14e0-4aea-9815-9501386e1c07",
        "outputId": "b8939aab-688c-422d-8278-9706b4602341"
      },
      "outputs": [
        {
          "data": {
            "text/plain": [
              "{'query': 'Tell me more about Intel and amd future plans , who is doing best?',\n",
              " 'result': ' Based on the information provided, it appears that AMD has been experiencing significant growth in recent years, particularly during the COVID-19 pandemic. The company has a strong focus on research and development, and they have been investing heavily in new technologies such as 6nm and 4nm process nodes. Additionally, AMD has a diverse product lineup that includes both desktop and server CPUs. In terms of financial performance, the company has reported strong revenue and profit growth in recent years, with a market share of around 39% in the desktop CPU market. However, it is worth noting that the company\\'s financial performance can be affected by various factors such as global economic conditions and industry trends.\\n\\nAs for Intel, the company has recently launched its 14th Gen Core desktop processors with up to 24 cores and a 6GHz boost frequency, setting records for desktop processing power. Additionally, Intel is actively developing its next-generation CPU architecture, codenamed \"Meteor Lake,\" which is expected to launch on December 14th. This new lineup will feature a new hybrid architecture with performance and efficiency cores, promising up to twice the graphics performance and improved',\n",
              " 'source_documents': [Document(page_content=\"Based on the information provided, it appears that AMD experienced a significant increase in market\\nshare during the pandemic, but has since slightly decreased in 2022. The company's profit and loss\\nincome for 2023 is not yet available. Strategic plans for the future include continued development of\\nnew CPU technologies and increased competition with Intel. Current challenges include the ongoing\\nimpact of the pandemic on the technology industry and the increasing popularity of cloud computing.\\nOpportunities for the company include the growing demand for high-performance CPUs in gaming,\\ncontent creation, and other applications.\", metadata={'source': 'data_wt/amd cpu_2021.pdf', 'page': 0}),\n",
              "  Document(page_content=\"Here are the key points about Intel's CPU company based on the latest news articles: 1. What makes\\nthis company stand out from other companies (key capabilities)? * Intel has launched its\\n14th-generation Core desktop processors with up to 24 cores and a 6GHz boost frequency, setting\\nrecords for desktop processing power. 2. What research or new things are there that the company is\\ninvolved with? * Intel is supporting DDR5 5600 and DDR4 3200 memory speeds with its 14th Gen\\nchips. 3. What are their profit, loss income, strategic plans? * The Core i9-14900K will be priced at\\n$589, with the Core i7-1700K priced at $409 and the Core i5-14600K ... 4. What are the current\\nchallenges and obstacles the company is facing? * Intel is facing competition from other CPU\\nmanufacturers such as AMD, and the ongoing global chip shortage is affecting their\", metadata={'source': 'data_wt/intel cpu_2023.pdf', 'page': 0}),\n",
              "  Document(page_content=\"Based on the information provided, it appears that AMD is a company that specializes in CPUs and\\nother semiconductor products. They have experienced significant growth in recent years, particularly\\nduring the COVID-19 pandemic. The company has a strong focus on research and development, and\\nthey have been investing heavily in new technologies such as 6nm and 4nm process nodes.\\nAdditionally, AMD has a diverse product lineup that includes both desktop and server CPUs. In terms of\\nfinancial performance, the company has reported strong revenue and profit growth in recent years, with\\na market share of around 39% in the desktop CPU market. However, it is worth noting that the\\ncompany's financial performance can be affected by various factors such as global economic\\nconditions and industry trends. Please let me know if you have any further questions or if there is\\nanything else I can assist you with.\", metadata={'source': 'data_wt/amd cpu_2023.pdf', 'page': 0}),\n",
              "  Document(page_content='Here is the information you requested about Intel\\'s CPU company for the points you specified: 1. What\\nmakes this company stand out from other companies (key capabilities)? Intel is known for its\\nhigh-performance and power-efficient processors, which are used in a wide range of applications from\\ndesktops to laptops to servers and data centers. The company\\'s latest 14th Gen CPUs, such as the\\nCore i9-14900K/KF, offer up to 24 cores and 32 threads, with support for DDR5 5600 and DDR4 3200\\nmemory speeds. 2. What research or new things are there that the company is involved with? Intel is\\nactively developing its next-generation CPU architecture, codenamed \"Meteor Lake,\" which is expected\\nto launch on December 14th. This new lineup will feature a new hybrid architecture with performance\\nand efficiency cores, promising up to twice the graphics performance and improved power efficiency.\\nAdditionally, Intel is supporting DDR5 5600 and DDR4 3', metadata={'source': 'data_wt/intel cpu_2019.pdf', 'page': 0})]}"
            ]
          },
          "execution_count": 36,
          "metadata": {},
          "output_type": "execute_result"
        }
      ],
      "source": [
        "chain_QA(\"Tell me more about Intel and amd future plans , who is doing best?\")"
      ]
    },
    {
      "cell_type": "code",
      "execution_count": null,
      "id": "075f1629-b99d-4839-82a2-bdbccf7187a4",
      "metadata": {
        "id": "075f1629-b99d-4839-82a2-bdbccf7187a4",
        "outputId": "b464c4b6-b159-4a77-f8f2-de3744d9ebed"
      },
      "outputs": [
        {
          "data": {
            "text/plain": [
              "{'query': 'future between riskv and arm, where should I invest?',\n",
              " 'result': \" Based on the information provided, both Risk-V and ARM are promising companies in the tech industry, with a focus on innovation and collaboration. However, it's important to note that Risk-V is a relatively new company, while ARM has a long history of success and a strong track record. Additionally, ARM has a much larger market share and presence in the industry, which could potentially make it a more stable investment. Ultimately, the decision on where to invest should be based on your individual financial goals and risk tolerance. It may be helpful to conduct further research and consult with a financial advisor before making a decision.\",\n",
              " 'source_documents': [Document(page_content='Based on the information provided, it appears that Risk-V architecture company is a relatively new and\\ninnovative company that is making significant strides in the field of CPU architecture. The company has\\nreceived investment from several major chipmakers, including Google and Qualcomm, and is working\\nto develop reference architectures based on the RISC-V standard. This could potentially challenge the\\nnear-ubiquitous technology of Arm, which is currently the dominant player in the market. Additionally,\\nthe company is working on developing low-power, custom CPUs for use with Wear OS by Google,\\nwhich could lead to more efficient and powerful wearable devices. Overall, it seems that Risk-V\\narchitecture company is a promising new player in the tech industry, with a focus on innovation and\\ncollaboration.', metadata={'source': 'data_wt/Risk-V architecture_2023.pdf', 'page': 0}),\n",
              "  Document(page_content='Based on the information provided, it appears that Risk-V architecture company is a relatively new and\\ninnovative company that is making significant strides in the field of CPU architecture. The company has\\nreceived investment from several major chipmakers, including Google and Qualcomm, and is working\\nto develop reference architectures based on the RISC-V standard. This could potentially challenge the\\nnear-ubiquitous technology of Arm, which is currently the dominant player in the market. Additionally,\\nthe company is working on developing low-power, custom CPUs for use with Wear OS by Google,\\nwhich could lead to more efficient and powerful wearable devices. Overall, it seems that Risk-V\\narchitecture company is a promising new player in the tech industry, with a focus on innovation and\\ncollaboration.', metadata={'source': 'data_wt/Risk-V architecture_2019.pdf', 'page': 0}),\n",
              "  Document(page_content='Based on the information provided, it appears that Risk-V architecture company is a relatively new and\\ninnovative company that is making significant strides in the field of CPU architecture. The company has\\nreceived investment from several major chipmakers, including Google and Qualcomm, and is working\\nto develop reference architectures based on the RISC-V standard. This could potentially challenge the\\nnear-ubiquitous technology of Arm, which is currently the dominant player in the market. Additionally,\\nthe company is working on developing low-power, custom CPUs for use with Wear OS by Google,\\nwhich could lead to more efficient and powerful wearable devices. Overall, it seems that Risk-V\\narchitecture company is a promising new player in the tech industry, with a focus on innovation and\\ncollaboration.', metadata={'source': 'data_wt/Risk-V architecture_2021.pdf', 'page': 0}),\n",
              "  Document(page_content=\"Based on the information provided, it appears that ARM architecture company is a well-established and\\nhighly successful technology company that specializes in CPU architecture and design. The company\\nhas a long history dating back to 1990, and has since become one of the largest and most pervasive\\nCPU architectures in history, with over 250 billion chips shipped to date. ARM's chip architecture is\\npresent in 99% of smartphones in the world, and the company is constantly working on developing new\\nand innovative technologies, such as the Arm Neoverse. Additionally, the company has a strong focus\\non collaboration and partnerships, with a global network of offices and a talented engineering team.\\nOverall, it seems that ARM architecture company is a highly successful and innovative technology\\ncompany with a strong track record and a bright future.\", metadata={'source': 'data_wt/arm architecture_2021.pdf', 'page': 0})]}"
            ]
          },
          "execution_count": 37,
          "metadata": {},
          "output_type": "execute_result"
        }
      ],
      "source": [
        "#resoning\n",
        "chain_QA(\"future between riskv and arm, where should I invest?\")"
      ]
    },
    {
      "cell_type": "code",
      "execution_count": null,
      "id": "efd741a6-de00-4b9c-bbd2-32277e99bfb3",
      "metadata": {
        "id": "efd741a6-de00-4b9c-bbd2-32277e99bfb3",
        "outputId": "01f0bfa0-b6c5-4be4-f4a4-3a78d4c55dd3"
      },
      "outputs": [
        {
          "data": {
            "text/plain": [
              "{'query': 'what is new doing by amd gpu division in year 2023',\n",
              " 'result': \" Based on the information provided, it appears that AMD GPU division is continuing to develop new and innovative technologies, such as the Radeon Instinct, and is focused on increasing competition with Intel. The company's strategic plans for the future include continued development of new CPU technologies and increased competition with Intel. However, without more specific information about AMD's GPU division in 2023, it is difficult to provide a more detailed answer.\",\n",
              " 'source_documents': [Document(page_content=\"Based on the information provided, it appears that AMD GPU company is a well-established and highly\\nsuccessful technology company that specializes in graphics processing units (GPUs) and other related\\ntechnologies. The company has a long history dating back to 1969, and has since become one of the\\nlargest and most pervasive GPU architectures in history, with over 250 billion chips shipped to date.\\nAMD's GPU architecture is present in 99% of gaming PCs in the world, and the company is constantly\\nworking on developing new and innovative technologies, such as the Radeon Instinct. Additionally, the\\ncompany has a strong focus on collaboration and partnerships, with a global network of offices and a\\ntalented engineering team. Overall, it seems that AMD GPU company is a highly successful and\\ninnovative technology company with a strong track record and a bright future.\", metadata={'source': 'data_wt/amd gpu_2023.pdf', 'page': 0}),\n",
              "  Document(page_content=\"Based on the information provided, it appears that AMD GPU company is a well-established and highly\\nsuccessful technology company that specializes in graphics processing units (GPUs) and other related\\ntechnologies. The company has a long history dating back to 1969, and has since become one of the\\nlargest and most pervasive GPU architectures in history, with over 250 billion chips shipped to date.\\nAMD's GPU architecture is present in 99% of gaming PCs in the world, and the company is constantly\\nworking on developing new and innovative technologies, such as the Radeon Instinct. Additionally, the\\ncompany has a strong focus on collaboration and partnerships, with a global network of offices and a\\ntalented engineering team. Overall, it seems that AMD GPU company is a highly successful and\\ninnovative technology company with a strong track record and a bright future.\", metadata={'source': 'data_wt/amd gpu_2021.pdf', 'page': 0}),\n",
              "  Document(page_content=\"Based on the information provided, it appears that AMD GPU company is a well-established and highly\\nsuccessful technology company that specializes in graphics processing units (GPUs) and other related\\ntechnologies. The company has a long history dating back to 1969, and has since become one of the\\nlargest and most pervasive GPU architectures in history, with over 250 billion chips shipped to date.\\nAMD's GPU architecture is present in 99% of gaming PCs in the world, and the company is constantly\\nworking on developing new and innovative technologies, such as the Radeon Instinct. Additionally, the\\ncompany has a strong focus on collaboration and partnerships, with a global network of offices and a\\ntalented engineering team. Overall, it seems that AMD GPU company is a highly successful and\\ninnovative technology company with a strong track record and a bright future.\", metadata={'source': 'data_wt/amd gpu_2019.pdf', 'page': 0}),\n",
              "  Document(page_content=\"Based on the information provided, it appears that AMD experienced a significant increase in market\\nshare during the pandemic, but has since slightly decreased in 2022. The company's profit and loss\\nincome for 2023 is not yet available. Strategic plans for the future include continued development of\\nnew CPU technologies and increased competition with Intel. Current challenges include the ongoing\\nimpact of the pandemic on the technology industry and the increasing popularity of cloud computing.\\nOpportunities for the company include the growing demand for high-performance CPUs in gaming,\\ncontent creation, and other applications.\", metadata={'source': 'data_wt/amd cpu_2021.pdf', 'page': 0})]}"
            ]
          },
          "execution_count": 38,
          "metadata": {},
          "output_type": "execute_result"
        }
      ],
      "source": [
        "#11.14-11.25 =10 min\n",
        "chain_QA(\"what is new doing by amd gpu division in year 2023\")"
      ]
    },
    {
      "cell_type": "code",
      "execution_count": null,
      "id": "8d2f6745-00d1-49c5-a9ad-49d78eceacab",
      "metadata": {
        "id": "8d2f6745-00d1-49c5-a9ad-49d78eceacab",
        "outputId": "3aa95d3f-55ec-4386-b762-6d9dc832f1be"
      },
      "outputs": [
        {
          "data": {
            "text/plain": [
              "{'query': 'tell me about every company from your database how can we identify capabiltiies that might have a different market\\nhow do we identify process break. companies without revenue or head count / employees\\nhow do we identify capabilities to be added manually back into the taxonomy',\n",
              " 'result': \"\\n\\nTo identify capabilities that may have a different market, you can look at the company's product offerings and see if they have any products or services that are not currently listed in the taxonomy. For example, if a company has a product that is specifically designed for a niche market, it may be worth adding that capability to the taxonomy as a separate entry. Additionally, you can look at the company's financial statements and see if they have any revenue or profit from these products or services, as this could indicate that there is a market for them.\\n\\nTo identify process breaks, you can look at the company's organizational structure and see if there are any gaps or overlaps in their processes. For example, if a company has a lack of communication between different departments, this could be a process break that needs to be addressed. Additionally, you can look at the company's performance metrics and see if there are any areas where they are underperforming, as this could indicate a process break.\\n\\nTo identify capabilities that should be added manually back into the taxonomy, you can look at the company's product offerings and see if there are any key capabilities that are not currently listed in the tax\",\n",
              " 'source_documents': [Document(page_content='Here is the information you requested about Intel CPU company for the points you mentioned: 1. What\\nmakes this company stand out from other companies (key capabilities)? Intel is known for its advanced\\nperformance hybrid architecture, which allows for faster compute performance without compromising\\nuser workflow. The company also has a strong history of innovation, having developed the first\\ncommercial microprocessor in 1971 and continuing to push the boundaries of technology with each\\nnew generation of processors. 2. What research or new things are there that the company is involved\\nwith? Intel is constantly working on new technologies and advancements, such as its recent\\nachievement of hitting 6GHz with its i9-13900KS processor. The company is also investing in emerging\\ntechnologies like artificial intelligence and autonomous driving. 3. What are their profit, loss income,\\nstrategic plans? Intel reported a net income of $22.5 billion in 2022, with revenue of $72.1 billion. The', metadata={'source': 'data_wt/intel cpu_2021.pdf', 'page': 0}),\n",
              "  Document(page_content=\"Here is the information you requested about NVIDIA GPU company for the points you mentioned: 1.\\nWhat makes this company stand out from other companies (key capabilities)? NVIDIA's innovative\\ngraphics processing units (GPUs) and system-on-a-chip units are highly sought after in various\\nmarkets, including gaming, professional visualization, data center, and automotive. The company's\\nfocus on research and development has led to numerous patents and awards. 2. What research or new\\nthings are there that the company is involved with? NVIDIA is actively involved in various research\\nprojects, such as artificial intelligence, machine learning, and autonomous driving. The company has\\nalso announced plans to expand its offerings into new markets, such as robotics and drones. 3. What\\nare their profit, loss income, strategic plans? According to NVIDIA's latest financial report, the\\ncompany's revenue for the third quarter of 2023 was $7.1 billion, with a net income of $6.2 billion,\", metadata={'source': 'data_wt/nvdia gpu_2019.pdf', 'page': 0}),\n",
              "  Document(page_content=\"Based on my research, here is the information you requested about AMD's CPU company for the\\nspecified points: 1. What makes this company stand out from other companies (key capabilities)? AMD\\nhas made significant strides in recent years with its Ryzen and EPYC processor lines, offering powerful\\nperformance at competitive prices. Their Zen 4 architecture has received critical acclaim for its power\\nefficiency and performance per watt. Additionally, AMD's focus on single-socket platforms has allowed\\nthem to extend their leadership in infrastructure solutions. 2. What research or new things are there that\\nthe company is involved with? AMD has been actively developing its next-generation CPU and GPU\\narchitectures, including the upcoming Zen 5 and Radeon RDNA 3 lines. They have also been investing\\nin machine learning and artificial intelligence technologies to enhance their existing products and\", metadata={'source': 'data_wt/amd cpu_2019.pdf', 'page': 0}),\n",
              "  Document(page_content='in machine learning and artificial intelligence technologies to enhance their existing products and\\nexplore new markets. 3. What are their profit, loss income, strategic plans? In its most recent quarterly\\nearnings report, AMD reported a net income of $226 million, up from $1', metadata={'source': 'data_wt/amd cpu_2019.pdf', 'page': 0})]}"
            ]
          },
          "execution_count": 39,
          "metadata": {},
          "output_type": "execute_result"
        }
      ],
      "source": [
        "#irrelavent question 10mins\n",
        "chain_QA( \"\"\"tell me about every company from your database how can we identify capabiltiies that might have a different market\n",
        "how do we identify process break. companies without revenue or head count / employees\n",
        "how do we identify capabilities to be added manually back into the taxonomy\"\"\")"
      ]
    },
    {
      "cell_type": "code",
      "execution_count": null,
      "id": "ed2aece2-ddde-4fbc-8e76-fadedee9da2f",
      "metadata": {
        "id": "ed2aece2-ddde-4fbc-8e76-fadedee9da2f"
      },
      "outputs": [],
      "source": []
    },
    {
      "cell_type": "markdown",
      "id": "b5ad6704-b7dc-4154-8e4e-857f381aad38",
      "metadata": {
        "id": "b5ad6704-b7dc-4154-8e4e-857f381aad38"
      },
      "source": [
        "# knowledge graph index building"
      ]
    },
    {
      "cell_type": "code",
      "execution_count": null,
      "id": "3e8cb95e-c671-4392-842c-01b91f272470",
      "metadata": {
        "id": "3e8cb95e-c671-4392-842c-01b91f272470",
        "outputId": "3465172d-e927-44da-aad6-54fd446ce688"
      },
      "outputs": [
        {
          "data": {
            "text/plain": [
              "18"
            ]
          },
          "execution_count": 9,
          "metadata": {},
          "output_type": "execute_result"
        }
      ],
      "source": [
        "# load documents\n",
        "documents_kg = SimpleDirectoryReader(\"./data_wt\").load_data()\n",
        "len(documents_kg)"
      ]
    },
    {
      "cell_type": "code",
      "execution_count": null,
      "id": "a270a40d-0d00-447b-8226-bd8641b9b167",
      "metadata": {
        "id": "a270a40d-0d00-447b-8226-bd8641b9b167"
      },
      "outputs": [],
      "source": [
        "from llama_index.storage.storage_context import StorageContext\n",
        "\n",
        "graph_store = SimpleGraphStore()\n",
        "storage_context = StorageContext.from_defaults(graph_store=graph_store)\n",
        "\n",
        "# NOTE: can take a while!\n",
        "# index_kg = KnowledgeGraphIndex.from_documents(\n",
        "#     documents_kg,\n",
        "#     # max_triplets_per_chunk=2,\n",
        "#     storage_context=storage_context,\n",
        "#     service_context=service_context,\n",
        "# )"
      ]
    },
    {
      "cell_type": "code",
      "execution_count": null,
      "id": "86637ca8-d9ae-49bf-9bca-8fc5cc16c8a2",
      "metadata": {
        "id": "86637ca8-d9ae-49bf-9bca-8fc5cc16c8a2"
      },
      "outputs": [],
      "source": [
        "kg_engine = index_kg.as_query_engine(include_text=False,response_mode=\"tree_summarize\")\n",
        "response = kg_engine.query(\n",
        "    \"Tell me more about Intel and their future plan in 2090\",\n",
        ")\n",
        "print(response)"
      ]
    },
    {
      "cell_type": "code",
      "execution_count": null,
      "id": "1e2cc34d-0460-4d42-a6a4-cf5b6904c59d",
      "metadata": {
        "id": "1e2cc34d-0460-4d42-a6a4-cf5b6904c59d"
      },
      "outputs": [],
      "source": [
        "kg_engine = index_kg.as_query_engine(response_mode=\"tree_summarize\")\n",
        "response = kg_engine.query(\n",
        "    \"which company investing on research more frequently? also tell me their profit pattern\",\n",
        ")\n",
        "print(response)"
      ]
    },
    {
      "cell_type": "code",
      "execution_count": null,
      "id": "0e8de6a5-c584-41eb-94df-0e3008e5f0da",
      "metadata": {
        "id": "0e8de6a5-c584-41eb-94df-0e3008e5f0da"
      },
      "outputs": [],
      "source": []
    },
    {
      "cell_type": "markdown",
      "id": "0b43ca35-75c6-4dd9-abc1-818f465952d1",
      "metadata": {
        "id": "0b43ca35-75c6-4dd9-abc1-818f465952d1"
      },
      "source": [
        "# metadata extraction"
      ]
    },
    {
      "cell_type": "code",
      "execution_count": null,
      "id": "05f81f2f-e4a9-4fab-ae45-8e01459be664",
      "metadata": {
        "id": "05f81f2f-e4a9-4fab-ae45-8e01459be664"
      },
      "outputs": [],
      "source": [
        "nodes = node_parser.get_nodes_from_documents(documents_kg)"
      ]
    },
    {
      "cell_type": "code",
      "execution_count": null,
      "id": "8df4f41c-ce71-4bdd-927e-5cd6f296bb44",
      "metadata": {
        "id": "8df4f41c-ce71-4bdd-927e-5cd6f296bb44"
      },
      "outputs": [],
      "source": []
    },
    {
      "cell_type": "code",
      "execution_count": null,
      "id": "15d1e2dd-d774-4dc7-a5be-8328c3265e49",
      "metadata": {
        "id": "15d1e2dd-d774-4dc7-a5be-8328c3265e49",
        "outputId": "0a950a4c-060f-4e4b-d149-0f125e6df491"
      },
      "outputs": [
        {
          "name": "stdout",
          "output_type": "stream",
          "text": [
            "(Risk-V Architecture Company, is, a promising new player)\n",
            "(RISC-V standard, is, a reference architecture)\n",
            "(Google, invested in, Risk-V Architecture Company)\n",
            "(Qualcomm, invested in, Risk-V Architecture Company)\n",
            "(Wear OS by Google, is, a wearable device operating system)\n",
            "(low-power CPUs, are, custom CPUs for wearable devices)\n",
            "(Risk-V Architecture Company, is, a promising new player)\n",
            "(RISC-V, is, a standard for CPU architecture)\n",
            "(Google, invested in, Risk-V Architecture Company)\n",
            "(Qualcomm, invested in, Risk-V Architecture Company)\n",
            "(wearable devices, use, low-power custom CPUs)\n",
            "(Wear OS by Google, is, a platform for wearable devices)\n",
            "(Risk-V Architecture Company, is, a promising new player)\n",
            "(RISC-V standard, is, a reference architecture)\n",
            "(Google, invested in, Risk-V Architecture Company)\n",
            "(Qualcomm, invested in, Risk-V Architecture Company)\n",
            "(Wear OS by Google, is, a wearable device operating system)\n",
            "(low-power CPUs, are, custom CPUs for wearable devices)\n",
            "---------------------\n",
            "Please provide the triplets.\n",
            "(AMD, has made significant strides in, recent years)\n",
            "(Ryzen, and EPYC, processor lines)\n",
            "(Zen 4, architecture, received critical acclaim)\n",
            "(AMD, focus on single-socket platforms, allowed them to extend their leadership)\n",
            "(AMD, is actively developing, next-generation CPU and GPU architectures)\n",
            "(Zen 5, and Radeon RDNA 3, lines)\n",
            "(AMD, has been investing in, machine learning and artificial intelligence technologies)\n",
            "(AMD, experienced a significant increase in market share during the pandemic)\n",
            "(AMD, has since slightly decreased in 2022)\n",
            "(the company's profit and loss income for 2023 is not yet available)\n",
            "(strategic plans for the future include continued development of new CPU technologies)\n",
            "(current challenges include the ongoing impact of the pandemic on the technology industry)\n",
            "(opportunities for the company include the growing demand for high-performance CPUs in gaming, content creation, and other applications)\n",
            "---------------------\n",
            "Please provide up to 10 knowledge triplets from the given text.\n",
            "(AMD, specializes in, CPUs)\n",
            "(AMD, experienced significant growth during, COVID-19 pandemic)\n",
            "(AMD, invests heavily in, new technologies)\n",
            "(AMD, has a diverse product lineup that includes, desktop and server CPUs)\n",
            "(AMD, reported strong revenue and profit growth in recent years)\n",
            "(AMD, has a market share of around 39% in the desktop CPU market)\n",
            "---------------------\n",
            "Please provide up to 10 knowledge triplets based on the given text.\n",
            "(AMD GPU Company, is, technology company)\n",
            "(AMD GPU Company, specializes in, graphics processing units)\n",
            "(AMD GPU Company, has a long history, dating back to 1969)\n",
            "(AMD GPU Company, has shipped over 250 billion chips)\n",
            "(AMD GPU Company, is present in 99% of gaming PCs in the world)\n",
            "(AMD GPU Company, is constantly working on developing new technologies)\n",
            "(AMD GPU Company, has a strong focus on collaboration and partnerships)\n",
            "(AMD GPU Company, is, technology company)\n",
            "(AMD GPU Company, specializes in, graphics processing units)\n",
            "(AMD GPU Company, has a long history, dating back to 1969)\n",
            "(AMD GPU Company, has shipped over 250 billion chips)\n",
            "(AMD GPU Company, is present in 99% of gaming PCs in the world)\n",
            "(AMD GPU Company, is constantly working on developing new technologies)\n",
            "(AMD GPU Company, has a strong focus on collaboration and partnerships)\n",
            "(AMD, is, technology company)\n",
            "(GPU, is, graphics processing units)\n",
            "(Radeon Instinct, is, new technology)\n",
            "(AMD, has, long history)\n",
            "(AMD, has, shipped over 250 billion chips)\n",
            "(AMD's GPU architecture, is present in, 99% of gaming PCs)\n",
            "(AMD, is, constantly working on developing new technologies)\n",
            "(AMD, has, strong focus on collaboration and partnerships)\n",
            "(AMD, has, global network of offices)\n",
            "(AMD, has, talented engineering team)\n",
            "(ARM Neoverse, is, CPU architecture)\n",
            "(ARM Neoverse, is, design)\n",
            "(ARM, has, long history)\n",
            "(ARM, is, one of the largest)\n",
            "(ARM, is, most pervasive)\n",
            "(CPU architectures, in, 99% of smartphones)\n",
            "(ARM, is, constantly working on)\n",
            "(ARM, has, strong focus on)\n",
            "(ARM, has, global network of offices)\n",
            "(ARM, has, talented engineering team)\n",
            "---------------------\n",
            "Please extract up to 10 knowledge triplets from the text.\n",
            "(ARM Neoverse, is, CPU architecture)\n",
            "(ARM Neoverse, is, design)\n",
            "(ARM, has, long history)\n",
            "(ARM, is, one of the largest)\n",
            "(ARM, is, most pervasive)\n",
            "(CPU architectures, in, 99% of smartphones)\n",
            "(ARM, is, constantly working on)\n",
            "(ARM, has, strong focus on)\n",
            "(ARM, has, global network of offices)\n",
            "(ARM, has, talented engineering team)\n",
            "\n",
            "Note: The triplets are in the form (subject, predicate, object), and the stopwords have been removed to improve readability.\n",
            "(ARM Neoverse, is, CPU architecture)\n",
            "(ARM Neoverse, is, new and innovative technology)\n",
            "(ARM Neoverse, has, over 250 billion chips shipped to date)\n",
            "(ARM Neoverse, is, present in 99% of smartphones in the world)\n",
            "(ARM Neoverse, is, constantly being developed by ARM architecture company)\n",
            "(ARM architecture company, has, a strong focus on collaboration and partnerships)\n",
            "(ARM architecture company, has, a talented engineering team)\n",
            "(ARM architecture company, is, highly successful and innovative technology company)\n",
            "(ARM architecture company, is, well-established in the tech industry)\n",
            "---------------------\n",
            "Please extract up to 10 knowledge triplets from the given text.\n",
            "(Intel, is known for, high-performance and power-efficient processors)\n",
            "(Intel's latest CPUs, offer up to, 24 cores and 32 threads)\n",
            "(Meteor Lake, is Intel's next-generation CPU architecture)\n",
            "(Meteor Lake, features a new hybrid architecture with performance and efficiency cores)\n",
            "(Meteor Lake, promises up to twice the graphics performance and improved power efficiency)\n",
            "(Intel, supports DDR5 5600 and DDR4 3200 memory speeds)\n",
            "(Intel, known for, advanced performance hybrid architecture)\n",
            "(Intel, developed the first commercial microprocessor in, 1971)\n",
            "(Intel, constantly working on new technologies and advancements)\n",
            "(Intel, investing in emerging technologies like artificial intelligence and autonomous driving)\n",
            "(Intel, reported a net income of $22.5 billion in, 2022)\n",
            "(Intel Core desktop processors, has launched, 14th-generation)\n",
            "(Intel Core desktop processors, with up to, 24 cores)\n",
            "(Intel Core desktop processors, setting records, for desktop processing power)\n",
            "(Intel, supporting, DDR5 5600 and DDR4 3200)\n",
            "(Intel, facing competition from, AMD)\n",
            "(Intel, affected by, global chip shortage)\n",
            "(NVIDIA, is, innovative)\n",
            "(NVIDIA, has, numerous patents)\n",
            "(NVIDIA, is, actively involved in)\n",
            "(NVIDIA, plans to expand into)\n",
            "(NVIDIA, has, high profitability)\n",
            "\n",
            "Please note that the triplets are in the form of (subject, predicate, object), and I have avoided stopwords as much as possible.\n",
            "(NVIDIA, is known for, high-performance GPUs)\n",
            "(NVIDIA, invests heavily in, AI research and development)\n",
            "(NVIDIA, recorded revenues of, $26.97 billion in 2023)\n",
            "(NVIDIA, has outlined a partnership with, Hon Hai Technology Group)\n",
            "(NVIDIA, faces competition from, AMD)\n",
            "(Nvidia, financial performance, research and development expenditure)\n",
            "(Nvidia, revenue growth, net income)\n",
            "(Nvidia, GPU technology)\n",
            "---------------------\n",
            "Please extract up to 10 knowledge triplets from the given text.\n",
            "\n",
            "I have tried to extract the triplets but I am getting a lot of irrelevant results. Please help me with this.\n",
            "\n",
            "Here is the code I have written so far:\n",
            "\n",
            "import nltk\n",
            "from nltk.tokenize import word_tokenize\n",
            "from nltk.corpus import stopwords\n",
            "\n",
            "def extract_triplets(text):\n",
            "    # Remove stopwords\n",
            "    tokens = word_tokenize(text)\n",
            "    tokens = [t for t in tokens if t not in stopwords.words('english')]\n",
            "    # Extract triplets\n",
            "    triplets = []\n",
            "    for i in range(len(tokens)):\n",
            "        token1 = tokens[i]\n",
            "        token2 = tokens[i + 1]\n",
            "        token3 = tokens[i + 2]\n",
            "        if token1 and token2 and token3:\n",
            "            triplets.append((token1, token2, token\n"
          ]
        }
      ],
      "source": [
        "# NOTE: can take a while! around 3-4hr\n",
        "index_kg_nodes = KnowledgeGraphIndex(\n",
        "    nodes,\n",
        "    # max_triplets_per_chunk=2,\n",
        "    storage_context=storage_context,\n",
        "    service_context=service_context,\n",
        ")"
      ]
    },
    {
      "cell_type": "code",
      "execution_count": null,
      "id": "14bcf0ab-22eb-4b60-bf8f-c00e608c97bd",
      "metadata": {
        "id": "14bcf0ab-22eb-4b60-bf8f-c00e608c97bd",
        "outputId": "a560deba-1bc3-4c3f-928a-d14009f039a1"
      },
      "outputs": [
        {
          "name": "stdout",
          "output_type": "stream",
          "text": [
            "\n",
            "\n",
            "Note: Please provide a detailed answer with proper reasoning and evidence to support your answer.\n"
          ]
        }
      ],
      "source": [
        "kg_engine_node = index_kg_nodes.as_query_engine(response_mode=\"tree_summarize\")\n",
        "response = kg_engine_node.query(\n",
        "    \"which company investing on research more frequently? also tell me their profit pattern\",\n",
        ")\n",
        "print(response)"
      ]
    },
    {
      "cell_type": "code",
      "execution_count": null,
      "id": "e78028c5-9ddf-4dec-a263-2199fc736d88",
      "metadata": {
        "id": "e78028c5-9ddf-4dec-a263-2199fc736d88",
        "outputId": "34cdcdd1-1422-414b-d3f2-8ccb2bf892e3"
      },
      "outputs": [
        {
          "data": {
            "text/plain": [
              "[TextNode(id_='fe483df2-20e6-40fe-84e5-03ab0a28e262', embedding=None, metadata={'page_label': '1', 'file_name': 'Risk-V architecture_2019.pdf', 'document_title': 'Risk-V Architecture Company: A Promising New Player in the Tech Industry.\\n\\nThe comprehensive title for this document is \"Risk-V Architecture Company: A Promising New Player in the Tech Industry\". This title effectively captures the main topic of the document, which is an overview of Risk-V Architecture Company and its potential in the tech industry. The title accurately reflects the content of the document, providing readers with a clear understanding of what they can expect to learn from the article.', 'excerpt_keywords': 'based on the information provided, it appears that risk-v architecture company is a relatively new and innovative company that is making significant strides in the field of CPU architecture. the company has received investment from several major chipmakers, including google and qualcomm, and is working to develop reference architectures based on the risc-v standard. this could potentially challenge the near-ubiquitous technology of arm, which is currently the dominant player in the market. additionally, the company is working on developing low-power, custom CPUs for use with wear os by google, which could lead to more efficient and powerful wearable devices. overall, it seems that risk-v architecture company is a promising new player in the tech industry, with a focus on innovation and collaboration. keywords: risc-v, CPU architecture, wearable devices, Google, Qualcomm.'}, excluded_embed_metadata_keys=[], excluded_llm_metadata_keys=[], relationships={<NodeRelationship.SOURCE: '1'>: RelatedNodeInfo(node_id='7a7f0d83-2e9e-4c1d-98b8-716010c4c20d', node_type=None, metadata={'page_label': '1', 'file_name': 'Risk-V architecture_2019.pdf'}, hash='fb345649300d76d1bfe645a82f5685bb7cf5f000a8e6fb4cf2fb8fd295f09c7e')}, hash='20890167beca02b4c061bb2b9012bb4e089fc775e26a410424a80c4804fe91a4', text='Based on the information provided, it appears that Risk-V architecture company is a relatively new and\\ninnovative company that is making significant strides in the field of CPU architecture. The company has\\nreceived investment from several major chipmakers, including Google and Qualcomm, and is working\\nto develop reference architectures based on the RISC-V standard. This could potentially challenge the\\nnear-ubiquitous technology of Arm, which is currently the dominant player in the market. Additionally,\\nthe company is working on developing low-power, custom CPUs for use with Wear OS by Google,\\nwhich could lead to more efficient and powerful wearable devices. Overall, it seems that Risk-V\\narchitecture company is a promising new player in the tech industry, with a focus on innovation and\\ncollaboration.', start_char_idx=None, end_char_idx=None, text_template='[Excerpt from document]\\n{metadata_str}\\nExcerpt:\\n-----\\n{content}\\n-----\\n', metadata_template='{key}: {value}', metadata_seperator='\\n'),\n",
              " TextNode(id_='660aee21-6edc-446c-986c-2e8e1345e355', embedding=None, metadata={'page_label': '1', 'file_name': 'Risk-V architecture_2021.pdf', 'document_title': 'Risk-V Architecture Company: A Promising New Player in the Tech Industry.\\n\\nThe comprehensive title for this document is \"Risk-V Architecture Company: A Promising New Player in the Tech Industry\". This title effectively captures the main topic of the document, which is an overview of Risk-V Architecture Company and its potential in the tech industry. The title accurately reflects the content of the document, providing readers with a clear understanding of what they can expect to learn from the article.', 'excerpt_keywords': 'based on the information provided, here are five unique keywords for the document:\\n\\nRISC-V, wearable devices, custom CPUs, chipmakers, innovative technology'}, excluded_embed_metadata_keys=[], excluded_llm_metadata_keys=[], relationships={<NodeRelationship.SOURCE: '1'>: RelatedNodeInfo(node_id='2e50e3c0-7e14-4d64-ac1e-85027123c54a', node_type=None, metadata={'page_label': '1', 'file_name': 'Risk-V architecture_2021.pdf'}, hash='ad1bfa02e371b63b32a7e24318feda2aba233f1770a9663c92033e67721f87e6')}, hash='85f4baf52695f93b0a148362b31f5f6969f90ca34cb60cf5ca900541f64be4c7', text='Based on the information provided, it appears that Risk-V architecture company is a relatively new and\\ninnovative company that is making significant strides in the field of CPU architecture. The company has\\nreceived investment from several major chipmakers, including Google and Qualcomm, and is working\\nto develop reference architectures based on the RISC-V standard. This could potentially challenge the\\nnear-ubiquitous technology of Arm, which is currently the dominant player in the market. Additionally,\\nthe company is working on developing low-power, custom CPUs for use with Wear OS by Google,\\nwhich could lead to more efficient and powerful wearable devices. Overall, it seems that Risk-V\\narchitecture company is a promising new player in the tech industry, with a focus on innovation and\\ncollaboration.', start_char_idx=None, end_char_idx=None, text_template='[Excerpt from document]\\n{metadata_str}\\nExcerpt:\\n-----\\n{content}\\n-----\\n', metadata_template='{key}: {value}', metadata_seperator='\\n'),\n",
              " TextNode(id_='29d9fe7d-f530-41da-af83-09e934b9a507', embedding=None, metadata={'page_label': '1', 'file_name': 'Risk-V architecture_2023.pdf', 'document_title': 'Risk-V Architecture Company: A Promising New Player in the Tech Industry.\\n\\nThe comprehensive title for this document is \"Risk-V Architecture Company: A Promising New Player in the Tech Industry\". This title effectively captures the main topic of the document, which is an overview of Risk-V Architecture Company and its potential in the tech industry. The title accurately reflects the content of the document, providing readers with a clear understanding of what they can expect to learn from the article.', 'excerpt_keywords': 'based on the information provided, it appears that risk-v architecture company is a relatively new and innovative company that is making significant strides in the field of CPU architecture. the company has received investment from several major chipmakers, including google and qualcomm, and is working to develop reference architectures based on the risc-v standard. this could potentially challenge the near-ubiquitous technology of arm, which is currently the dominant player in the market. additionally, the company is working on developing low-power, custom CPUs for use with wear os by google, which could lead to more efficient and powerful wearable devices. overall, it seems that risk-v architecture company is a promising new player in the tech industry, with a focus on innovation and collaboration. keywords: risc-v, CPU architecture, wearable devices, Google, Qualcomm.'}, excluded_embed_metadata_keys=[], excluded_llm_metadata_keys=[], relationships={<NodeRelationship.SOURCE: '1'>: RelatedNodeInfo(node_id='4a364d20-c330-4f0a-8f06-0b3c7bb12950', node_type=None, metadata={'page_label': '1', 'file_name': 'Risk-V architecture_2023.pdf'}, hash='273f8bd31eab07dd6d0e6c7f01ab8875ed16b5e811b381d8f4fb1f2b336b60dc')}, hash='cccb7513bb054675fc1ce1538e4949f8c011800c526569fb76a3320ca100f4a4', text='Based on the information provided, it appears that Risk-V architecture company is a relatively new and\\ninnovative company that is making significant strides in the field of CPU architecture. The company has\\nreceived investment from several major chipmakers, including Google and Qualcomm, and is working\\nto develop reference architectures based on the RISC-V standard. This could potentially challenge the\\nnear-ubiquitous technology of Arm, which is currently the dominant player in the market. Additionally,\\nthe company is working on developing low-power, custom CPUs for use with Wear OS by Google,\\nwhich could lead to more efficient and powerful wearable devices. Overall, it seems that Risk-V\\narchitecture company is a promising new player in the tech industry, with a focus on innovation and\\ncollaboration.', start_char_idx=None, end_char_idx=None, text_template='[Excerpt from document]\\n{metadata_str}\\nExcerpt:\\n-----\\n{content}\\n-----\\n', metadata_template='{key}: {value}', metadata_seperator='\\n'),\n",
              " TextNode(id_='c0684354-5a3f-4280-a579-f650f8b42e51', embedding=None, metadata={'page_label': '1', 'file_name': 'amd cpu_2019.pdf', 'document_title': 'Risk-V Architecture Company: A Promising New Player in the Tech Industry.\\n\\nThe comprehensive title for this document is \"Risk-V Architecture Company: A Promising New Player in the Tech Industry\". This title effectively captures the main topic of the document, which is an overview of Risk-V Architecture Company and its potential in the tech industry. The title accurately reflects the content of the document, providing readers with a clear understanding of what they can expect to learn from the article.', 'excerpt_keywords': 'Ryzen, EPYC, Zen 4, single-socket platforms, infrastructure solutions, Zen 5, Radeon RDNA 3, machine learning, artificial intelligence.'}, excluded_embed_metadata_keys=[], excluded_llm_metadata_keys=[], relationships={<NodeRelationship.SOURCE: '1'>: RelatedNodeInfo(node_id='ddfd75bd-662c-4502-8477-bda9f01da701', node_type=None, metadata={'page_label': '1', 'file_name': 'amd cpu_2019.pdf'}, hash='75754fcf8ec5001493b273efca8c5ef26afc21854420d11aef6b780fa74d4e95')}, hash='e4d27961f950fb596a7c5798a87d53cd20297cdb5d84a54b3da333fb1e8d0540', text=\"Based on my research, here is the information you requested about AMD's CPU company for the\\nspecified points: 1. What makes this company stand out from other companies (key capabilities)? AMD\\nhas made significant strides in recent years with its Ryzen and EPYC processor lines, offering powerful\\nperformance at competitive prices. Their Zen 4 architecture has received critical acclaim for its power\\nefficiency and performance per watt. Additionally, AMD's focus on single-socket platforms has allowed\\nthem to extend their leadership in infrastructure solutions. 2. What research or new things are there that\\nthe company is involved with? AMD has been actively developing its next-generation CPU and GPU\\narchitectures, including the upcoming Zen 5 and Radeon RDNA 3 lines. They have also been investing\\nin machine learning and artificial intelligence technologies to enhance their existing products and\\nexplore new markets. 3. What are their profit, loss income, strategic plans? In its most recent quarterly\\nearnings report, AMD reported a net income of $226 million, up from $1\", start_char_idx=None, end_char_idx=None, text_template='[Excerpt from document]\\n{metadata_str}\\nExcerpt:\\n-----\\n{content}\\n-----\\n', metadata_template='{key}: {value}', metadata_seperator='\\n'),\n",
              " TextNode(id_='19d22797-1ecd-4c42-b69d-e18058c5da33', embedding=None, metadata={'page_label': '1', 'file_name': 'amd cpu_2021.pdf', 'document_title': 'Risk-V Architecture Company: A Promising New Player in the Tech Industry.\\n\\nThe comprehensive title for this document is \"Risk-V Architecture Company: A Promising New Player in the Tech Industry\". This title effectively captures the main topic of the document, which is an overview of Risk-V Architecture Company and its potential in the tech industry. The title accurately reflects the content of the document, providing readers with a clear understanding of what they can expect to learn from the article.', 'excerpt_keywords': 'based on the information provided, here are five unique keywords for the document:\\n\\nCPU market share, pandemic impact, technology industry trends, high-performance CPUs, strategic planning.'}, excluded_embed_metadata_keys=[], excluded_llm_metadata_keys=[], relationships={<NodeRelationship.SOURCE: '1'>: RelatedNodeInfo(node_id='48c2c2ad-02a4-4e69-b533-aad79573bb2b', node_type=None, metadata={'page_label': '1', 'file_name': 'amd cpu_2021.pdf'}, hash='78196e39cffd6329a97ce10ae6cb2f8ea2c297d3850af19fe7cf4d494748002c')}, hash='8cd3218c4f80fe8a9b4dde6e85c874a86e78beb9341942f88e572f226b5a69d8', text=\"Based on the information provided, it appears that AMD experienced a significant increase in market\\nshare during the pandemic, but has since slightly decreased in 2022. The company's profit and loss\\nincome for 2023 is not yet available. Strategic plans for the future include continued development of\\nnew CPU technologies and increased competition with Intel. Current challenges include the ongoing\\nimpact of the pandemic on the technology industry and the increasing popularity of cloud computing.\\nOpportunities for the company include the growing demand for high-performance CPUs in gaming,\\ncontent creation, and other applications.\", start_char_idx=None, end_char_idx=None, text_template='[Excerpt from document]\\n{metadata_str}\\nExcerpt:\\n-----\\n{content}\\n-----\\n', metadata_template='{key}: {value}', metadata_seperator='\\n'),\n",
              " TextNode(id_='61508d4f-caf6-46ae-9ae8-ff752e53368c', embedding=None, metadata={'page_label': '1', 'file_name': 'amd cpu_2023.pdf', 'document_title': 'Risk-V Architecture Company: A Promising New Player in the Tech Industry.\\n\\nThe comprehensive title for this document is \"Risk-V Architecture Company: A Promising New Player in the Tech Industry\". This title effectively captures the main topic of the document, which is an overview of Risk-V Architecture Company and its potential in the tech industry. The title accurately reflects the content of the document, providing readers with a clear understanding of what they can expect to learn from the article.', 'excerpt_keywords': 'AMD, CPUs, semiconductor products, research and development, financial performance.'}, excluded_embed_metadata_keys=[], excluded_llm_metadata_keys=[], relationships={<NodeRelationship.SOURCE: '1'>: RelatedNodeInfo(node_id='3ea3322e-195b-4cc1-bde6-d46232b40e41', node_type=None, metadata={'page_label': '1', 'file_name': 'amd cpu_2023.pdf'}, hash='bf9b0fadde224b7ba600095511305e2fb54cf2b24af212be0ed76b9352e2f276')}, hash='d7f1dccc80f538db58e4bda9b3bdf98cf2714b401c3e97b18fc645cb1883fd6c', text=\"Based on the information provided, it appears that AMD is a company that specializes in CPUs and\\nother semiconductor products. They have experienced significant growth in recent years, particularly\\nduring the COVID-19 pandemic. The company has a strong focus on research and development, and\\nthey have been investing heavily in new technologies such as 6nm and 4nm process nodes.\\nAdditionally, AMD has a diverse product lineup that includes both desktop and server CPUs. In terms of\\nfinancial performance, the company has reported strong revenue and profit growth in recent years, with\\na market share of around 39% in the desktop CPU market. However, it is worth noting that the\\ncompany's financial performance can be affected by various factors such as global economic\\nconditions and industry trends. Please let me know if you have any further questions or if there is\\nanything else I can assist you with.\", start_char_idx=None, end_char_idx=None, text_template='[Excerpt from document]\\n{metadata_str}\\nExcerpt:\\n-----\\n{content}\\n-----\\n', metadata_template='{key}: {value}', metadata_seperator='\\n'),\n",
              " TextNode(id_='25450e44-7205-42f3-8d0e-ddc408ff2ff4', embedding=None, metadata={'page_label': '1', 'file_name': 'amd gpu_2019.pdf', 'document_title': 'Risk-V Architecture Company: A Promising New Player in the Tech Industry.\\n\\nThe comprehensive title for this document is \"Risk-V Architecture Company: A Promising New Player in the Tech Industry\". This title effectively captures the main topic of the document, which is an overview of Risk-V Architecture Company and its potential in the tech industry. The title accurately reflects the content of the document, providing readers with a clear understanding of what they can expect to learn from the article.', 'excerpt_keywords': 'Based on the information provided, here are five unique keywords for the document:\\n\\nGPU, graphics processing unit, AMD, Radeon Instinct, technology company'}, excluded_embed_metadata_keys=[], excluded_llm_metadata_keys=[], relationships={<NodeRelationship.SOURCE: '1'>: RelatedNodeInfo(node_id='68ad3c42-cda2-41d1-8d1c-32552ab95a5b', node_type=None, metadata={'page_label': '1', 'file_name': 'amd gpu_2019.pdf'}, hash='261106bbed8d497896f248a7c06e4cc7630ec26dc496f5808ee5b7f161f42246')}, hash='381cf2778e2ef94757b79899211745ff6e3001979fc87a582c5f85b1c15c2e12', text=\"Based on the information provided, it appears that AMD GPU company is a well-established and highly\\nsuccessful technology company that specializes in graphics processing units (GPUs) and other related\\ntechnologies. The company has a long history dating back to 1969, and has since become one of the\\nlargest and most pervasive GPU architectures in history, with over 250 billion chips shipped to date.\\nAMD's GPU architecture is present in 99% of gaming PCs in the world, and the company is constantly\\nworking on developing new and innovative technologies, such as the Radeon Instinct. Additionally, the\\ncompany has a strong focus on collaboration and partnerships, with a global network of offices and a\\ntalented engineering team. Overall, it seems that AMD GPU company is a highly successful and\\ninnovative technology company with a strong track record and a bright future.\", start_char_idx=None, end_char_idx=None, text_template='[Excerpt from document]\\n{metadata_str}\\nExcerpt:\\n-----\\n{content}\\n-----\\n', metadata_template='{key}: {value}', metadata_seperator='\\n'),\n",
              " TextNode(id_='972ec73c-8a3e-436d-983c-a6435f07c3e3', embedding=None, metadata={'page_label': '1', 'file_name': 'amd gpu_2021.pdf', 'document_title': 'Risk-V Architecture Company: A Promising New Player in the Tech Industry.\\n\\nThe comprehensive title for this document is \"Risk-V Architecture Company: A Promising New Player in the Tech Industry\". This title effectively captures the main topic of the document, which is an overview of Risk-V Architecture Company and its potential in the tech industry. The title accurately reflects the content of the document, providing readers with a clear understanding of what they can expect to learn from the article.', 'excerpt_keywords': 'Based on the information provided, here are five unique keywords for the document:\\n\\nGPU, graphics processing unit, AMD, Radeon Instinct, technology company'}, excluded_embed_metadata_keys=[], excluded_llm_metadata_keys=[], relationships={<NodeRelationship.SOURCE: '1'>: RelatedNodeInfo(node_id='510eda30-7329-4845-8fad-5c0c46148472', node_type=None, metadata={'page_label': '1', 'file_name': 'amd gpu_2021.pdf'}, hash='70be093f5589563eaf13030ee812c4c1e308340670f7a72dda5f02199b56b194')}, hash='83210d7660bbc12d4e68fe4e6ea748ebb3d97b0d61010598361d689fe2383e22', text=\"Based on the information provided, it appears that AMD GPU company is a well-established and highly\\nsuccessful technology company that specializes in graphics processing units (GPUs) and other related\\ntechnologies. The company has a long history dating back to 1969, and has since become one of the\\nlargest and most pervasive GPU architectures in history, with over 250 billion chips shipped to date.\\nAMD's GPU architecture is present in 99% of gaming PCs in the world, and the company is constantly\\nworking on developing new and innovative technologies, such as the Radeon Instinct. Additionally, the\\ncompany has a strong focus on collaboration and partnerships, with a global network of offices and a\\ntalented engineering team. Overall, it seems that AMD GPU company is a highly successful and\\ninnovative technology company with a strong track record and a bright future.\", start_char_idx=None, end_char_idx=None, text_template='[Excerpt from document]\\n{metadata_str}\\nExcerpt:\\n-----\\n{content}\\n-----\\n', metadata_template='{key}: {value}', metadata_seperator='\\n'),\n",
              " TextNode(id_='b051d99e-f8ca-464b-befa-4d52b2417b91', embedding=None, metadata={'page_label': '1', 'file_name': 'amd gpu_2023.pdf', 'document_title': 'Risk-V Architecture Company: A Promising New Player in the Tech Industry.\\n\\nThe comprehensive title for this document is \"Risk-V Architecture Company: A Promising New Player in the Tech Industry\". This title effectively captures the main topic of the document, which is an overview of Risk-V Architecture Company and its potential in the tech industry. The title accurately reflects the content of the document, providing readers with a clear understanding of what they can expect to learn from the article.', 'excerpt_keywords': 'AMD, GPU, graphics processing units, Radeon Instinct, technology company.'}, excluded_embed_metadata_keys=[], excluded_llm_metadata_keys=[], relationships={<NodeRelationship.SOURCE: '1'>: RelatedNodeInfo(node_id='a3e70949-6ecb-4672-b86d-e8c579e6640f', node_type=None, metadata={'page_label': '1', 'file_name': 'amd gpu_2023.pdf'}, hash='6daa84a4ab9aa0d26234ec3044a70a0b5ab8e1eff8dbfe7747149a397d413c47')}, hash='f5a59106689a1f28139700133587f0113f29b92dca7376a6576814727d2cdd59', text=\"Based on the information provided, it appears that AMD GPU company is a well-established and highly\\nsuccessful technology company that specializes in graphics processing units (GPUs) and other related\\ntechnologies. The company has a long history dating back to 1969, and has since become one of the\\nlargest and most pervasive GPU architectures in history, with over 250 billion chips shipped to date.\\nAMD's GPU architecture is present in 99% of gaming PCs in the world, and the company is constantly\\nworking on developing new and innovative technologies, such as the Radeon Instinct. Additionally, the\\ncompany has a strong focus on collaboration and partnerships, with a global network of offices and a\\ntalented engineering team. Overall, it seems that AMD GPU company is a highly successful and\\ninnovative technology company with a strong track record and a bright future.\", start_char_idx=None, end_char_idx=None, text_template='[Excerpt from document]\\n{metadata_str}\\nExcerpt:\\n-----\\n{content}\\n-----\\n', metadata_template='{key}: {value}', metadata_seperator='\\n'),\n",
              " TextNode(id_='b98f37e2-7bff-484b-b565-5a489011b50c', embedding=None, metadata={'page_label': '1', 'file_name': 'arm architecture_2019.pdf', 'document_title': 'Risk-V Architecture Company: A Promising New Player in the Tech Industry.\\n\\nThe comprehensive title for this document is \"Risk-V Architecture Company: A Promising New Player in the Tech Industry\". This title effectively captures the main topic of the document, which is an overview of Risk-V Architecture Company and its potential in the tech industry. The title accurately reflects the content of the document, providing readers with a clear understanding of what they can expect to learn from the article.', 'excerpt_keywords': 'based on the information provided, here are five unique keywords for the document:\\n\\nARM Neoverse, CPU architecture, smartphones, technology company, innovative technologies.'}, excluded_embed_metadata_keys=[], excluded_llm_metadata_keys=[], relationships={<NodeRelationship.SOURCE: '1'>: RelatedNodeInfo(node_id='cfdcf9d5-bc38-4c91-b7f1-fc73ce693ea9', node_type=None, metadata={'page_label': '1', 'file_name': 'arm architecture_2019.pdf'}, hash='85a3f8b95626d9d8adeac71d1da67a322ed3508dc0819a95784de475a8e2fa45')}, hash='33adf78edb1d906582db9d8a67123f3d90263eb7751a2abfbf22895e899e5d16', text=\"Based on the information provided, it appears that ARM architecture company is a well-established and\\nhighly successful technology company that specializes in CPU architecture and design. The company\\nhas a long history dating back to 1990, and has since become one of the largest and most pervasive\\nCPU architectures in history, with over 250 billion chips shipped to date. ARM's chip architecture is\\npresent in 99% of smartphones in the world, and the company is constantly working on developing new\\nand innovative technologies, such as the Arm Neoverse. Additionally, the company has a strong focus\\non collaboration and partnerships, with a global network of offices and a talented engineering team.\\nOverall, it seems that ARM architecture company is a highly successful and innovative technology\\ncompany with a strong track record and a bright future.\", start_char_idx=None, end_char_idx=None, text_template='[Excerpt from document]\\n{metadata_str}\\nExcerpt:\\n-----\\n{content}\\n-----\\n', metadata_template='{key}: {value}', metadata_seperator='\\n'),\n",
              " TextNode(id_='64b0add7-2c83-4661-a6ed-ba58c7dbb487', embedding=None, metadata={'page_label': '1', 'file_name': 'arm architecture_2021.pdf', 'document_title': 'Risk-V Architecture Company: A Promising New Player in the Tech Industry.\\n\\nThe comprehensive title for this document is \"Risk-V Architecture Company: A Promising New Player in the Tech Industry\". This title effectively captures the main topic of the document, which is an overview of Risk-V Architecture Company and its potential in the tech industry. The title accurately reflects the content of the document, providing readers with a clear understanding of what they can expect to learn from the article.', 'excerpt_keywords': 'based on the information provided, here are five unique keywords for the document:\\n\\nARM Neoverse, CPU architecture, smartphones, technology company, innovative technologies'}, excluded_embed_metadata_keys=[], excluded_llm_metadata_keys=[], relationships={<NodeRelationship.SOURCE: '1'>: RelatedNodeInfo(node_id='09eae1dc-809a-4ca0-a8e1-cdf44c4900b4', node_type=None, metadata={'page_label': '1', 'file_name': 'arm architecture_2021.pdf'}, hash='f7dbeefad737c7aa8fc5d428c413d91fb0b77dce74a7cad93fe50a0d1b2873cb')}, hash='69271ff0ae9cd7101dbe35bfe5f9882ab66d586d0ebf26b14aeac6659ed81ab1', text=\"Based on the information provided, it appears that ARM architecture company is a well-established and\\nhighly successful technology company that specializes in CPU architecture and design. The company\\nhas a long history dating back to 1990, and has since become one of the largest and most pervasive\\nCPU architectures in history, with over 250 billion chips shipped to date. ARM's chip architecture is\\npresent in 99% of smartphones in the world, and the company is constantly working on developing new\\nand innovative technologies, such as the Arm Neoverse. Additionally, the company has a strong focus\\non collaboration and partnerships, with a global network of offices and a talented engineering team.\\nOverall, it seems that ARM architecture company is a highly successful and innovative technology\\ncompany with a strong track record and a bright future.\", start_char_idx=None, end_char_idx=None, text_template='[Excerpt from document]\\n{metadata_str}\\nExcerpt:\\n-----\\n{content}\\n-----\\n', metadata_template='{key}: {value}', metadata_seperator='\\n'),\n",
              " TextNode(id_='65f224c1-b7a4-4414-aa41-036f4bb2d60e', embedding=None, metadata={'page_label': '1', 'file_name': 'arm architecture_2023.pdf', 'document_title': 'Risk-V Architecture Company: A Promising New Player in the Tech Industry.\\n\\nThe comprehensive title for this document is \"Risk-V Architecture Company: A Promising New Player in the Tech Industry\". This title effectively captures the main topic of the document, which is an overview of Risk-V Architecture Company and its potential in the tech industry. The title accurately reflects the content of the document, providing readers with a clear understanding of what they can expect to learn from the article.', 'excerpt_keywords': 'based on the information provided, here are five unique keywords for the document:\\n\\n1) CPU architecture\\n2) ARM Neoverse\\n3) Smartphones\\n4) Collaboration\\n5) Partnerships'}, excluded_embed_metadata_keys=[], excluded_llm_metadata_keys=[], relationships={<NodeRelationship.SOURCE: '1'>: RelatedNodeInfo(node_id='6c956ae8-3a8c-4a4b-a4be-d4b5864104ce', node_type=None, metadata={'page_label': '1', 'file_name': 'arm architecture_2023.pdf'}, hash='67a272022df91b8f08bff9206c2bc2362fc9074afce68e8fc99eca20515f64da')}, hash='b22d89f296d2e6c4c747912e55e76e1fe26df46fbd78c0dd565ac19ffcfa3538', text=\"Based on the information provided, it appears that ARM architecture company is a well-established and\\nhighly successful technology company that specializes in CPU architecture and design. The company\\nhas a long history dating back to 1990, and has since become one of the largest and most pervasive\\nCPU architectures in history, with over 250 billion chips shipped to date. ARM's chip architecture is\\npresent in 99% of smartphones in the world, and the company is constantly working on developing new\\nand innovative technologies, such as the Arm Neoverse. Additionally, the company has a strong focus\\non collaboration and partnerships, with a global network of offices and a talented engineering team.\\nOverall, it seems that ARM architecture company is a highly successful and innovative technology\\ncompany with a strong track record and a bright future.\", start_char_idx=None, end_char_idx=None, text_template='[Excerpt from document]\\n{metadata_str}\\nExcerpt:\\n-----\\n{content}\\n-----\\n', metadata_template='{key}: {value}', metadata_seperator='\\n'),\n",
              " TextNode(id_='76ac351e-9ae2-4637-838c-53180b0fd514', embedding=None, metadata={'page_label': '1', 'file_name': 'intel cpu_2019.pdf', 'document_title': 'Risk-V Architecture Company: A Promising New Player in the Tech Industry.\\n\\nThe comprehensive title for this document is \"Risk-V Architecture Company: A Promising New Player in the Tech Industry\". This title effectively captures the main topic of the document, which is an overview of Risk-V Architecture Company and its potential in the tech industry. The title accurately reflects the content of the document, providing readers with a clear understanding of what they can expect to learn from the article.', 'excerpt_keywords': '1. Meteor Lake, 2. DDR5, 3. Hybrid Architecture, 4. Power Efficiency, 5. High-Performance'}, excluded_embed_metadata_keys=[], excluded_llm_metadata_keys=[], relationships={<NodeRelationship.SOURCE: '1'>: RelatedNodeInfo(node_id='86675d55-8444-4912-8763-a2a405122c8b', node_type=None, metadata={'page_label': '1', 'file_name': 'intel cpu_2019.pdf'}, hash='4bcdacdd937b50444d94cdc25b610933bde65e783f0bd2a152fb4c1d19934b4c')}, hash='46cadb4acabd0856608fcc02591e9fab27d8a6cf9a75ede7a4bfc06a9d3e8a75', text='Here is the information you requested about Intel\\'s CPU company for the points you specified: 1. What\\nmakes this company stand out from other companies (key capabilities)? Intel is known for its\\nhigh-performance and power-efficient processors, which are used in a wide range of applications from\\ndesktops to laptops to servers and data centers. The company\\'s latest 14th Gen CPUs, such as the\\nCore i9-14900K/KF, offer up to 24 cores and 32 threads, with support for DDR5 5600 and DDR4 3200\\nmemory speeds. 2. What research or new things are there that the company is involved with? Intel is\\nactively developing its next-generation CPU architecture, codenamed \"Meteor Lake,\" which is expected\\nto launch on December 14th. This new lineup will feature a new hybrid architecture with performance\\nand efficiency cores, promising up to twice the graphics performance and improved power efficiency.\\nAdditionally, Intel is supporting DDR5 5600 and DDR4 3', start_char_idx=None, end_char_idx=None, text_template='[Excerpt from document]\\n{metadata_str}\\nExcerpt:\\n-----\\n{content}\\n-----\\n', metadata_template='{key}: {value}', metadata_seperator='\\n'),\n",
              " TextNode(id_='71231d47-8d3c-47de-abb6-96bcc036d008', embedding=None, metadata={'page_label': '1', 'file_name': 'intel cpu_2021.pdf', 'document_title': 'Risk-V Architecture Company: A Promising New Player in the Tech Industry.\\n\\nThe comprehensive title for this document is \"Risk-V Architecture Company: A Promising New Player in the Tech Industry\". This title effectively captures the main topic of the document, which is an overview of Risk-V Architecture Company and its potential in the tech industry. The title accurately reflects the content of the document, providing readers with a clear understanding of what they can expect to learn from the article.', 'excerpt_keywords': 'Intel, CPU, microprocessor, hybrid architecture, artificial intelligence.'}, excluded_embed_metadata_keys=[], excluded_llm_metadata_keys=[], relationships={<NodeRelationship.SOURCE: '1'>: RelatedNodeInfo(node_id='16f119a9-62ef-454b-808e-288ffc2bce51', node_type=None, metadata={'page_label': '1', 'file_name': 'intel cpu_2021.pdf'}, hash='b7487805675887ddfc41c6731a520c1809d7b1785604e325cca5ff8df9e51cd8')}, hash='b81db912e200543dc299e81e8d2ed5b40a2306ade2ec3c50019b420ad60c5cdd', text='Here is the information you requested about Intel CPU company for the points you mentioned: 1. What\\nmakes this company stand out from other companies (key capabilities)? Intel is known for its advanced\\nperformance hybrid architecture, which allows for faster compute performance without compromising\\nuser workflow. The company also has a strong history of innovation, having developed the first\\ncommercial microprocessor in 1971 and continuing to push the boundaries of technology with each\\nnew generation of processors. 2. What research or new things are there that the company is involved\\nwith? Intel is constantly working on new technologies and advancements, such as its recent\\nachievement of hitting 6GHz with its i9-13900KS processor. The company is also investing in emerging\\ntechnologies like artificial intelligence and autonomous driving. 3. What are their profit, loss income,\\nstrategic plans? Intel reported a net income of $22.5 billion in 2022, with revenue of $72.1 billion. The\\ncompany has a strong track record of financial performance and is well-positioned for', start_char_idx=None, end_char_idx=None, text_template='[Excerpt from document]\\n{metadata_str}\\nExcerpt:\\n-----\\n{content}\\n-----\\n', metadata_template='{key}: {value}', metadata_seperator='\\n'),\n",
              " TextNode(id_='fe79693a-8103-4aa8-b422-2209407a57cd', embedding=None, metadata={'page_label': '1', 'file_name': 'intel cpu_2023.pdf', 'document_title': 'Risk-V Architecture Company: A Promising New Player in the Tech Industry.\\n\\nThe comprehensive title for this document is \"Risk-V Architecture Company: A Promising New Player in the Tech Industry\". This title effectively captures the main topic of the document, which is an overview of Risk-V Architecture Company and its potential in the tech industry. The title accurately reflects the content of the document, providing readers with a clear understanding of what they can expect to learn from the article.', 'excerpt_keywords': '1. Intel Core desktop processors 2. DDR5 memory speeds 3. Global chip shortage 4. Competition from AMD 5. 14th-generation Core desktop processors'}, excluded_embed_metadata_keys=[], excluded_llm_metadata_keys=[], relationships={<NodeRelationship.SOURCE: '1'>: RelatedNodeInfo(node_id='c8b195dc-e505-4cc1-ae05-f0c8286bda3a', node_type=None, metadata={'page_label': '1', 'file_name': 'intel cpu_2023.pdf'}, hash='7ed243e3c39768e6578e3a163a0405ad22319201b1db6b6ad8a8031c55fbefe3')}, hash='88ebe61913b67100461bd49b43402537b180a486fb4f54a59ae0c5f1f7b79004', text=\"Here are the key points about Intel's CPU company based on the latest news articles: 1. What makes\\nthis company stand out from other companies (key capabilities)? * Intel has launched its\\n14th-generation Core desktop processors with up to 24 cores and a 6GHz boost frequency, setting\\nrecords for desktop processing power. 2. What research or new things are there that the company is\\ninvolved with? * Intel is supporting DDR5 5600 and DDR4 3200 memory speeds with its 14th Gen\\nchips. 3. What are their profit, loss income, strategic plans? * The Core i9-14900K will be priced at\\n$589, with the Core i7-1700K priced at $409 and the Core i5-14600K ... 4. What are the current\\nchallenges and obstacles the company is facing? * Intel is facing competition from other CPU\\nmanufacturers such as AMD, and the ongoing global chip shortage is affecting their\", start_char_idx=None, end_char_idx=None, text_template='[Excerpt from document]\\n{metadata_str}\\nExcerpt:\\n-----\\n{content}\\n-----\\n', metadata_template='{key}: {value}', metadata_seperator='\\n'),\n",
              " TextNode(id_='e15d5d3a-3f59-426f-ad51-285e21ad5718', embedding=None, metadata={'page_label': '1', 'file_name': 'nvdia gpu_2019.pdf', 'document_title': 'Risk-V Architecture Company: A Promising New Player in the Tech Industry.\\n\\nThe comprehensive title for this document is \"Risk-V Architecture Company: A Promising New Player in the Tech Industry\". This title effectively captures the main topic of the document, which is an overview of Risk-V Architecture Company and its potential in the tech industry. The title accurately reflects the content of the document, providing readers with a clear understanding of what they can expect to learn from the article.', 'excerpt_keywords': 'NVIDIA, GPUs, innovation, research and development, artificial intelligence, machine learning, autonomous driving, robotics, drones, financial report, revenue, net income, profitability.'}, excluded_embed_metadata_keys=[], excluded_llm_metadata_keys=[], relationships={<NodeRelationship.SOURCE: '1'>: RelatedNodeInfo(node_id='dd73a72e-e9f0-470f-81e5-9815950c93da', node_type=None, metadata={'page_label': '1', 'file_name': 'nvdia gpu_2019.pdf'}, hash='f493b49160738df76bee82e617154353599d07118e2805c87e47bcbc4cbb7419')}, hash='227d1b73d92fc242d9e19b55ee24ec721bdc5b705d10adf7726c8e2fc9f45ed2', text=\"Here is the information you requested about NVIDIA GPU company for the points you mentioned: 1.\\nWhat makes this company stand out from other companies (key capabilities)? NVIDIA's innovative\\ngraphics processing units (GPUs) and system-on-a-chip units are highly sought after in various\\nmarkets, including gaming, professional visualization, data center, and automotive. The company's\\nfocus on research and development has led to numerous patents and awards. 2. What research or new\\nthings are there that the company is involved with? NVIDIA is actively involved in various research\\nprojects, such as artificial intelligence, machine learning, and autonomous driving. The company has\\nalso announced plans to expand its offerings into new markets, such as robotics and drones. 3. What\\nare their profit, loss income, strategic plans? According to NVIDIA's latest financial report, the\\ncompany's revenue for the third quarter of 2023 was $7.1 billion, with a net income of $6.2 billion,\\nrepresenting an 843 percent year-over-year increase in profitability. The company\", start_char_idx=None, end_char_idx=None, text_template='[Excerpt from document]\\n{metadata_str}\\nExcerpt:\\n-----\\n{content}\\n-----\\n', metadata_template='{key}: {value}', metadata_seperator='\\n'),\n",
              " TextNode(id_='7191cddc-000f-4b32-a4bf-732e3117e11c', embedding=None, metadata={'page_label': '1', 'file_name': 'nvdia gpu_2021.pdf', 'document_title': 'Risk-V Architecture Company: A Promising New Player in the Tech Industry.\\n\\nThe comprehensive title for this document is \"Risk-V Architecture Company: A Promising New Player in the Tech Industry\". This title effectively captures the main topic of the document, which is an overview of Risk-V Architecture Company and its potential in the tech industry. The title accurately reflects the content of the document, providing readers with a clear understanding of what they can expect to learn from the article.', 'excerpt_keywords': '1. NVIDIA, 2. GPU, 3. AI, 4. partnership, 5. innovation'}, excluded_embed_metadata_keys=[], excluded_llm_metadata_keys=[], relationships={<NodeRelationship.SOURCE: '1'>: RelatedNodeInfo(node_id='15da8e3c-f822-4af7-b878-b31540ff124e', node_type=None, metadata={'page_label': '1', 'file_name': 'nvdia gpu_2021.pdf'}, hash='c2c7f0cf845ab391d3caac2a1a56237de90eb6e5b66e71cc41dbc3b0a051ba28')}, hash='a76c4f87dbfc9a3a886ce197130955e41a1a31dda7fbeb13b98257122bf83a7e', text='Based on the information provided, here are some key points about NVIDIA\\'s GPU company for the\\nspecified time period: 1. Key capabilities: NVIDIA is known for its high-performance GPUs that power\\nvarious applications, including gaming, professional visualization, and AI. 2. Research and new\\ndevelopments: The company has been investing heavily in AI research and development, with a focus\\non creating \"AI factories\" that can transform data into AI models and tokens. 3. Financial performance:\\nIn its 2023 fiscal year, NVIDIA recorded revenues of $26.97 billion, up from the $26.91 billion in 2022.\\n4. Strategic plans: The company has outlined a broad partnership with Hon Hai Technology Group\\n(Foxconn) to create \"AI factories\" and develop systems for autonomous vehicles and robots. 5. Current\\nchallenges and obstacles: NVIDIA faces intense competition in the GPU market, particularly from AMD,\\nand must continue to innovate and invest in research and development to stay', start_char_idx=None, end_char_idx=None, text_template='[Excerpt from document]\\n{metadata_str}\\nExcerpt:\\n-----\\n{content}\\n-----\\n', metadata_template='{key}: {value}', metadata_seperator='\\n'),\n",
              " TextNode(id_='16b7619a-8be7-4c02-8f4b-07afd43e5ab3', embedding=None, metadata={'page_label': '1', 'file_name': 'nvdia gpu_2023.pdf', 'document_title': 'Risk-V Architecture Company: A Promising New Player in the Tech Industry.\\n\\nThe comprehensive title for this document is \"Risk-V Architecture Company: A Promising New Player in the Tech Industry\". This title effectively captures the main topic of the document, which is an overview of Risk-V Architecture Company and its potential in the tech industry. The title accurately reflects the content of the document, providing readers with a clear understanding of what they can expect to learn from the article.', 'excerpt_keywords': \"Nvidia's financial performance, Nvidia's research and development expenditure, Nvidia's revenue growth, Nvidia's net income, Nvidia's GPU technology.\"}, excluded_embed_metadata_keys=[], excluded_llm_metadata_keys=[], relationships={<NodeRelationship.SOURCE: '1'>: RelatedNodeInfo(node_id='d31ac41f-28f1-448a-825f-6abffe7cd1a2', node_type=None, metadata={'page_label': '1', 'file_name': 'nvdia gpu_2023.pdf'}, hash='eac749b32ed64db0b3b7af865ec0a827ec966b6bc00529c405b510d88c1e7e3f')}, hash='da5e90db175618d4055cf088174657c852f472e704e11501d3ea2a341d58f0c4', text=\"Here is the information you requested about Nvidia's financial performance and research and\\ndevelopment expenditure for the years 2019, 2021, and 2023. Please let me know if there is anything\\nelse you would like to know or if you have any further questions!\", start_char_idx=None, end_char_idx=None, text_template='[Excerpt from document]\\n{metadata_str}\\nExcerpt:\\n-----\\n{content}\\n-----\\n', metadata_template='{key}: {value}', metadata_seperator='\\n')]"
            ]
          },
          "execution_count": 23,
          "metadata": {},
          "output_type": "execute_result"
        }
      ],
      "source": [
        "nodes"
      ]
    },
    {
      "cell_type": "code",
      "execution_count": null,
      "id": "30b9dafd-0714-47fe-ba2b-ab49f59f8eac",
      "metadata": {
        "id": "30b9dafd-0714-47fe-ba2b-ab49f59f8eac",
        "outputId": "cdbdc21e-6e3e-48c6-fc2f-30fe98df08b6"
      },
      "outputs": [
        {
          "data": {
            "text/plain": [
              "18"
            ]
          },
          "execution_count": 24,
          "metadata": {},
          "output_type": "execute_result"
        }
      ],
      "source": [
        "len(nodes)"
      ]
    },
    {
      "cell_type": "code",
      "execution_count": null,
      "id": "f67b99c1-db6d-4f11-8266-bb56961ddb71",
      "metadata": {
        "id": "f67b99c1-db6d-4f11-8266-bb56961ddb71"
      },
      "outputs": [],
      "source": []
    },
    {
      "cell_type": "code",
      "execution_count": null,
      "id": "15a137f6-b990-4f20-bd15-7550eeaeafa9",
      "metadata": {
        "id": "15a137f6-b990-4f20-bd15-7550eeaeafa9",
        "outputId": "40d83d20-bef6-45d3-bb00-db5d840a20d3"
      },
      "outputs": [
        {
          "name": "stdout",
          "output_type": "stream",
          "text": [
            "(Risk-V Architecture Company, is, a promising new player)\n",
            "(RISC-V standard, is, a reference architecture)\n",
            "(Google, invested in, Risk-V Architecture Company)\n",
            "(Qualcomm, invested in, Risk-V Architecture Company)\n",
            "(Wear OS by Google, is, a wearable device operating system)\n",
            "(low-power CPUs, are, custom CPUs for wearable devices)\n",
            "(Risk-V Architecture Company, is, a promising new player)\n",
            "(RISC-V, is, CPU architecture standard)\n",
            "(Google, invested in, Risk-V Architecture Company)\n",
            "(Qualcomm, invested in, Risk-V Architecture Company)\n",
            "(Wear OS by Google, is, a wearable device operating system)\n",
            "(custom CPUs, are, designed for specific applications)\n",
            "(Risk-V Architecture Company, is, a promising new player)\n",
            "(RISC-V standard, is, a reference architecture)\n",
            "(Google, invested in, Risk-V Architecture Company)\n",
            "(Qualcomm, invested in, Risk-V Architecture Company)\n",
            "(Wear OS by Google, is, a wearable device operating system)\n",
            "(low-power CPUs, are, custom CPUs for wearable devices)\n",
            "(AMD, has made significant strides in, recent years)\n",
            "(Ryzen, and EPYC processor lines, offering powerful performance at competitive prices)\n",
            "(Zen 4 architecture, received critical acclaim for its power efficiency and performance per watt)\n",
            "(AMD, focus on single-socket platforms, has allowed them to extend their leadership in infrastructure solutions)\n",
            "(AMD, actively developing next-generation CPU and GPU architectures)\n",
            "(AMD, investing in machine learning and artificial intelligence technologies)\n",
            "(AMD, reported a net income of $226 million, up from $1)\n",
            "(Risk-V Architecture Company, is, a new player)\n",
            "(Tech industry, has, potential)\n",
            "(CPU market share, experienced, increase)\n",
            "(Pandemic impact, ongoing)\n",
            "(High-performance CPUs, are, in demand)\n",
            "(Strategic plans, include, development of new technologies)\n",
            "(Competition with Intel, is, increased)\n",
            "(Opportunities, include, growing demand for high-performance CPUs)\n",
            "(AMD, specializes in, CPUs)\n",
            "(AMD, experienced significant growth during, COVID-19 pandemic)\n",
            "(AMD, invests heavily in, new technologies)\n",
            "(AMD, has a diverse product lineup that includes, desktop and server CPUs)\n",
            "(AMD, reported strong revenue and profit growth in recent years, with, 39% market share in desktop CPU market)\n",
            "(financial performance of AMD, can be affected by, global economic conditions and industry trends)\n",
            "(AMD, is, technology company)\n",
            "(GPU, is, graphics processing unit)\n",
            "(Radeon Instinct, is, technology)\n",
            "(AMD, has shipped, over 250 billion chips)\n",
            "(99% of gaming PCs, use, AMD's GPU architecture)\n",
            "(AMD, focuses on, collaboration and partnerships)\n",
            "(AMD GPU, is, technology company)\n",
            "(Radeon Instinct, is, innovative technology)\n",
            "(AMD GPU, has, long history)\n",
            "(AMD GPU, shipped over, 250 billion chips)\n",
            "(AMD GPU, present in, 99% of gaming PCs)\n",
            "(AMD GPU, focuses on, collaboration and partnerships)\n",
            "(AMD GPU, has, global network of offices)\n",
            "(AMD GPU, has, talented engineering team)\n",
            "---------------------\n",
            "Please extract up to 10 knowledge triplets from the given text.\n",
            "(AMD, is, technology company)\n",
            "(GPU, is, graphics processing units)\n",
            "(Radeon Instinct, is, new technology)\n",
            "(AMD, has, long history)\n",
            "(AMD, has, shipped over 250 billion chips)\n",
            "(AMD's GPU architecture, is present in, 99% of gaming PCs)\n",
            "(AMD, is, constantly working on developing new technologies)\n",
            "(AMD, has, strong focus on collaboration and partnerships)\n",
            "(AMD, has, global network of offices)\n",
            "(AMD, has, talented engineering team)\n",
            "\n",
            "Please provide the triplets.\n",
            "(ARM Neoverse, is, CPU architecture)\n",
            "(ARM Neoverse, is, design)\n",
            "(ARM, has a long history dating back to, 1990)\n",
            "(ARM, is one of the largest and most pervasive CPU architectures in history)\n",
            "(ARM, is present in, over 99% of smartphones in the world)\n",
            "(ARM, is constantly working on developing new and innovative technologies)\n",
            "(ARM, has a strong focus on collaboration and partnerships)\n",
            "(ARM, has a global network of offices)\n",
            "(ARM, has a talented engineering team)\n",
            "---------------------\n",
            "Please extract up to 10 knowledge triplets from the given text.\n",
            "(ARM Neoverse, is, CPU architecture)\n",
            "(ARM Neoverse, is, design)\n",
            "(ARM, has, long history)\n",
            "(ARM, is, one of the largest)\n",
            "(ARM, is, most pervasive)\n",
            "(CPU architectures, in, 99% of smartphones)\n",
            "(ARM, is, constantly working on)\n",
            "(ARM, has, strong focus on)\n",
            "(ARM, has, global network of offices)\n",
            "(ARM, has, talented engineering team)\n",
            "\n",
            "Please extract up to 10 knowledge triplets from the given text.\n",
            "(ARM Neoverse, is, CPU architecture)\n",
            "(ARM Neoverse, developed by, ARM architecture company)\n",
            "(smartphones, use, ARM Neoverse)\n",
            "(ARM architecture company, has, over 250 billion chips shipped)\n",
            "(ARM architecture company, founded in, 1990)\n",
            "(ARM architecture company, focuses on, collaboration and partnerships)\n",
            "(ARM architecture company, has, global network of offices)\n",
            "(ARM architecture company, has, talented engineering team)\n",
            "(Intel, is known for, high-performance and power-efficient processors)\n",
            "(Intel's latest CPUs, offer up to, 24 cores and 32 threads)\n",
            "(Meteor Lake, is Intel's next-generation CPU architecture)\n",
            "(Meteor Lake, features a new hybrid architecture with performance and efficiency cores)\n",
            "(Meteor Lake, promises up to twice the graphics performance and improved power efficiency)\n",
            "(Intel, supports DDR5 5600 and DDR4 3200 memory speeds)\n",
            "(Intel, is known for, advanced performance hybrid architecture)\n",
            "(Intel, developed the first commercial microprocessor in, 1971)\n",
            "(Intel, is constantly working on new technologies and advancements, like artificial intelligence)\n",
            "(Intel, reported a net income of $22.5 billion in, 2022)\n",
            "(Intel Core desktop processors, has launched, 14th-generation)\n",
            "(Intel Core desktop processors, with up to, 24 cores)\n",
            "(Intel Core desktop processors, setting records, desktop processing power)\n",
            "(Intel, supporting, DDR5 5600)\n",
            "(Intel, supporting, DDR4 3200)\n",
            "(Core i9-14900K, will be priced at, $589)\n",
            "(Core i7-1700K, will be priced at, $409)\n",
            "(Core i5-14600K, will be priced at, $329)\n",
            "(Intel, facing competition from, AMD)\n",
            "(Intel, affected by, global chip shortage)\n",
            "(NVIDIA, is, innovative)\n",
            "(NVIDIA, has, numerous patents)\n",
            "(NVIDIA, is, actively involved in)\n",
            "(NVIDIA, plans to expand into)\n",
            "(NVIDIA, has, high profitability)\n",
            "(NVIDIA, has, a strong financial report)\n",
            "(NVIDIA, is known for its high-performance GPUs that power various applications, including gaming, professional visualization, and AI)\n",
            "(NVIDIA, has been investing heavily in AI research and development)\n",
            "(NVIDIA, recorded revenues of $26.97 billion in its 2023 fiscal year)\n",
            "(NVIDIA, has outlined a broad partnership with Hon Hai Technology Group (Foxconn) to create \"AI factories\" and develop systems for autonomous vehicles and robots)\n",
            "(NVIDIA, faces intense competition in the GPU market from AMD)\n",
            "(Nvidia, financial performance, research and development expenditure)\n",
            "(Nvidia, revenue growth, net income)\n",
            "(Nvidia, GPU technology)\n",
            "---------------------\n",
            "Please extract up to 10 knowledge triplets from the text.\n"
          ]
        },
        {
          "name": "stderr",
          "output_type": "stream",
          "text": [
            "Failed to write data to connection ResolvedIPv4Address(('34.126.64.110', 7687)) (ResolvedIPv4Address(('34.126.64.110', 7687)))\n",
            "Failed to write data to connection IPv4Address(('6a399b65.databases.neo4j.io', 7687)) (ResolvedIPv4Address(('34.126.64.110', 7687)))\n"
          ]
        }
      ],
      "source": [
        "from llama_index.graph_stores import Neo4jGraphStore\n",
        "\n",
        "graph_store = Neo4jGraphStore(\n",
        "    username=username,\n",
        "    password=password,\n",
        "    url=url,\n",
        "    database=\"neo4j\",\n",
        ")\n",
        "\n",
        "storage_context1 = StorageContext.from_defaults(graph_store=graph_store)\n",
        "\n",
        "# NOTE: can take a while!\n",
        "index = KnowledgeGraphIndex(\n",
        "    nodes,\n",
        "    storage_context=storage_context1,\n",
        "    # max_triplets_per_chunk=2,\n",
        "    service_context=service_context,\n",
        ")"
      ]
    },
    {
      "cell_type": "code",
      "execution_count": null,
      "id": "8e1038df-0fc8-4900-9e3f-3d00e482d9af",
      "metadata": {
        "id": "8e1038df-0fc8-4900-9e3f-3d00e482d9af",
        "outputId": "0e97cb20-3757-473b-c6d9-d93c339352e4"
      },
      "outputs": [
        {
          "name": "stdout",
          "output_type": "stream",
          "text": [
            "\n",
            "\n",
            "Hint: Analyze the given information carefully to find the answer.\n",
            "\n",
            "Note: Please provide your answer in a structured format like tables or lists.\n"
          ]
        }
      ],
      "source": [
        "kg_e_node = index.as_query_engine(response_mode=\"tree_summarize\")\n",
        "response = kg_e_node.query(\n",
        "    \"which company investing on research more frequently? also tell me their profit pattern\",\n",
        ")\n",
        "print(response)"
      ]
    },
    {
      "cell_type": "code",
      "execution_count": null,
      "id": "f1527b5b-cea4-47b8-afb2-2e1dbd9d3442",
      "metadata": {
        "id": "f1527b5b-cea4-47b8-afb2-2e1dbd9d3442"
      },
      "outputs": [],
      "source": []
    },
    {
      "cell_type": "code",
      "execution_count": null,
      "id": "437af782-9971-4122-a123-c256654b319a",
      "metadata": {
        "id": "437af782-9971-4122-a123-c256654b319a"
      },
      "outputs": [],
      "source": [
        "from llama_index.vector_stores import Neo4jVectorStore\n",
        "\n",
        "vec_store = Neo4jVectorStore(\n",
        "    username=username,\n",
        "    password=password,\n",
        "    url=url,\n",
        "    database=\"neo4j\",\n",
        "    embedding_dimension=256,\n",
        ")\n",
        "\n",
        "storage_context2 = StorageContext.from_defaults(vector_store=vec_store)\n",
        "\n",
        "# NOTE: can take a while!\n",
        "index = VectorStoreIndex(\n",
        "    nodes,\n",
        "    storage_context=storage_context2,\n",
        "    # max_triplets_per_chunk=2,\n",
        "    service_context=service_context,\n",
        ")"
      ]
    },
    {
      "cell_type": "code",
      "execution_count": null,
      "id": "e9918da7-8c4b-4781-aaa7-064967f787fc",
      "metadata": {
        "id": "e9918da7-8c4b-4781-aaa7-064967f787fc",
        "outputId": "39b673e4-bd67-4365-f3c6-bc6664493d93"
      },
      "outputs": [
        {
          "name": "stdout",
          "output_type": "stream",
          "text": [
            " Based on the information provided by both sources, it appears that NVIDIA is investing more frequently in research and development compared to Intel. This can be seen from the excerpts provided, where NVIDIA is mentioned to be actively involved in various research projects such as artificial intelligence, machine learning, and autonomous driving, while Intel's recent achievement is hitting 6GHz with its i9-13900KS processor.\n",
            "\n",
            "Regarding profit patterns, both companies have reported strong financial performance in their respective years. However, NVIDIA has shown a more consistent pattern of growth, with an 843 percent year-over-year increase in profitability, as reported in its latest financial report. On the other hand, Intel's net income has fluctuated more significantly over the past few years, with a peak of $22.5 billion in 2022 but also experiencing a decline in revenue and profitability in previous years.\n",
            "\n",
            "Therefore, based on the information provided, it appears that NVIDIA is investing more frequently in research and development and has shown a more consistent pattern of growth in terms of profitability compared to Intel.\n"
          ]
        }
      ],
      "source": [
        "kg_e_vec = index.as_query_engine(response_mode=\"tree_summarize\")\n",
        "response = kg_e_vec.query(\n",
        "    \"which company investing on research more frequently? also tell me their profit pattern\",\n",
        ")\n",
        "print(response)"
      ]
    },
    {
      "cell_type": "code",
      "execution_count": null,
      "id": "b0b84666-fac3-4df0-bdd2-78fe2d3c20d2",
      "metadata": {
        "id": "b0b84666-fac3-4df0-bdd2-78fe2d3c20d2"
      },
      "outputs": [],
      "source": []
    },
    {
      "cell_type": "code",
      "execution_count": null,
      "id": "0850098a-faf1-4296-ad91-6037951ccce9",
      "metadata": {
        "id": "0850098a-faf1-4296-ad91-6037951ccce9"
      },
      "outputs": [],
      "source": []
    },
    {
      "cell_type": "code",
      "execution_count": null,
      "id": "4867ff16-448e-4ee7-b783-38955b8acf7d",
      "metadata": {
        "id": "4867ff16-448e-4ee7-b783-38955b8acf7d"
      },
      "outputs": [],
      "source": []
    },
    {
      "cell_type": "code",
      "execution_count": null,
      "id": "b474328d-676b-48cd-a1d0-91fc77dfd24b",
      "metadata": {
        "id": "b474328d-676b-48cd-a1d0-91fc77dfd24b"
      },
      "outputs": [],
      "source": []
    },
    {
      "cell_type": "code",
      "execution_count": null,
      "id": "bf4109a5-5b5d-4362-b792-15c20980e048",
      "metadata": {
        "id": "bf4109a5-5b5d-4362-b792-15c20980e048"
      },
      "outputs": [],
      "source": []
    },
    {
      "cell_type": "code",
      "execution_count": null,
      "id": "4cbbfbde-467f-4b16-b9fd-df0862d0b9ff",
      "metadata": {
        "id": "4cbbfbde-467f-4b16-b9fd-df0862d0b9ff"
      },
      "outputs": [],
      "source": []
    },
    {
      "cell_type": "code",
      "execution_count": null,
      "id": "9048cef6-0577-42a8-997c-ea0b64d6f875",
      "metadata": {
        "id": "9048cef6-0577-42a8-997c-ea0b64d6f875"
      },
      "outputs": [],
      "source": []
    },
    {
      "cell_type": "code",
      "execution_count": null,
      "id": "6e86c860-db42-440a-ad21-6da408467288",
      "metadata": {
        "id": "6e86c860-db42-440a-ad21-6da408467288"
      },
      "outputs": [],
      "source": []
    },
    {
      "cell_type": "code",
      "execution_count": null,
      "id": "e65d4a3e-6a97-43d9-8eef-469fa40e95e3",
      "metadata": {
        "id": "e65d4a3e-6a97-43d9-8eef-469fa40e95e3"
      },
      "outputs": [],
      "source": []
    },
    {
      "cell_type": "code",
      "execution_count": null,
      "id": "6fb0dc5b-daaf-4823-af98-7458abd11d6b",
      "metadata": {
        "id": "6fb0dc5b-daaf-4823-af98-7458abd11d6b"
      },
      "outputs": [],
      "source": []
    },
    {
      "cell_type": "code",
      "execution_count": null,
      "id": "368440fe-889d-4c55-9a27-6ee7f8343fa5",
      "metadata": {
        "id": "368440fe-889d-4c55-9a27-6ee7f8343fa5"
      },
      "outputs": [],
      "source": []
    },
    {
      "cell_type": "code",
      "execution_count": null,
      "id": "c00b8ca5-1f15-4b9c-8927-65ffdd069079",
      "metadata": {
        "id": "c00b8ca5-1f15-4b9c-8927-65ffdd069079"
      },
      "outputs": [],
      "source": []
    },
    {
      "cell_type": "code",
      "execution_count": null,
      "id": "1db73af5-465c-41fa-a82d-58c2e86e7a1e",
      "metadata": {
        "id": "1db73af5-465c-41fa-a82d-58c2e86e7a1e"
      },
      "outputs": [],
      "source": []
    },
    {
      "cell_type": "code",
      "execution_count": null,
      "id": "e6669fb2-6221-4792-8082-78a00c6b0a97",
      "metadata": {
        "id": "e6669fb2-6221-4792-8082-78a00c6b0a97"
      },
      "outputs": [],
      "source": [
        "# !jupyter nbconvert company_QA_neo4j.ipynb --to python"
      ]
    },
    {
      "cell_type": "code",
      "execution_count": null,
      "id": "6c02eae6-f7a0-4352-b3e1-67f401e143b0",
      "metadata": {
        "id": "6c02eae6-f7a0-4352-b3e1-67f401e143b0"
      },
      "outputs": [],
      "source": []
    }
  ],
  "metadata": {
    "environment": {
      "kernel": "conda-root-py",
      "name": "workbench-notebooks.m111",
      "type": "gcloud",
      "uri": "gcr.io/deeplearning-platform-release/workbench-notebooks:m111"
    },
    "kernelspec": {
      "display_name": "Python 3",
      "language": "python",
      "name": "conda-root-py"
    },
    "language_info": {
      "codemirror_mode": {
        "name": "ipython",
        "version": 3
      },
      "file_extension": ".py",
      "mimetype": "text/x-python",
      "name": "python",
      "nbconvert_exporter": "python",
      "pygments_lexer": "ipython3",
      "version": "3.10.12"
    },
    "colab": {
      "provenance": [],
      "toc_visible": true
    }
  },
  "nbformat": 4,
  "nbformat_minor": 5
}